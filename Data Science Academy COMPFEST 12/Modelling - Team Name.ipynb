{
  "nbformat": 4,
  "nbformat_minor": 0,
  "metadata": {
    "kernelspec": {
      "display_name": "Python 3",
      "language": "python",
      "name": "python3"
    },
    "language_info": {
      "codemirror_mode": {
        "name": "ipython",
        "version": 3
      },
      "file_extension": ".py",
      "mimetype": "text/x-python",
      "name": "python",
      "nbconvert_exporter": "python",
      "pygments_lexer": "ipython3",
      "version": "3.8.2"
    },
    "colab": {
      "name": "Modelling.ipynb",
      "provenance": [],
      "collapsed_sections": [
        "u-YmXKH5v6za",
        "7xxe5rFEPIcL",
        "TOG6fR88PIcQ",
        "yTTBnjwJPIc4",
        "IWfJrBYlPIdD",
        "bznWHY4tPIdT",
        "5QSyclKFPIdU",
        "b3EyToh-PId2",
        "UzCmrWK4PIeQ",
        "8d0xebWDPIeW"
      ],
      "toc_visible": true
    }
  },
  "cells": [
    {
      "cell_type": "code",
      "metadata": {
        "id": "31AxQlwmPIaB",
        "colab_type": "code",
        "colab": {
          "base_uri": "https://localhost:8080/",
          "height": 72
        },
        "outputId": "c818db8a-3fde-433a-91fe-5790cf5039d0"
      },
      "source": [
        "import pandas as pd\n",
        "import numpy as np\n",
        "import matplotlib.pyplot as plt\n",
        "import seaborn as sns"
      ],
      "execution_count": 1,
      "outputs": [
        {
          "output_type": "stream",
          "text": [
            "/usr/local/lib/python3.6/dist-packages/statsmodels/tools/_testing.py:19: FutureWarning: pandas.util.testing is deprecated. Use the functions in the public API at pandas.testing instead.\n",
            "  import pandas.util.testing as tm\n"
          ],
          "name": "stderr"
        }
      ]
    },
    {
      "cell_type": "code",
      "metadata": {
        "id": "OQNy6po9PoGq",
        "colab_type": "code",
        "colab": {
          "base_uri": "https://localhost:8080/",
          "height": 34
        },
        "outputId": "c60eb881-8e04-4023-c556-815032464993"
      },
      "source": [
        "from google.colab import drive\n",
        "drive.mount('/content/drive')"
      ],
      "execution_count": 2,
      "outputs": [
        {
          "output_type": "stream",
          "text": [
            "Drive already mounted at /content/drive; to attempt to forcibly remount, call drive.mount(\"/content/drive\", force_remount=True).\n"
          ],
          "name": "stdout"
        }
      ]
    },
    {
      "cell_type": "code",
      "metadata": {
        "id": "EzgQSyYxPIaK",
        "colab_type": "code",
        "colab": {
          "base_uri": "https://localhost:8080/",
          "height": 222
        },
        "outputId": "31807d6e-e464-4999-d872-1a55efae7db1"
      },
      "source": [
        "df = pd.read_csv('/content/drive/My Drive/COMPFEST 12/DSA Compfest/Camp 2/project/default_sample.csv')\n",
        "df.head()"
      ],
      "execution_count": 3,
      "outputs": [
        {
          "output_type": "execute_result",
          "data": {
            "text/html": [
              "<div>\n",
              "<style scoped>\n",
              "    .dataframe tbody tr th:only-of-type {\n",
              "        vertical-align: middle;\n",
              "    }\n",
              "\n",
              "    .dataframe tbody tr th {\n",
              "        vertical-align: top;\n",
              "    }\n",
              "\n",
              "    .dataframe thead th {\n",
              "        text-align: right;\n",
              "    }\n",
              "</style>\n",
              "<table border=\"1\" class=\"dataframe\">\n",
              "  <thead>\n",
              "    <tr style=\"text-align: right;\">\n",
              "      <th></th>\n",
              "      <th>age</th>\n",
              "      <th>amount_repaid</th>\n",
              "      <th>amount_spent_next1month</th>\n",
              "      <th>cash_rebate</th>\n",
              "      <th>cash_rebate_amount</th>\n",
              "      <th>credit_rep</th>\n",
              "      <th>credit_rep_plus_moral_rel</th>\n",
              "      <th>credit_rep_version</th>\n",
              "      <th>creditlimit</th>\n",
              "      <th>crowding_out_exp</th>\n",
              "      <th>ctrl</th>\n",
              "      <th>debt_to_income</th>\n",
              "      <th>debt_to_income_moral</th>\n",
              "      <th>default</th>\n",
              "      <th>delinquent</th>\n",
              "      <th>female</th>\n",
              "      <th>followup_exp</th>\n",
              "      <th>income</th>\n",
              "      <th>late_2016</th>\n",
              "      <th>main_exp</th>\n",
              "      <th>male</th>\n",
              "      <th>male_moral</th>\n",
              "      <th>min_payment</th>\n",
              "      <th>moral_all</th>\n",
              "      <th>moral_first</th>\n",
              "      <th>moral_imp</th>\n",
              "      <th>moral_non</th>\n",
              "      <th>moral_rel</th>\n",
              "      <th>moral_repeated</th>\n",
              "      <th>muslim</th>\n",
              "      <th>muslim_moral</th>\n",
              "      <th>old</th>\n",
              "      <th>old_moral</th>\n",
              "      <th>outstanding</th>\n",
              "      <th>p_usage_next1month</th>\n",
              "      <th>poor_credit_history</th>\n",
              "      <th>poor_credit_history_moral</th>\n",
              "      <th>province</th>\n",
              "      <th>province_name</th>\n",
              "      <th>randomcardnumber</th>\n",
              "      <th>religious_plac</th>\n",
              "      <th>repaid_twice_min</th>\n",
              "      <th>sample_before</th>\n",
              "      <th>savings_15</th>\n",
              "      <th>savings_18</th>\n",
              "      <th>savings_account</th>\n",
              "      <th>savings_reduced</th>\n",
              "      <th>simple_rem</th>\n",
              "      <th>simple_rem_plus_due_date_message</th>\n",
              "      <th>time_lag_first_moral</th>\n",
              "      <th>treatment</th>\n",
              "      <th>treatment_repeated</th>\n",
              "      <th>treatment_wave1</th>\n",
              "      <th>treatment_wave2</th>\n",
              "      <th>treatment_wave3</th>\n",
              "      <th>treatment_wave4</th>\n",
              "      <th>treatment_wave5</th>\n",
              "      <th>treatment_wave6</th>\n",
              "      <th>type_obs</th>\n",
              "      <th>wave</th>\n",
              "      <th>default_sample</th>\n",
              "      <th>ctrl_extra_weight</th>\n",
              "      <th>weight</th>\n",
              "      <th>prediction</th>\n",
              "      <th>high_credit_risk</th>\n",
              "      <th>low_credit_risk</th>\n",
              "      <th>religious_province</th>\n",
              "      <th>religious_province_moral</th>\n",
              "      <th>high_credit_risk_50</th>\n",
              "      <th>high_credit_risk_75</th>\n",
              "      <th>high_credit_risk_90</th>\n",
              "      <th>high_credit_risk_95</th>\n",
              "    </tr>\n",
              "  </thead>\n",
              "  <tbody>\n",
              "    <tr>\n",
              "      <th>0</th>\n",
              "      <td>40.250000</td>\n",
              "      <td>484000</td>\n",
              "      <td>0</td>\n",
              "      <td>0</td>\n",
              "      <td>NaN</td>\n",
              "      <td>1</td>\n",
              "      <td>0</td>\n",
              "      <td>2.0</td>\n",
              "      <td>10.0</td>\n",
              "      <td>0</td>\n",
              "      <td>0</td>\n",
              "      <td>NaN</td>\n",
              "      <td>NaN</td>\n",
              "      <td>0</td>\n",
              "      <td>0</td>\n",
              "      <td>1</td>\n",
              "      <td>0</td>\n",
              "      <td>60.0</td>\n",
              "      <td>0</td>\n",
              "      <td>1</td>\n",
              "      <td>NaN</td>\n",
              "      <td>NaN</td>\n",
              "      <td>484000</td>\n",
              "      <td>0</td>\n",
              "      <td>0</td>\n",
              "      <td>0</td>\n",
              "      <td>0</td>\n",
              "      <td>0</td>\n",
              "      <td>0</td>\n",
              "      <td>1</td>\n",
              "      <td>NaN</td>\n",
              "      <td>NaN</td>\n",
              "      <td>NaN</td>\n",
              "      <td>4.84000</td>\n",
              "      <td>0</td>\n",
              "      <td>1</td>\n",
              "      <td>NaN</td>\n",
              "      <td>1</td>\n",
              "      <td>Aceh</td>\n",
              "      <td>28164000075</td>\n",
              "      <td>0</td>\n",
              "      <td>0</td>\n",
              "      <td>0</td>\n",
              "      <td>NaN</td>\n",
              "      <td>NaN</td>\n",
              "      <td>0</td>\n",
              "      <td>NaN</td>\n",
              "      <td>0</td>\n",
              "      <td>0</td>\n",
              "      <td>NaN</td>\n",
              "      <td>credit_rep</td>\n",
              "      <td>NaN</td>\n",
              "      <td>credit_rep</td>\n",
              "      <td>NaN</td>\n",
              "      <td>NaN</td>\n",
              "      <td>NaN</td>\n",
              "      <td>NaN</td>\n",
              "      <td>NaN</td>\n",
              "      <td>Treated</td>\n",
              "      <td>1</td>\n",
              "      <td>1</td>\n",
              "      <td>NaN</td>\n",
              "      <td>1.0</td>\n",
              "      <td>0.054791</td>\n",
              "      <td>0</td>\n",
              "      <td>1</td>\n",
              "      <td>1</td>\n",
              "      <td>NaN</td>\n",
              "      <td>1</td>\n",
              "      <td>0</td>\n",
              "      <td>0</td>\n",
              "      <td>0</td>\n",
              "    </tr>\n",
              "    <tr>\n",
              "      <th>1</th>\n",
              "      <td>56.000000</td>\n",
              "      <td>0</td>\n",
              "      <td>0</td>\n",
              "      <td>0</td>\n",
              "      <td>NaN</td>\n",
              "      <td>0</td>\n",
              "      <td>0</td>\n",
              "      <td>NaN</td>\n",
              "      <td>10.0</td>\n",
              "      <td>0</td>\n",
              "      <td>1</td>\n",
              "      <td>1.0</td>\n",
              "      <td>0.0</td>\n",
              "      <td>1</td>\n",
              "      <td>1</td>\n",
              "      <td>0</td>\n",
              "      <td>0</td>\n",
              "      <td>60.0</td>\n",
              "      <td>0</td>\n",
              "      <td>1</td>\n",
              "      <td>1.0</td>\n",
              "      <td>0.0</td>\n",
              "      <td>575600</td>\n",
              "      <td>0</td>\n",
              "      <td>0</td>\n",
              "      <td>0</td>\n",
              "      <td>0</td>\n",
              "      <td>0</td>\n",
              "      <td>0</td>\n",
              "      <td>1</td>\n",
              "      <td>0.0</td>\n",
              "      <td>1.0</td>\n",
              "      <td>0.0</td>\n",
              "      <td>5.75600</td>\n",
              "      <td>0</td>\n",
              "      <td>1</td>\n",
              "      <td>0.0</td>\n",
              "      <td>1</td>\n",
              "      <td>Aceh</td>\n",
              "      <td>433074000075</td>\n",
              "      <td>0</td>\n",
              "      <td>0</td>\n",
              "      <td>0</td>\n",
              "      <td>NaN</td>\n",
              "      <td>NaN</td>\n",
              "      <td>0</td>\n",
              "      <td>NaN</td>\n",
              "      <td>0</td>\n",
              "      <td>0</td>\n",
              "      <td>NaN</td>\n",
              "      <td>ctrl</td>\n",
              "      <td>NaN</td>\n",
              "      <td>ctrl</td>\n",
              "      <td>NaN</td>\n",
              "      <td>NaN</td>\n",
              "      <td>NaN</td>\n",
              "      <td>NaN</td>\n",
              "      <td>NaN</td>\n",
              "      <td>Control</td>\n",
              "      <td>1</td>\n",
              "      <td>1</td>\n",
              "      <td>NaN</td>\n",
              "      <td>1.0</td>\n",
              "      <td>0.077450</td>\n",
              "      <td>0</td>\n",
              "      <td>1</td>\n",
              "      <td>1</td>\n",
              "      <td>0.0</td>\n",
              "      <td>1</td>\n",
              "      <td>1</td>\n",
              "      <td>0</td>\n",
              "      <td>0</td>\n",
              "    </tr>\n",
              "    <tr>\n",
              "      <th>2</th>\n",
              "      <td>26.333334</td>\n",
              "      <td>0</td>\n",
              "      <td>1745370</td>\n",
              "      <td>0</td>\n",
              "      <td>NaN</td>\n",
              "      <td>0</td>\n",
              "      <td>0</td>\n",
              "      <td>NaN</td>\n",
              "      <td>10.0</td>\n",
              "      <td>0</td>\n",
              "      <td>0</td>\n",
              "      <td>0.0</td>\n",
              "      <td>0.0</td>\n",
              "      <td>0</td>\n",
              "      <td>1</td>\n",
              "      <td>0</td>\n",
              "      <td>0</td>\n",
              "      <td>60.0</td>\n",
              "      <td>0</td>\n",
              "      <td>1</td>\n",
              "      <td>1.0</td>\n",
              "      <td>1.0</td>\n",
              "      <td>247400</td>\n",
              "      <td>1</td>\n",
              "      <td>1</td>\n",
              "      <td>0</td>\n",
              "      <td>0</td>\n",
              "      <td>1</td>\n",
              "      <td>0</td>\n",
              "      <td>1</td>\n",
              "      <td>1.0</td>\n",
              "      <td>0.0</td>\n",
              "      <td>0.0</td>\n",
              "      <td>2.47400</td>\n",
              "      <td>1</td>\n",
              "      <td>0</td>\n",
              "      <td>0.0</td>\n",
              "      <td>1</td>\n",
              "      <td>Aceh</td>\n",
              "      <td>184692000075</td>\n",
              "      <td>0</td>\n",
              "      <td>0</td>\n",
              "      <td>0</td>\n",
              "      <td>NaN</td>\n",
              "      <td>NaN</td>\n",
              "      <td>0</td>\n",
              "      <td>NaN</td>\n",
              "      <td>0</td>\n",
              "      <td>0</td>\n",
              "      <td>NaN</td>\n",
              "      <td>moral_rel</td>\n",
              "      <td>NaN</td>\n",
              "      <td>NaN</td>\n",
              "      <td>moral_rel</td>\n",
              "      <td>NaN</td>\n",
              "      <td>NaN</td>\n",
              "      <td>NaN</td>\n",
              "      <td>NaN</td>\n",
              "      <td>Treated</td>\n",
              "      <td>2</td>\n",
              "      <td>1</td>\n",
              "      <td>NaN</td>\n",
              "      <td>1.0</td>\n",
              "      <td>0.058166</td>\n",
              "      <td>0</td>\n",
              "      <td>1</td>\n",
              "      <td>1</td>\n",
              "      <td>1.0</td>\n",
              "      <td>1</td>\n",
              "      <td>0</td>\n",
              "      <td>0</td>\n",
              "      <td>0</td>\n",
              "    </tr>\n",
              "    <tr>\n",
              "      <th>3</th>\n",
              "      <td>32.333332</td>\n",
              "      <td>1410000</td>\n",
              "      <td>1040000</td>\n",
              "      <td>0</td>\n",
              "      <td>NaN</td>\n",
              "      <td>0</td>\n",
              "      <td>0</td>\n",
              "      <td>NaN</td>\n",
              "      <td>10.0</td>\n",
              "      <td>0</td>\n",
              "      <td>0</td>\n",
              "      <td>1.0</td>\n",
              "      <td>1.0</td>\n",
              "      <td>0</td>\n",
              "      <td>0</td>\n",
              "      <td>1</td>\n",
              "      <td>0</td>\n",
              "      <td>60.0</td>\n",
              "      <td>0</td>\n",
              "      <td>1</td>\n",
              "      <td>0.0</td>\n",
              "      <td>0.0</td>\n",
              "      <td>1407956</td>\n",
              "      <td>1</td>\n",
              "      <td>1</td>\n",
              "      <td>0</td>\n",
              "      <td>0</td>\n",
              "      <td>1</td>\n",
              "      <td>0</td>\n",
              "      <td>1</td>\n",
              "      <td>1.0</td>\n",
              "      <td>0.0</td>\n",
              "      <td>0.0</td>\n",
              "      <td>14.07956</td>\n",
              "      <td>1</td>\n",
              "      <td>1</td>\n",
              "      <td>1.0</td>\n",
              "      <td>1</td>\n",
              "      <td>Aceh</td>\n",
              "      <td>393092000075</td>\n",
              "      <td>0</td>\n",
              "      <td>0</td>\n",
              "      <td>0</td>\n",
              "      <td>NaN</td>\n",
              "      <td>NaN</td>\n",
              "      <td>0</td>\n",
              "      <td>NaN</td>\n",
              "      <td>0</td>\n",
              "      <td>0</td>\n",
              "      <td>NaN</td>\n",
              "      <td>moral_rel</td>\n",
              "      <td>NaN</td>\n",
              "      <td>NaN</td>\n",
              "      <td>moral_rel</td>\n",
              "      <td>NaN</td>\n",
              "      <td>NaN</td>\n",
              "      <td>NaN</td>\n",
              "      <td>NaN</td>\n",
              "      <td>Treated</td>\n",
              "      <td>2</td>\n",
              "      <td>1</td>\n",
              "      <td>NaN</td>\n",
              "      <td>1.0</td>\n",
              "      <td>0.061453</td>\n",
              "      <td>0</td>\n",
              "      <td>1</td>\n",
              "      <td>1</td>\n",
              "      <td>1.0</td>\n",
              "      <td>1</td>\n",
              "      <td>0</td>\n",
              "      <td>0</td>\n",
              "      <td>0</td>\n",
              "    </tr>\n",
              "    <tr>\n",
              "      <th>4</th>\n",
              "      <td>41.000000</td>\n",
              "      <td>600000</td>\n",
              "      <td>0</td>\n",
              "      <td>0</td>\n",
              "      <td>NaN</td>\n",
              "      <td>1</td>\n",
              "      <td>0</td>\n",
              "      <td>2.0</td>\n",
              "      <td>10.0</td>\n",
              "      <td>0</td>\n",
              "      <td>0</td>\n",
              "      <td>NaN</td>\n",
              "      <td>NaN</td>\n",
              "      <td>0</td>\n",
              "      <td>0</td>\n",
              "      <td>0</td>\n",
              "      <td>0</td>\n",
              "      <td>60.0</td>\n",
              "      <td>0</td>\n",
              "      <td>1</td>\n",
              "      <td>NaN</td>\n",
              "      <td>NaN</td>\n",
              "      <td>257600</td>\n",
              "      <td>0</td>\n",
              "      <td>0</td>\n",
              "      <td>0</td>\n",
              "      <td>0</td>\n",
              "      <td>0</td>\n",
              "      <td>0</td>\n",
              "      <td>1</td>\n",
              "      <td>NaN</td>\n",
              "      <td>NaN</td>\n",
              "      <td>NaN</td>\n",
              "      <td>2.57600</td>\n",
              "      <td>0</td>\n",
              "      <td>0</td>\n",
              "      <td>NaN</td>\n",
              "      <td>1</td>\n",
              "      <td>Aceh</td>\n",
              "      <td>250955000075</td>\n",
              "      <td>0</td>\n",
              "      <td>1</td>\n",
              "      <td>0</td>\n",
              "      <td>NaN</td>\n",
              "      <td>NaN</td>\n",
              "      <td>0</td>\n",
              "      <td>NaN</td>\n",
              "      <td>0</td>\n",
              "      <td>0</td>\n",
              "      <td>NaN</td>\n",
              "      <td>credit_rep</td>\n",
              "      <td>NaN</td>\n",
              "      <td>NaN</td>\n",
              "      <td>credit_rep</td>\n",
              "      <td>NaN</td>\n",
              "      <td>NaN</td>\n",
              "      <td>NaN</td>\n",
              "      <td>NaN</td>\n",
              "      <td>Treated</td>\n",
              "      <td>2</td>\n",
              "      <td>1</td>\n",
              "      <td>NaN</td>\n",
              "      <td>1.0</td>\n",
              "      <td>0.056379</td>\n",
              "      <td>0</td>\n",
              "      <td>1</td>\n",
              "      <td>1</td>\n",
              "      <td>NaN</td>\n",
              "      <td>1</td>\n",
              "      <td>0</td>\n",
              "      <td>0</td>\n",
              "      <td>0</td>\n",
              "    </tr>\n",
              "  </tbody>\n",
              "</table>\n",
              "</div>"
            ],
            "text/plain": [
              "         age  amount_repaid  ...  high_credit_risk_90  high_credit_risk_95\n",
              "0  40.250000         484000  ...                    0                    0\n",
              "1  56.000000              0  ...                    0                    0\n",
              "2  26.333334              0  ...                    0                    0\n",
              "3  32.333332        1410000  ...                    0                    0\n",
              "4  41.000000         600000  ...                    0                    0\n",
              "\n",
              "[5 rows x 72 columns]"
            ]
          },
          "metadata": {
            "tags": []
          },
          "execution_count": 3
        }
      ]
    },
    {
      "cell_type": "code",
      "metadata": {
        "scrolled": true,
        "id": "eDoCR3DePIaS",
        "colab_type": "code",
        "colab": {
          "base_uri": "https://localhost:8080/",
          "height": 1000
        },
        "outputId": "bc91eea7-dbdb-48e9-b34b-8217f7a2e4a0"
      },
      "source": [
        "df.info()"
      ],
      "execution_count": 4,
      "outputs": [
        {
          "output_type": "stream",
          "text": [
            "<class 'pandas.core.frame.DataFrame'>\n",
            "RangeIndex: 6979 entries, 0 to 6978\n",
            "Data columns (total 72 columns):\n",
            " #   Column                            Non-Null Count  Dtype  \n",
            "---  ------                            --------------  -----  \n",
            " 0   age                               6979 non-null   float64\n",
            " 1   amount_repaid                     6979 non-null   int64  \n",
            " 2   amount_spent_next1month           6979 non-null   int64  \n",
            " 3   cash_rebate                       6979 non-null   int64  \n",
            " 4   cash_rebate_amount                0 non-null      float64\n",
            " 5   credit_rep                        6979 non-null   int64  \n",
            " 6   credit_rep_plus_moral_rel         6979 non-null   int64  \n",
            " 7   credit_rep_version                2000 non-null   float64\n",
            " 8   creditlimit                       6979 non-null   float64\n",
            " 9   crowding_out_exp                  6979 non-null   int64  \n",
            " 10  ctrl                              6979 non-null   int64  \n",
            " 11  debt_to_income                    2979 non-null   float64\n",
            " 12  debt_to_income_moral              2979 non-null   float64\n",
            " 13  default                           6979 non-null   int64  \n",
            " 14  delinquent                        6979 non-null   int64  \n",
            " 15  female                            6979 non-null   int64  \n",
            " 16  followup_exp                      6979 non-null   int64  \n",
            " 17  income                            6979 non-null   float64\n",
            " 18  late_2016                         6979 non-null   int64  \n",
            " 19  main_exp                          6979 non-null   int64  \n",
            " 20  male                              2979 non-null   float64\n",
            " 21  male_moral                        2979 non-null   float64\n",
            " 22  min_payment                       6979 non-null   int64  \n",
            " 23  moral_all                         6979 non-null   int64  \n",
            " 24  moral_first                       6979 non-null   int64  \n",
            " 25  moral_imp                         6979 non-null   int64  \n",
            " 26  moral_non                         6979 non-null   int64  \n",
            " 27  moral_rel                         6979 non-null   int64  \n",
            " 28  moral_repeated                    6979 non-null   int64  \n",
            " 29  muslim                            6979 non-null   int64  \n",
            " 30  muslim_moral                      2979 non-null   float64\n",
            " 31  old                               2979 non-null   float64\n",
            " 32  old_moral                         2979 non-null   float64\n",
            " 33  outstanding                       6979 non-null   float64\n",
            " 34  p_usage_next1month                6979 non-null   int64  \n",
            " 35  poor_credit_history               6979 non-null   int64  \n",
            " 36  poor_credit_history_moral         2979 non-null   float64\n",
            " 37  province                          6979 non-null   int64  \n",
            " 38  province_name                     6979 non-null   object \n",
            " 39  randomcardnumber                  6979 non-null   int64  \n",
            " 40  religious_plac                    6979 non-null   int64  \n",
            " 41  repaid_twice_min                  6979 non-null   int64  \n",
            " 42  sample_before                     6979 non-null   int64  \n",
            " 43  savings_15                        910 non-null    float64\n",
            " 44  savings_18                        910 non-null    float64\n",
            " 45  savings_account                   6979 non-null   int64  \n",
            " 46  savings_reduced                   910 non-null    float64\n",
            " 47  simple_rem                        6979 non-null   int64  \n",
            " 48  simple_rem_plus_due_date_message  6979 non-null   int64  \n",
            " 49  time_lag_first_moral              0 non-null      float64\n",
            " 50  treatment                         6979 non-null   object \n",
            " 51  treatment_repeated                0 non-null      float64\n",
            " 52  treatment_wave1                   2778 non-null   object \n",
            " 53  treatment_wave2                   2927 non-null   object \n",
            " 54  treatment_wave3                   1963 non-null   object \n",
            " 55  treatment_wave4                   92 non-null     object \n",
            " 56  treatment_wave5                   398 non-null    object \n",
            " 57  treatment_wave6                   126 non-null    object \n",
            " 58  type_obs                          6979 non-null   object \n",
            " 59  wave                              6979 non-null   int64  \n",
            " 60  default_sample                    6979 non-null   int64  \n",
            " 61  ctrl_extra_weight                 258 non-null    float64\n",
            " 62  weight                            6979 non-null   float64\n",
            " 63  prediction                        6979 non-null   float64\n",
            " 64  high_credit_risk                  6979 non-null   int64  \n",
            " 65  low_credit_risk                   6979 non-null   int64  \n",
            " 66  religious_province                6979 non-null   int64  \n",
            " 67  religious_province_moral          2979 non-null   float64\n",
            " 68  high_credit_risk_50               6979 non-null   int64  \n",
            " 69  high_credit_risk_75               6979 non-null   int64  \n",
            " 70  high_credit_risk_90               6979 non-null   int64  \n",
            " 71  high_credit_risk_95               6979 non-null   int64  \n",
            "dtypes: float64(23), int64(40), object(9)\n",
            "memory usage: 3.8+ MB\n"
          ],
          "name": "stdout"
        }
      ]
    },
    {
      "cell_type": "markdown",
      "metadata": {
        "id": "u-YmXKH5v6za",
        "colab_type": "text"
      },
      "source": [
        "# 0. Exploring Data"
      ]
    },
    {
      "cell_type": "code",
      "metadata": {
        "id": "6Mde9Ksov2Y6",
        "colab_type": "code",
        "colab": {
          "base_uri": "https://localhost:8080/",
          "height": 1000
        },
        "outputId": "7c625a77-e42e-48c1-d85d-62ba948c60dc"
      },
      "source": [
        "nominal_features= []\n",
        "for i in df.columns:\n",
        "    if df[i].nunique() < 10:\n",
        "        nominal_features.append(i)\n",
        "    else:\n",
        "        pass\n",
        "nominal_features"
      ],
      "execution_count": 5,
      "outputs": [
        {
          "output_type": "execute_result",
          "data": {
            "text/plain": [
              "['cash_rebate',\n",
              " 'cash_rebate_amount',\n",
              " 'credit_rep',\n",
              " 'credit_rep_plus_moral_rel',\n",
              " 'credit_rep_version',\n",
              " 'crowding_out_exp',\n",
              " 'ctrl',\n",
              " 'debt_to_income',\n",
              " 'debt_to_income_moral',\n",
              " 'default',\n",
              " 'delinquent',\n",
              " 'female',\n",
              " 'followup_exp',\n",
              " 'late_2016',\n",
              " 'main_exp',\n",
              " 'male',\n",
              " 'male_moral',\n",
              " 'moral_all',\n",
              " 'moral_first',\n",
              " 'moral_imp',\n",
              " 'moral_non',\n",
              " 'moral_rel',\n",
              " 'moral_repeated',\n",
              " 'muslim',\n",
              " 'muslim_moral',\n",
              " 'old',\n",
              " 'old_moral',\n",
              " 'p_usage_next1month',\n",
              " 'poor_credit_history',\n",
              " 'poor_credit_history_moral',\n",
              " 'religious_plac',\n",
              " 'repaid_twice_min',\n",
              " 'sample_before',\n",
              " 'savings_account',\n",
              " 'savings_reduced',\n",
              " 'simple_rem',\n",
              " 'simple_rem_plus_due_date_message',\n",
              " 'time_lag_first_moral',\n",
              " 'treatment',\n",
              " 'treatment_repeated',\n",
              " 'treatment_wave1',\n",
              " 'treatment_wave2',\n",
              " 'treatment_wave3',\n",
              " 'treatment_wave4',\n",
              " 'treatment_wave5',\n",
              " 'treatment_wave6',\n",
              " 'type_obs',\n",
              " 'wave',\n",
              " 'default_sample',\n",
              " 'ctrl_extra_weight',\n",
              " 'weight',\n",
              " 'high_credit_risk',\n",
              " 'low_credit_risk',\n",
              " 'religious_province',\n",
              " 'religious_province_moral',\n",
              " 'high_credit_risk_50',\n",
              " 'high_credit_risk_75',\n",
              " 'high_credit_risk_90',\n",
              " 'high_credit_risk_95']"
            ]
          },
          "metadata": {
            "tags": []
          },
          "execution_count": 5
        }
      ]
    },
    {
      "cell_type": "code",
      "metadata": {
        "id": "aZ8RfT9nxsve",
        "colab_type": "code",
        "colab": {
          "base_uri": "https://localhost:8080/",
          "height": 52
        },
        "outputId": "33f12713-0add-4811-ad55-355ec064216d"
      },
      "source": [
        "df['cash_rebate'].value_counts()"
      ],
      "execution_count": 6,
      "outputs": [
        {
          "output_type": "execute_result",
          "data": {
            "text/plain": [
              "0    6979\n",
              "Name: cash_rebate, dtype: int64"
            ]
          },
          "metadata": {
            "tags": []
          },
          "execution_count": 6
        }
      ]
    },
    {
      "cell_type": "code",
      "metadata": {
        "id": "VdPmq61Jx32k",
        "colab_type": "code",
        "colab": {
          "base_uri": "https://localhost:8080/",
          "height": 69
        },
        "outputId": "c1510779-5888-411d-a8f2-e9dfdaa68f43"
      },
      "source": [
        "df['credit_rep'].value_counts()"
      ],
      "execution_count": 7,
      "outputs": [
        {
          "output_type": "execute_result",
          "data": {
            "text/plain": [
              "0    4979\n",
              "1    2000\n",
              "Name: credit_rep, dtype: int64"
            ]
          },
          "metadata": {
            "tags": []
          },
          "execution_count": 7
        }
      ]
    },
    {
      "cell_type": "code",
      "metadata": {
        "id": "m0nYNAND1YiY",
        "colab_type": "code",
        "colab": {
          "base_uri": "https://localhost:8080/",
          "height": 52
        },
        "outputId": "4ffc954b-9876-45b8-c175-93c3876c8d38"
      },
      "source": [
        "df['credit_rep_plus_moral_rel'].value_counts()"
      ],
      "execution_count": 8,
      "outputs": [
        {
          "output_type": "execute_result",
          "data": {
            "text/plain": [
              "0    6979\n",
              "Name: credit_rep_plus_moral_rel, dtype: int64"
            ]
          },
          "metadata": {
            "tags": []
          },
          "execution_count": 8
        }
      ]
    },
    {
      "cell_type": "code",
      "metadata": {
        "id": "O5FTTF0Q1ZP6",
        "colab_type": "code",
        "colab": {
          "base_uri": "https://localhost:8080/",
          "height": 69
        },
        "outputId": "977b465c-0187-47f1-d3da-14859b6120b8"
      },
      "source": [
        "df['credit_rep_version'].value_counts()"
      ],
      "execution_count": 9,
      "outputs": [
        {
          "output_type": "execute_result",
          "data": {
            "text/plain": [
              "1.0    1000\n",
              "2.0    1000\n",
              "Name: credit_rep_version, dtype: int64"
            ]
          },
          "metadata": {
            "tags": []
          },
          "execution_count": 9
        }
      ]
    },
    {
      "cell_type": "code",
      "metadata": {
        "id": "GuCACKLC1Zl9",
        "colab_type": "code",
        "colab": {
          "base_uri": "https://localhost:8080/",
          "height": 52
        },
        "outputId": "d71fbffe-a0c3-4753-dfee-3e5c380f4433"
      },
      "source": [
        "df['crowding_out_exp'].value_counts()"
      ],
      "execution_count": 10,
      "outputs": [
        {
          "output_type": "execute_result",
          "data": {
            "text/plain": [
              "0    6979\n",
              "Name: crowding_out_exp, dtype: int64"
            ]
          },
          "metadata": {
            "tags": []
          },
          "execution_count": 10
        }
      ]
    },
    {
      "cell_type": "code",
      "metadata": {
        "id": "O1-sWs8z1Z5l",
        "colab_type": "code",
        "colab": {
          "base_uri": "https://localhost:8080/",
          "height": 69
        },
        "outputId": "15b465c4-ca96-4b2a-ac57-2f117d11eecc"
      },
      "source": [
        "df['ctrl'].value_counts()"
      ],
      "execution_count": 11,
      "outputs": [
        {
          "output_type": "execute_result",
          "data": {
            "text/plain": [
              "0    5000\n",
              "1    1979\n",
              "Name: ctrl, dtype: int64"
            ]
          },
          "metadata": {
            "tags": []
          },
          "execution_count": 11
        }
      ]
    },
    {
      "cell_type": "code",
      "metadata": {
        "id": "FcxCvUkq1Zxz",
        "colab_type": "code",
        "colab": {
          "base_uri": "https://localhost:8080/",
          "height": 69
        },
        "outputId": "6099b5b0-990e-474c-8067-88caf47bb65d"
      },
      "source": [
        "df['debt_to_income'].value_counts()"
      ],
      "execution_count": 12,
      "outputs": [
        {
          "output_type": "execute_result",
          "data": {
            "text/plain": [
              "0.0    1547\n",
              "1.0    1432\n",
              "Name: debt_to_income, dtype: int64"
            ]
          },
          "metadata": {
            "tags": []
          },
          "execution_count": 12
        }
      ]
    },
    {
      "cell_type": "code",
      "metadata": {
        "id": "z27WL_Oo1ZWz",
        "colab_type": "code",
        "colab": {
          "base_uri": "https://localhost:8080/",
          "height": 69
        },
        "outputId": "19eb78c1-18e9-4485-e30d-232286298490"
      },
      "source": [
        "df['debt_to_income_moral'].value_counts()"
      ],
      "execution_count": 13,
      "outputs": [
        {
          "output_type": "execute_result",
          "data": {
            "text/plain": [
              "0.0    2483\n",
              "1.0     496\n",
              "Name: debt_to_income_moral, dtype: int64"
            ]
          },
          "metadata": {
            "tags": []
          },
          "execution_count": 13
        }
      ]
    },
    {
      "cell_type": "code",
      "metadata": {
        "id": "jbdtK7_G1ZFO",
        "colab_type": "code",
        "colab": {
          "base_uri": "https://localhost:8080/",
          "height": 225
        },
        "outputId": "656e54f6-bb11-4e23-9f3e-d0fa45e17477"
      },
      "source": [
        "df['prediction'].value_counts()"
      ],
      "execution_count": 14,
      "outputs": [
        {
          "output_type": "execute_result",
          "data": {
            "text/plain": [
              "0.019676    3\n",
              "0.045878    3\n",
              "0.052070    3\n",
              "0.044660    3\n",
              "0.041955    3\n",
              "           ..\n",
              "0.016542    1\n",
              "0.099323    1\n",
              "0.006228    1\n",
              "0.075613    1\n",
              "0.017382    1\n",
              "Name: prediction, Length: 6870, dtype: int64"
            ]
          },
          "metadata": {
            "tags": []
          },
          "execution_count": 14
        }
      ]
    },
    {
      "cell_type": "code",
      "metadata": {
        "id": "ikQTc4iY1YSp",
        "colab_type": "code",
        "colab": {
          "base_uri": "https://localhost:8080/",
          "height": 172
        },
        "outputId": "9078bb65-27f7-4713-c8bd-142762c59ba8"
      },
      "source": [
        "risk_cols = ['prediction', 'high_credit_risk']\n",
        "risk_group = df[risk_cols].groupby('high_credit_risk').agg(['min', 'max'])\n",
        "risk_group.head()"
      ],
      "execution_count": 15,
      "outputs": [
        {
          "output_type": "execute_result",
          "data": {
            "text/html": [
              "<div>\n",
              "<style scoped>\n",
              "    .dataframe tbody tr th:only-of-type {\n",
              "        vertical-align: middle;\n",
              "    }\n",
              "\n",
              "    .dataframe tbody tr th {\n",
              "        vertical-align: top;\n",
              "    }\n",
              "\n",
              "    .dataframe thead tr th {\n",
              "        text-align: left;\n",
              "    }\n",
              "\n",
              "    .dataframe thead tr:last-of-type th {\n",
              "        text-align: right;\n",
              "    }\n",
              "</style>\n",
              "<table border=\"1\" class=\"dataframe\">\n",
              "  <thead>\n",
              "    <tr>\n",
              "      <th></th>\n",
              "      <th colspan=\"2\" halign=\"left\">prediction</th>\n",
              "    </tr>\n",
              "    <tr>\n",
              "      <th></th>\n",
              "      <th>min</th>\n",
              "      <th>max</th>\n",
              "    </tr>\n",
              "    <tr>\n",
              "      <th>high_credit_risk</th>\n",
              "      <th></th>\n",
              "      <th></th>\n",
              "    </tr>\n",
              "  </thead>\n",
              "  <tbody>\n",
              "    <tr>\n",
              "      <th>0</th>\n",
              "      <td>-0.052320</td>\n",
              "      <td>0.099808</td>\n",
              "    </tr>\n",
              "    <tr>\n",
              "      <th>1</th>\n",
              "      <td>0.099909</td>\n",
              "      <td>0.536855</td>\n",
              "    </tr>\n",
              "  </tbody>\n",
              "</table>\n",
              "</div>"
            ],
            "text/plain": [
              "                 prediction          \n",
              "                        min       max\n",
              "high_credit_risk                     \n",
              "0                 -0.052320  0.099808\n",
              "1                  0.099909  0.536855"
            ]
          },
          "metadata": {
            "tags": []
          },
          "execution_count": 15
        }
      ]
    },
    {
      "cell_type": "code",
      "metadata": {
        "id": "dtMrqQI8_WrN",
        "colab_type": "code",
        "colab": {
          "base_uri": "https://localhost:8080/",
          "height": 69
        },
        "outputId": "aa8b17b5-1f8a-47bb-8a67-83fe7b368fc4"
      },
      "source": [
        "df['religious_province'].value_counts()"
      ],
      "execution_count": 16,
      "outputs": [
        {
          "output_type": "execute_result",
          "data": {
            "text/plain": [
              "0    4353\n",
              "1    2626\n",
              "Name: religious_province, dtype: int64"
            ]
          },
          "metadata": {
            "tags": []
          },
          "execution_count": 16
        }
      ]
    },
    {
      "cell_type": "code",
      "metadata": {
        "id": "MbEsDOgR_hiC",
        "colab_type": "code",
        "colab": {
          "base_uri": "https://localhost:8080/",
          "height": 1000
        },
        "outputId": "bc4545d5-def7-4c8c-957b-bd195dd6489b"
      },
      "source": [
        "prov_cols = ['religious_province','province']\n",
        "prov_group = df[prov_cols].groupby(prov_cols).agg('count')\n",
        "prov_group"
      ],
      "execution_count": 17,
      "outputs": [
        {
          "output_type": "execute_result",
          "data": {
            "text/html": [
              "<div>\n",
              "<style scoped>\n",
              "    .dataframe tbody tr th:only-of-type {\n",
              "        vertical-align: middle;\n",
              "    }\n",
              "\n",
              "    .dataframe tbody tr th {\n",
              "        vertical-align: top;\n",
              "    }\n",
              "\n",
              "    .dataframe thead th {\n",
              "        text-align: right;\n",
              "    }\n",
              "</style>\n",
              "<table border=\"1\" class=\"dataframe\">\n",
              "  <thead>\n",
              "    <tr style=\"text-align: right;\">\n",
              "      <th></th>\n",
              "      <th></th>\n",
              "    </tr>\n",
              "    <tr>\n",
              "      <th>religious_province</th>\n",
              "      <th>province</th>\n",
              "    </tr>\n",
              "  </thead>\n",
              "  <tbody>\n",
              "    <tr>\n",
              "      <th rowspan=\"17\" valign=\"top\">0</th>\n",
              "      <th>2</th>\n",
              "    </tr>\n",
              "    <tr>\n",
              "      <th>3</th>\n",
              "    </tr>\n",
              "    <tr>\n",
              "      <th>4</th>\n",
              "    </tr>\n",
              "    <tr>\n",
              "      <th>6</th>\n",
              "    </tr>\n",
              "    <tr>\n",
              "      <th>8</th>\n",
              "    </tr>\n",
              "    <tr>\n",
              "      <th>9</th>\n",
              "    </tr>\n",
              "    <tr>\n",
              "      <th>12</th>\n",
              "    </tr>\n",
              "    <tr>\n",
              "      <th>14</th>\n",
              "    </tr>\n",
              "    <tr>\n",
              "      <th>15</th>\n",
              "    </tr>\n",
              "    <tr>\n",
              "      <th>16</th>\n",
              "    </tr>\n",
              "    <tr>\n",
              "      <th>18</th>\n",
              "    </tr>\n",
              "    <tr>\n",
              "      <th>19</th>\n",
              "    </tr>\n",
              "    <tr>\n",
              "      <th>20</th>\n",
              "    </tr>\n",
              "    <tr>\n",
              "      <th>23</th>\n",
              "    </tr>\n",
              "    <tr>\n",
              "      <th>24</th>\n",
              "    </tr>\n",
              "    <tr>\n",
              "      <th>26</th>\n",
              "    </tr>\n",
              "    <tr>\n",
              "      <th>27</th>\n",
              "    </tr>\n",
              "    <tr>\n",
              "      <th rowspan=\"17\" valign=\"top\">1</th>\n",
              "      <th>1</th>\n",
              "    </tr>\n",
              "    <tr>\n",
              "      <th>5</th>\n",
              "    </tr>\n",
              "    <tr>\n",
              "      <th>7</th>\n",
              "    </tr>\n",
              "    <tr>\n",
              "      <th>10</th>\n",
              "    </tr>\n",
              "    <tr>\n",
              "      <th>11</th>\n",
              "    </tr>\n",
              "    <tr>\n",
              "      <th>13</th>\n",
              "    </tr>\n",
              "    <tr>\n",
              "      <th>17</th>\n",
              "    </tr>\n",
              "    <tr>\n",
              "      <th>21</th>\n",
              "    </tr>\n",
              "    <tr>\n",
              "      <th>22</th>\n",
              "    </tr>\n",
              "    <tr>\n",
              "      <th>25</th>\n",
              "    </tr>\n",
              "    <tr>\n",
              "      <th>28</th>\n",
              "    </tr>\n",
              "    <tr>\n",
              "      <th>29</th>\n",
              "    </tr>\n",
              "    <tr>\n",
              "      <th>30</th>\n",
              "    </tr>\n",
              "    <tr>\n",
              "      <th>31</th>\n",
              "    </tr>\n",
              "    <tr>\n",
              "      <th>32</th>\n",
              "    </tr>\n",
              "    <tr>\n",
              "      <th>33</th>\n",
              "    </tr>\n",
              "    <tr>\n",
              "      <th>34</th>\n",
              "    </tr>\n",
              "  </tbody>\n",
              "</table>\n",
              "</div>"
            ],
            "text/plain": [
              "Empty DataFrame\n",
              "Columns: []\n",
              "Index: [(0, 2), (0, 3), (0, 4), (0, 6), (0, 8), (0, 9), (0, 12), (0, 14), (0, 15), (0, 16), (0, 18), (0, 19), (0, 20), (0, 23), (0, 24), (0, 26), (0, 27), (1, 1), (1, 5), (1, 7), (1, 10), (1, 11), (1, 13), (1, 17), (1, 21), (1, 22), (1, 25), (1, 28), (1, 29), (1, 30), (1, 31), (1, 32), (1, 33), (1, 34)]"
            ]
          },
          "metadata": {
            "tags": []
          },
          "execution_count": 17
        }
      ]
    },
    {
      "cell_type": "code",
      "metadata": {
        "id": "01s3UJtLCBDk",
        "colab_type": "code",
        "colab": {
          "base_uri": "https://localhost:8080/",
          "height": 69
        },
        "outputId": "8a8e0a07-5854-4bd7-96bd-c5eb3b14f495"
      },
      "source": [
        "df['p_usage_next1month'].value_counts()"
      ],
      "execution_count": 18,
      "outputs": [
        {
          "output_type": "execute_result",
          "data": {
            "text/plain": [
              "0    4027\n",
              "1    2952\n",
              "Name: p_usage_next1month, dtype: int64"
            ]
          },
          "metadata": {
            "tags": []
          },
          "execution_count": 18
        }
      ]
    },
    {
      "cell_type": "code",
      "metadata": {
        "id": "kjvoXEBiCAqp",
        "colab_type": "code",
        "colab": {
          "base_uri": "https://localhost:8080/",
          "height": 69
        },
        "outputId": "401bf01a-1804-4133-dc2b-b97b1ad08940"
      },
      "source": [
        "df['delinquent'].value_counts()"
      ],
      "execution_count": 19,
      "outputs": [
        {
          "output_type": "execute_result",
          "data": {
            "text/plain": [
              "1    4337\n",
              "0    2642\n",
              "Name: delinquent, dtype: int64"
            ]
          },
          "metadata": {
            "tags": []
          },
          "execution_count": 19
        }
      ]
    },
    {
      "cell_type": "code",
      "metadata": {
        "id": "6qK2iPAbCUPU",
        "colab_type": "code",
        "colab": {
          "base_uri": "https://localhost:8080/",
          "height": 69
        },
        "outputId": "41ade50d-d690-444b-d234-a1e3bdd77049"
      },
      "source": [
        "df['default'].value_counts()"
      ],
      "execution_count": 20,
      "outputs": [
        {
          "output_type": "execute_result",
          "data": {
            "text/plain": [
              "0    6544\n",
              "1     435\n",
              "Name: default, dtype: int64"
            ]
          },
          "metadata": {
            "tags": []
          },
          "execution_count": 20
        }
      ]
    },
    {
      "cell_type": "code",
      "metadata": {
        "id": "7qlLqqURC1Al",
        "colab_type": "code",
        "colab": {
          "base_uri": "https://localhost:8080/",
          "height": 69
        },
        "outputId": "d5f9c646-3c6f-4f7f-b1bd-0ecc2cbcaa9a"
      },
      "source": [
        "df['late_2016'].value_counts()"
      ],
      "execution_count": 21,
      "outputs": [
        {
          "output_type": "execute_result",
          "data": {
            "text/plain": [
              "0    5332\n",
              "1    1647\n",
              "Name: late_2016, dtype: int64"
            ]
          },
          "metadata": {
            "tags": []
          },
          "execution_count": 21
        }
      ]
    },
    {
      "cell_type": "code",
      "metadata": {
        "id": "q3qMHKY2DoEn",
        "colab_type": "code",
        "colab": {
          "base_uri": "https://localhost:8080/",
          "height": 433
        },
        "outputId": "4720a12c-0c35-4a24-c103-cfac1b39f107"
      },
      "source": [
        "# cash rebate = 2.75% × (credit limit - amount outstanding\n",
        "cash_rebate_2 = 2.75/100* (df['creditlimit']-df['outstanding'])\n",
        "cash_rebate_1 = df['cash_rebate']\n",
        "cash_rebate_2 == cash_rebate_1\n",
        "print(cash_rebate_2)\n",
        "print(cash_rebate_1)"
      ],
      "execution_count": 22,
      "outputs": [
        {
          "output_type": "stream",
          "text": [
            "0       0.141900\n",
            "1       0.116710\n",
            "2       0.206965\n",
            "3      -0.112188\n",
            "4       0.204160\n",
            "          ...   \n",
            "6974    0.157713\n",
            "6975    0.212630\n",
            "6976    0.013585\n",
            "6977   -0.063029\n",
            "6978    0.100980\n",
            "Length: 6979, dtype: float64\n",
            "0       0\n",
            "1       0\n",
            "2       0\n",
            "3       0\n",
            "4       0\n",
            "       ..\n",
            "6974    0\n",
            "6975    0\n",
            "6976    0\n",
            "6977    0\n",
            "6978    0\n",
            "Name: cash_rebate, Length: 6979, dtype: int64\n"
          ],
          "name": "stdout"
        }
      ]
    },
    {
      "cell_type": "code",
      "metadata": {
        "id": "2Lv8PkGKOYVQ",
        "colab_type": "code",
        "colab": {
          "base_uri": "https://localhost:8080/",
          "height": 225
        },
        "outputId": "f8a0f8f4-d515-4f12-90f7-73c588f591b0"
      },
      "source": [
        "df['savings_15'].value_counts()"
      ],
      "execution_count": 23,
      "outputs": [
        {
          "output_type": "execute_result",
          "data": {
            "text/plain": [
              "0.0          37\n",
              "400317.0      6\n",
              "20000.0       3\n",
              "400282.0      3\n",
              "411232.0      3\n",
              "             ..\n",
              "204116.0      1\n",
              "416420.0      1\n",
              "15829.0       1\n",
              "5024100.0     1\n",
              "514053.0      1\n",
              "Name: savings_15, Length: 847, dtype: int64"
            ]
          },
          "metadata": {
            "tags": []
          },
          "execution_count": 23
        }
      ]
    },
    {
      "cell_type": "markdown",
      "metadata": {
        "id": "OTTlPTz8QicN",
        "colab_type": "text"
      },
      "source": [
        "# 1. Cleansing and Preprocessing\n"
      ]
    },
    {
      "cell_type": "markdown",
      "metadata": {
        "id": "9uqBFv80b894",
        "colab_type": "text"
      },
      "source": [
        "##1.1. Dropping relatively empty columns (>90% is null)"
      ]
    },
    {
      "cell_type": "code",
      "metadata": {
        "id": "jGAXkqrRQbo_",
        "colab_type": "code",
        "colab": {
          "base_uri": "https://localhost:8080/",
          "height": 52
        },
        "outputId": "d35f3e63-3ca9-46ee-d98f-9c1f966f4f96"
      },
      "source": [
        "treatment_cols = [i for i in df.columns if i.split('_')[0] == 'treatment']\n",
        "empty_cols = [i for i in df.columns if (df[i].isnull().sum() > (0.9*len(df))) and (i not in treatment_cols)]\n",
        "print(treatment_cols)\n",
        "print(empty_cols)"
      ],
      "execution_count": 24,
      "outputs": [
        {
          "output_type": "stream",
          "text": [
            "['treatment', 'treatment_repeated', 'treatment_wave1', 'treatment_wave2', 'treatment_wave3', 'treatment_wave4', 'treatment_wave5', 'treatment_wave6']\n",
            "['cash_rebate_amount', 'time_lag_first_moral', 'ctrl_extra_weight']\n"
          ],
          "name": "stdout"
        }
      ]
    },
    {
      "cell_type": "code",
      "metadata": {
        "id": "7x1MX8P3PIaZ",
        "colab_type": "code",
        "colab": {}
      },
      "source": [
        "df = df.drop(columns=empty_cols, axis=1)"
      ],
      "execution_count": 25,
      "outputs": []
    },
    {
      "cell_type": "markdown",
      "metadata": {
        "id": "VXWOnLSiYxln",
        "colab_type": "text"
      },
      "source": [
        "##1.2. Filling NaN"
      ]
    },
    {
      "cell_type": "code",
      "metadata": {
        "id": "8tdtqr4vY3ib",
        "colab_type": "code",
        "colab": {
          "base_uri": "https://localhost:8080/",
          "height": 173
        },
        "outputId": "c3f40a07-0576-47fd-d25e-dc2ee0c59017"
      },
      "source": [
        "num = ['int', 'float']\n",
        "num_features = [i for i in df.columns if df[i].dtype in num]\n",
        "cat_features = [i for i in df.columns if i not in num_features]\n",
        "cat_features"
      ],
      "execution_count": 26,
      "outputs": [
        {
          "output_type": "execute_result",
          "data": {
            "text/plain": [
              "['province_name',\n",
              " 'treatment',\n",
              " 'treatment_wave1',\n",
              " 'treatment_wave2',\n",
              " 'treatment_wave3',\n",
              " 'treatment_wave4',\n",
              " 'treatment_wave5',\n",
              " 'treatment_wave6',\n",
              " 'type_obs']"
            ]
          },
          "metadata": {
            "tags": []
          },
          "execution_count": 26
        }
      ]
    },
    {
      "cell_type": "code",
      "metadata": {
        "id": "Dej4euD0aiWn",
        "colab_type": "code",
        "colab": {
          "base_uri": "https://localhost:8080/",
          "height": 222
        },
        "outputId": "68a66b00-c502-4484-c449-06920f41b230"
      },
      "source": [
        "df_num = df[num_features].fillna(0)\n",
        "df_cat = df[cat_features].fillna('No Data')\n",
        "df_filled = df_num.join(df_cat)\n",
        "df_filled.head()"
      ],
      "execution_count": 27,
      "outputs": [
        {
          "output_type": "execute_result",
          "data": {
            "text/html": [
              "<div>\n",
              "<style scoped>\n",
              "    .dataframe tbody tr th:only-of-type {\n",
              "        vertical-align: middle;\n",
              "    }\n",
              "\n",
              "    .dataframe tbody tr th {\n",
              "        vertical-align: top;\n",
              "    }\n",
              "\n",
              "    .dataframe thead th {\n",
              "        text-align: right;\n",
              "    }\n",
              "</style>\n",
              "<table border=\"1\" class=\"dataframe\">\n",
              "  <thead>\n",
              "    <tr style=\"text-align: right;\">\n",
              "      <th></th>\n",
              "      <th>age</th>\n",
              "      <th>amount_repaid</th>\n",
              "      <th>amount_spent_next1month</th>\n",
              "      <th>cash_rebate</th>\n",
              "      <th>credit_rep</th>\n",
              "      <th>credit_rep_plus_moral_rel</th>\n",
              "      <th>credit_rep_version</th>\n",
              "      <th>creditlimit</th>\n",
              "      <th>crowding_out_exp</th>\n",
              "      <th>ctrl</th>\n",
              "      <th>debt_to_income</th>\n",
              "      <th>debt_to_income_moral</th>\n",
              "      <th>default</th>\n",
              "      <th>delinquent</th>\n",
              "      <th>female</th>\n",
              "      <th>followup_exp</th>\n",
              "      <th>income</th>\n",
              "      <th>late_2016</th>\n",
              "      <th>main_exp</th>\n",
              "      <th>male</th>\n",
              "      <th>male_moral</th>\n",
              "      <th>min_payment</th>\n",
              "      <th>moral_all</th>\n",
              "      <th>moral_first</th>\n",
              "      <th>moral_imp</th>\n",
              "      <th>moral_non</th>\n",
              "      <th>moral_rel</th>\n",
              "      <th>moral_repeated</th>\n",
              "      <th>muslim</th>\n",
              "      <th>muslim_moral</th>\n",
              "      <th>old</th>\n",
              "      <th>old_moral</th>\n",
              "      <th>outstanding</th>\n",
              "      <th>p_usage_next1month</th>\n",
              "      <th>poor_credit_history</th>\n",
              "      <th>poor_credit_history_moral</th>\n",
              "      <th>province</th>\n",
              "      <th>randomcardnumber</th>\n",
              "      <th>religious_plac</th>\n",
              "      <th>repaid_twice_min</th>\n",
              "      <th>sample_before</th>\n",
              "      <th>savings_15</th>\n",
              "      <th>savings_18</th>\n",
              "      <th>savings_account</th>\n",
              "      <th>savings_reduced</th>\n",
              "      <th>simple_rem</th>\n",
              "      <th>simple_rem_plus_due_date_message</th>\n",
              "      <th>treatment_repeated</th>\n",
              "      <th>wave</th>\n",
              "      <th>default_sample</th>\n",
              "      <th>weight</th>\n",
              "      <th>prediction</th>\n",
              "      <th>high_credit_risk</th>\n",
              "      <th>low_credit_risk</th>\n",
              "      <th>religious_province</th>\n",
              "      <th>religious_province_moral</th>\n",
              "      <th>high_credit_risk_50</th>\n",
              "      <th>high_credit_risk_75</th>\n",
              "      <th>high_credit_risk_90</th>\n",
              "      <th>high_credit_risk_95</th>\n",
              "      <th>province_name</th>\n",
              "      <th>treatment</th>\n",
              "      <th>treatment_wave1</th>\n",
              "      <th>treatment_wave2</th>\n",
              "      <th>treatment_wave3</th>\n",
              "      <th>treatment_wave4</th>\n",
              "      <th>treatment_wave5</th>\n",
              "      <th>treatment_wave6</th>\n",
              "      <th>type_obs</th>\n",
              "    </tr>\n",
              "  </thead>\n",
              "  <tbody>\n",
              "    <tr>\n",
              "      <th>0</th>\n",
              "      <td>40.250000</td>\n",
              "      <td>484000</td>\n",
              "      <td>0</td>\n",
              "      <td>0</td>\n",
              "      <td>1</td>\n",
              "      <td>0</td>\n",
              "      <td>2.0</td>\n",
              "      <td>10.0</td>\n",
              "      <td>0</td>\n",
              "      <td>0</td>\n",
              "      <td>0.0</td>\n",
              "      <td>0.0</td>\n",
              "      <td>0</td>\n",
              "      <td>0</td>\n",
              "      <td>1</td>\n",
              "      <td>0</td>\n",
              "      <td>60.0</td>\n",
              "      <td>0</td>\n",
              "      <td>1</td>\n",
              "      <td>0.0</td>\n",
              "      <td>0.0</td>\n",
              "      <td>484000</td>\n",
              "      <td>0</td>\n",
              "      <td>0</td>\n",
              "      <td>0</td>\n",
              "      <td>0</td>\n",
              "      <td>0</td>\n",
              "      <td>0</td>\n",
              "      <td>1</td>\n",
              "      <td>0.0</td>\n",
              "      <td>0.0</td>\n",
              "      <td>0.0</td>\n",
              "      <td>4.84000</td>\n",
              "      <td>0</td>\n",
              "      <td>1</td>\n",
              "      <td>0.0</td>\n",
              "      <td>1</td>\n",
              "      <td>28164000075</td>\n",
              "      <td>0</td>\n",
              "      <td>0</td>\n",
              "      <td>0</td>\n",
              "      <td>0.0</td>\n",
              "      <td>0.0</td>\n",
              "      <td>0</td>\n",
              "      <td>0.0</td>\n",
              "      <td>0</td>\n",
              "      <td>0</td>\n",
              "      <td>0.0</td>\n",
              "      <td>1</td>\n",
              "      <td>1</td>\n",
              "      <td>1.0</td>\n",
              "      <td>0.054791</td>\n",
              "      <td>0</td>\n",
              "      <td>1</td>\n",
              "      <td>1</td>\n",
              "      <td>0.0</td>\n",
              "      <td>1</td>\n",
              "      <td>0</td>\n",
              "      <td>0</td>\n",
              "      <td>0</td>\n",
              "      <td>Aceh</td>\n",
              "      <td>credit_rep</td>\n",
              "      <td>credit_rep</td>\n",
              "      <td>No Data</td>\n",
              "      <td>No Data</td>\n",
              "      <td>No Data</td>\n",
              "      <td>No Data</td>\n",
              "      <td>No Data</td>\n",
              "      <td>Treated</td>\n",
              "    </tr>\n",
              "    <tr>\n",
              "      <th>1</th>\n",
              "      <td>56.000000</td>\n",
              "      <td>0</td>\n",
              "      <td>0</td>\n",
              "      <td>0</td>\n",
              "      <td>0</td>\n",
              "      <td>0</td>\n",
              "      <td>0.0</td>\n",
              "      <td>10.0</td>\n",
              "      <td>0</td>\n",
              "      <td>1</td>\n",
              "      <td>1.0</td>\n",
              "      <td>0.0</td>\n",
              "      <td>1</td>\n",
              "      <td>1</td>\n",
              "      <td>0</td>\n",
              "      <td>0</td>\n",
              "      <td>60.0</td>\n",
              "      <td>0</td>\n",
              "      <td>1</td>\n",
              "      <td>1.0</td>\n",
              "      <td>0.0</td>\n",
              "      <td>575600</td>\n",
              "      <td>0</td>\n",
              "      <td>0</td>\n",
              "      <td>0</td>\n",
              "      <td>0</td>\n",
              "      <td>0</td>\n",
              "      <td>0</td>\n",
              "      <td>1</td>\n",
              "      <td>0.0</td>\n",
              "      <td>1.0</td>\n",
              "      <td>0.0</td>\n",
              "      <td>5.75600</td>\n",
              "      <td>0</td>\n",
              "      <td>1</td>\n",
              "      <td>0.0</td>\n",
              "      <td>1</td>\n",
              "      <td>433074000075</td>\n",
              "      <td>0</td>\n",
              "      <td>0</td>\n",
              "      <td>0</td>\n",
              "      <td>0.0</td>\n",
              "      <td>0.0</td>\n",
              "      <td>0</td>\n",
              "      <td>0.0</td>\n",
              "      <td>0</td>\n",
              "      <td>0</td>\n",
              "      <td>0.0</td>\n",
              "      <td>1</td>\n",
              "      <td>1</td>\n",
              "      <td>1.0</td>\n",
              "      <td>0.077450</td>\n",
              "      <td>0</td>\n",
              "      <td>1</td>\n",
              "      <td>1</td>\n",
              "      <td>0.0</td>\n",
              "      <td>1</td>\n",
              "      <td>1</td>\n",
              "      <td>0</td>\n",
              "      <td>0</td>\n",
              "      <td>Aceh</td>\n",
              "      <td>ctrl</td>\n",
              "      <td>ctrl</td>\n",
              "      <td>No Data</td>\n",
              "      <td>No Data</td>\n",
              "      <td>No Data</td>\n",
              "      <td>No Data</td>\n",
              "      <td>No Data</td>\n",
              "      <td>Control</td>\n",
              "    </tr>\n",
              "    <tr>\n",
              "      <th>2</th>\n",
              "      <td>26.333334</td>\n",
              "      <td>0</td>\n",
              "      <td>1745370</td>\n",
              "      <td>0</td>\n",
              "      <td>0</td>\n",
              "      <td>0</td>\n",
              "      <td>0.0</td>\n",
              "      <td>10.0</td>\n",
              "      <td>0</td>\n",
              "      <td>0</td>\n",
              "      <td>0.0</td>\n",
              "      <td>0.0</td>\n",
              "      <td>0</td>\n",
              "      <td>1</td>\n",
              "      <td>0</td>\n",
              "      <td>0</td>\n",
              "      <td>60.0</td>\n",
              "      <td>0</td>\n",
              "      <td>1</td>\n",
              "      <td>1.0</td>\n",
              "      <td>1.0</td>\n",
              "      <td>247400</td>\n",
              "      <td>1</td>\n",
              "      <td>1</td>\n",
              "      <td>0</td>\n",
              "      <td>0</td>\n",
              "      <td>1</td>\n",
              "      <td>0</td>\n",
              "      <td>1</td>\n",
              "      <td>1.0</td>\n",
              "      <td>0.0</td>\n",
              "      <td>0.0</td>\n",
              "      <td>2.47400</td>\n",
              "      <td>1</td>\n",
              "      <td>0</td>\n",
              "      <td>0.0</td>\n",
              "      <td>1</td>\n",
              "      <td>184692000075</td>\n",
              "      <td>0</td>\n",
              "      <td>0</td>\n",
              "      <td>0</td>\n",
              "      <td>0.0</td>\n",
              "      <td>0.0</td>\n",
              "      <td>0</td>\n",
              "      <td>0.0</td>\n",
              "      <td>0</td>\n",
              "      <td>0</td>\n",
              "      <td>0.0</td>\n",
              "      <td>2</td>\n",
              "      <td>1</td>\n",
              "      <td>1.0</td>\n",
              "      <td>0.058166</td>\n",
              "      <td>0</td>\n",
              "      <td>1</td>\n",
              "      <td>1</td>\n",
              "      <td>1.0</td>\n",
              "      <td>1</td>\n",
              "      <td>0</td>\n",
              "      <td>0</td>\n",
              "      <td>0</td>\n",
              "      <td>Aceh</td>\n",
              "      <td>moral_rel</td>\n",
              "      <td>No Data</td>\n",
              "      <td>moral_rel</td>\n",
              "      <td>No Data</td>\n",
              "      <td>No Data</td>\n",
              "      <td>No Data</td>\n",
              "      <td>No Data</td>\n",
              "      <td>Treated</td>\n",
              "    </tr>\n",
              "    <tr>\n",
              "      <th>3</th>\n",
              "      <td>32.333332</td>\n",
              "      <td>1410000</td>\n",
              "      <td>1040000</td>\n",
              "      <td>0</td>\n",
              "      <td>0</td>\n",
              "      <td>0</td>\n",
              "      <td>0.0</td>\n",
              "      <td>10.0</td>\n",
              "      <td>0</td>\n",
              "      <td>0</td>\n",
              "      <td>1.0</td>\n",
              "      <td>1.0</td>\n",
              "      <td>0</td>\n",
              "      <td>0</td>\n",
              "      <td>1</td>\n",
              "      <td>0</td>\n",
              "      <td>60.0</td>\n",
              "      <td>0</td>\n",
              "      <td>1</td>\n",
              "      <td>0.0</td>\n",
              "      <td>0.0</td>\n",
              "      <td>1407956</td>\n",
              "      <td>1</td>\n",
              "      <td>1</td>\n",
              "      <td>0</td>\n",
              "      <td>0</td>\n",
              "      <td>1</td>\n",
              "      <td>0</td>\n",
              "      <td>1</td>\n",
              "      <td>1.0</td>\n",
              "      <td>0.0</td>\n",
              "      <td>0.0</td>\n",
              "      <td>14.07956</td>\n",
              "      <td>1</td>\n",
              "      <td>1</td>\n",
              "      <td>1.0</td>\n",
              "      <td>1</td>\n",
              "      <td>393092000075</td>\n",
              "      <td>0</td>\n",
              "      <td>0</td>\n",
              "      <td>0</td>\n",
              "      <td>0.0</td>\n",
              "      <td>0.0</td>\n",
              "      <td>0</td>\n",
              "      <td>0.0</td>\n",
              "      <td>0</td>\n",
              "      <td>0</td>\n",
              "      <td>0.0</td>\n",
              "      <td>2</td>\n",
              "      <td>1</td>\n",
              "      <td>1.0</td>\n",
              "      <td>0.061453</td>\n",
              "      <td>0</td>\n",
              "      <td>1</td>\n",
              "      <td>1</td>\n",
              "      <td>1.0</td>\n",
              "      <td>1</td>\n",
              "      <td>0</td>\n",
              "      <td>0</td>\n",
              "      <td>0</td>\n",
              "      <td>Aceh</td>\n",
              "      <td>moral_rel</td>\n",
              "      <td>No Data</td>\n",
              "      <td>moral_rel</td>\n",
              "      <td>No Data</td>\n",
              "      <td>No Data</td>\n",
              "      <td>No Data</td>\n",
              "      <td>No Data</td>\n",
              "      <td>Treated</td>\n",
              "    </tr>\n",
              "    <tr>\n",
              "      <th>4</th>\n",
              "      <td>41.000000</td>\n",
              "      <td>600000</td>\n",
              "      <td>0</td>\n",
              "      <td>0</td>\n",
              "      <td>1</td>\n",
              "      <td>0</td>\n",
              "      <td>2.0</td>\n",
              "      <td>10.0</td>\n",
              "      <td>0</td>\n",
              "      <td>0</td>\n",
              "      <td>0.0</td>\n",
              "      <td>0.0</td>\n",
              "      <td>0</td>\n",
              "      <td>0</td>\n",
              "      <td>0</td>\n",
              "      <td>0</td>\n",
              "      <td>60.0</td>\n",
              "      <td>0</td>\n",
              "      <td>1</td>\n",
              "      <td>0.0</td>\n",
              "      <td>0.0</td>\n",
              "      <td>257600</td>\n",
              "      <td>0</td>\n",
              "      <td>0</td>\n",
              "      <td>0</td>\n",
              "      <td>0</td>\n",
              "      <td>0</td>\n",
              "      <td>0</td>\n",
              "      <td>1</td>\n",
              "      <td>0.0</td>\n",
              "      <td>0.0</td>\n",
              "      <td>0.0</td>\n",
              "      <td>2.57600</td>\n",
              "      <td>0</td>\n",
              "      <td>0</td>\n",
              "      <td>0.0</td>\n",
              "      <td>1</td>\n",
              "      <td>250955000075</td>\n",
              "      <td>0</td>\n",
              "      <td>1</td>\n",
              "      <td>0</td>\n",
              "      <td>0.0</td>\n",
              "      <td>0.0</td>\n",
              "      <td>0</td>\n",
              "      <td>0.0</td>\n",
              "      <td>0</td>\n",
              "      <td>0</td>\n",
              "      <td>0.0</td>\n",
              "      <td>2</td>\n",
              "      <td>1</td>\n",
              "      <td>1.0</td>\n",
              "      <td>0.056379</td>\n",
              "      <td>0</td>\n",
              "      <td>1</td>\n",
              "      <td>1</td>\n",
              "      <td>0.0</td>\n",
              "      <td>1</td>\n",
              "      <td>0</td>\n",
              "      <td>0</td>\n",
              "      <td>0</td>\n",
              "      <td>Aceh</td>\n",
              "      <td>credit_rep</td>\n",
              "      <td>No Data</td>\n",
              "      <td>credit_rep</td>\n",
              "      <td>No Data</td>\n",
              "      <td>No Data</td>\n",
              "      <td>No Data</td>\n",
              "      <td>No Data</td>\n",
              "      <td>Treated</td>\n",
              "    </tr>\n",
              "  </tbody>\n",
              "</table>\n",
              "</div>"
            ],
            "text/plain": [
              "         age  amount_repaid  ...  treatment_wave6  type_obs\n",
              "0  40.250000         484000  ...          No Data   Treated\n",
              "1  56.000000              0  ...          No Data   Control\n",
              "2  26.333334              0  ...          No Data   Treated\n",
              "3  32.333332        1410000  ...          No Data   Treated\n",
              "4  41.000000         600000  ...          No Data   Treated\n",
              "\n",
              "[5 rows x 69 columns]"
            ]
          },
          "metadata": {
            "tags": []
          },
          "execution_count": 27
        }
      ]
    },
    {
      "cell_type": "markdown",
      "metadata": {
        "id": "W9-rU4zWXoF2",
        "colab_type": "text"
      },
      "source": [
        "##1.2. Dropping columns that can be represented by another columns"
      ]
    },
    {
      "cell_type": "markdown",
      "metadata": {
        "id": "mzlHRPT0X34U",
        "colab_type": "text"
      },
      "source": [
        "###1.2.1 female -> male"
      ]
    },
    {
      "cell_type": "code",
      "metadata": {
        "id": "JDbwSDScXmoA",
        "colab_type": "code",
        "colab": {
          "base_uri": "https://localhost:8080/",
          "height": 69
        },
        "outputId": "d4366c8f-7419-4d1f-e5ad-bd0077c24418"
      },
      "source": [
        "df = df_filled.copy()\n",
        "df['female'].value_counts()"
      ],
      "execution_count": 28,
      "outputs": [
        {
          "output_type": "execute_result",
          "data": {
            "text/plain": [
              "0    4225\n",
              "1    2754\n",
              "Name: female, dtype: int64"
            ]
          },
          "metadata": {
            "tags": []
          },
          "execution_count": 28
        }
      ]
    },
    {
      "cell_type": "code",
      "metadata": {
        "id": "6vOH7cCbj5Vo",
        "colab_type": "code",
        "colab": {
          "base_uri": "https://localhost:8080/",
          "height": 69
        },
        "outputId": "1079462f-e4f8-46ca-e6cd-aaaf54251b14"
      },
      "source": [
        "df['male'].value_counts()"
      ],
      "execution_count": 29,
      "outputs": [
        {
          "output_type": "execute_result",
          "data": {
            "text/plain": [
              "0.0    5164\n",
              "1.0    1815\n",
              "Name: male, dtype: int64"
            ]
          },
          "metadata": {
            "tags": []
          },
          "execution_count": 29
        }
      ]
    },
    {
      "cell_type": "code",
      "metadata": {
        "id": "f3m2TzJknxV6",
        "colab_type": "code",
        "colab": {}
      },
      "source": [
        "# DROP IF SO"
      ],
      "execution_count": 30,
      "outputs": []
    },
    {
      "cell_type": "markdown",
      "metadata": {
        "id": "risJH_eKn0FT",
        "colab_type": "text"
      },
      "source": [
        "### 1.2.2 age -> old"
      ]
    },
    {
      "cell_type": "code",
      "metadata": {
        "id": "h3lC-5qarR6I",
        "colab_type": "code",
        "colab": {
          "base_uri": "https://localhost:8080/",
          "height": 172
        },
        "outputId": "7185906a-ac26-4022-f282-05189c26b556"
      },
      "source": [
        "old_cols = ['old', 'age']\n",
        "old_group = df[old_cols].groupby('old').agg(['min', 'max'])\n",
        "old_group.head()"
      ],
      "execution_count": 31,
      "outputs": [
        {
          "output_type": "execute_result",
          "data": {
            "text/html": [
              "<div>\n",
              "<style scoped>\n",
              "    .dataframe tbody tr th:only-of-type {\n",
              "        vertical-align: middle;\n",
              "    }\n",
              "\n",
              "    .dataframe tbody tr th {\n",
              "        vertical-align: top;\n",
              "    }\n",
              "\n",
              "    .dataframe thead tr th {\n",
              "        text-align: left;\n",
              "    }\n",
              "\n",
              "    .dataframe thead tr:last-of-type th {\n",
              "        text-align: right;\n",
              "    }\n",
              "</style>\n",
              "<table border=\"1\" class=\"dataframe\">\n",
              "  <thead>\n",
              "    <tr>\n",
              "      <th></th>\n",
              "      <th colspan=\"2\" halign=\"left\">age</th>\n",
              "    </tr>\n",
              "    <tr>\n",
              "      <th></th>\n",
              "      <th>min</th>\n",
              "      <th>max</th>\n",
              "    </tr>\n",
              "    <tr>\n",
              "      <th>old</th>\n",
              "      <th></th>\n",
              "      <th></th>\n",
              "    </tr>\n",
              "  </thead>\n",
              "  <tbody>\n",
              "    <tr>\n",
              "      <th>0.0</th>\n",
              "      <td>22.166666</td>\n",
              "      <td>91.666664</td>\n",
              "    </tr>\n",
              "    <tr>\n",
              "      <th>1.0</th>\n",
              "      <td>41.166664</td>\n",
              "      <td>71.666672</td>\n",
              "    </tr>\n",
              "  </tbody>\n",
              "</table>\n",
              "</div>"
            ],
            "text/plain": [
              "           age           \n",
              "           min        max\n",
              "old                      \n",
              "0.0  22.166666  91.666664\n",
              "1.0  41.166664  71.666672"
            ]
          },
          "metadata": {
            "tags": []
          },
          "execution_count": 31
        }
      ]
    },
    {
      "cell_type": "code",
      "metadata": {
        "id": "bmYNrs5hscpc",
        "colab_type": "code",
        "colab": {
          "base_uri": "https://localhost:8080/",
          "height": 296
        },
        "outputId": "27e9f1b8-1d29-4f94-c6e6-69c0627b0260"
      },
      "source": [
        "# DROP IF SO\n",
        "sns.scatterplot(x=df['old'], y=df['age'])"
      ],
      "execution_count": 32,
      "outputs": [
        {
          "output_type": "execute_result",
          "data": {
            "text/plain": [
              "<matplotlib.axes._subplots.AxesSubplot at 0x7ff0052c19e8>"
            ]
          },
          "metadata": {
            "tags": []
          },
          "execution_count": 32
        },
        {
          "output_type": "display_data",
          "data": {
            "image/png": "[encoded data removed]",
            "text/plain": [
              "<Figure size 432x288 with 1 Axes>"
            ]
          },
          "metadata": {
            "tags": [],
            "needs_background": "light"
          }
        }
      ]
    },
    {
      "cell_type": "markdown",
      "metadata": {
        "id": "z4GPCNFssq2Z",
        "colab_type": "text"
      },
      "source": [
        "###1.2.3 high_credit_risk_75 or 90 or 95 -> 50"
      ]
    },
    {
      "cell_type": "code",
      "metadata": {
        "id": "H1lU_nubsfIq",
        "colab_type": "code",
        "colab": {
          "base_uri": "https://localhost:8080/",
          "height": 86
        },
        "outputId": "b762e85d-a30d-460e-c982-47f6153dab88"
      },
      "source": [
        "high_credit_risk_rank_cols = [i for i in df.columns if i.split('_')[0] == 'high' and (i != 'high_credit_risk')]\n",
        "high_credit_risk_rank_cols"
      ],
      "execution_count": 33,
      "outputs": [
        {
          "output_type": "execute_result",
          "data": {
            "text/plain": [
              "['high_credit_risk_50',\n",
              " 'high_credit_risk_75',\n",
              " 'high_credit_risk_90',\n",
              " 'high_credit_risk_95']"
            ]
          },
          "metadata": {
            "tags": []
          },
          "execution_count": 33
        }
      ]
    },
    {
      "cell_type": "code",
      "metadata": {
        "id": "epCavUrxtpku",
        "colab_type": "code",
        "colab": {}
      },
      "source": [
        "df = df.drop(columns=high_credit_risk_rank_cols[1:])"
      ],
      "execution_count": 34,
      "outputs": []
    },
    {
      "cell_type": "markdown",
      "metadata": {
        "id": "i3NaYLivuEWV",
        "colab_type": "text"
      },
      "source": [
        "###1.2.4 low_credit_risk -> high_credit_risk"
      ]
    },
    {
      "cell_type": "code",
      "metadata": {
        "id": "9lPHJDV2tp_B",
        "colab_type": "code",
        "colab": {
          "base_uri": "https://localhost:8080/",
          "height": 69
        },
        "outputId": "6ac6f190-3f93-4238-de4b-9eef166567d2"
      },
      "source": [
        "df['low_credit_risk'].value_counts()"
      ],
      "execution_count": 35,
      "outputs": [
        {
          "output_type": "execute_result",
          "data": {
            "text/plain": [
              "1    6262\n",
              "0     717\n",
              "Name: low_credit_risk, dtype: int64"
            ]
          },
          "metadata": {
            "tags": []
          },
          "execution_count": 35
        }
      ]
    },
    {
      "cell_type": "code",
      "metadata": {
        "id": "vPkT3-IOtpra",
        "colab_type": "code",
        "colab": {
          "base_uri": "https://localhost:8080/",
          "height": 69
        },
        "outputId": "494e2154-a66c-42e5-86ef-84b76598828a"
      },
      "source": [
        "df['high_credit_risk'].value_counts()"
      ],
      "execution_count": 36,
      "outputs": [
        {
          "output_type": "execute_result",
          "data": {
            "text/plain": [
              "0    6262\n",
              "1     717\n",
              "Name: high_credit_risk, dtype: int64"
            ]
          },
          "metadata": {
            "tags": []
          },
          "execution_count": 36
        }
      ]
    },
    {
      "cell_type": "code",
      "metadata": {
        "id": "9UD8fm2RtpLv",
        "colab_type": "code",
        "colab": {}
      },
      "source": [
        "df = df.drop(columns='low_credit_risk')"
      ],
      "execution_count": 37,
      "outputs": []
    },
    {
      "cell_type": "markdown",
      "metadata": {
        "id": "-yUqibWwub4p",
        "colab_type": "text"
      },
      "source": [
        "###1.2.5 wave -> treatment_waveN"
      ]
    },
    {
      "cell_type": "code",
      "metadata": {
        "id": "qZAcDTMp8G_L",
        "colab_type": "code",
        "colab": {
          "base_uri": "https://localhost:8080/",
          "height": 86
        },
        "outputId": "bea0ec73-800e-4e81-89a9-d92f9b9e2476"
      },
      "source": [
        "df['wave'].value_counts()"
      ],
      "execution_count": 38,
      "outputs": [
        {
          "output_type": "execute_result",
          "data": {
            "text/plain": [
              "2    2683\n",
              "1    2476\n",
              "3    1820\n",
              "Name: wave, dtype: int64"
            ]
          },
          "metadata": {
            "tags": []
          },
          "execution_count": 38
        }
      ]
    },
    {
      "cell_type": "code",
      "metadata": {
        "id": "FKfiWtbT8i87",
        "colab_type": "code",
        "colab": {
          "base_uri": "https://localhost:8080/",
          "height": 138
        },
        "outputId": "4e35cd98-9590-4f64-af3d-27e043a87c2e"
      },
      "source": [
        "df['treatment_wave1'].value_counts()"
      ],
      "execution_count": 39,
      "outputs": [
        {
          "output_type": "execute_result",
          "data": {
            "text/plain": [
              "No Data           4201\n",
              "credit_rep         800\n",
              "ctrl               778\n",
              "religious_plac     400\n",
              "simple_rem         400\n",
              "moral_rel          400\n",
              "Name: treatment_wave1, dtype: int64"
            ]
          },
          "metadata": {
            "tags": []
          },
          "execution_count": 39
        }
      ]
    },
    {
      "cell_type": "code",
      "metadata": {
        "id": "pmdQ80oJ84fQ",
        "colab_type": "code",
        "colab": {
          "base_uri": "https://localhost:8080/",
          "height": 138
        },
        "outputId": "1d5bc9ec-1b5a-4f0d-d936-66bd10b31bfc"
      },
      "source": [
        "df['treatment_wave2'].value_counts()"
      ],
      "execution_count": 40,
      "outputs": [
        {
          "output_type": "execute_result",
          "data": {
            "text/plain": [
              "No Data           4052\n",
              "ctrl               927\n",
              "credit_rep         800\n",
              "religious_plac     400\n",
              "simple_rem         400\n",
              "moral_rel          400\n",
              "Name: treatment_wave2, dtype: int64"
            ]
          },
          "metadata": {
            "tags": []
          },
          "execution_count": 40
        }
      ]
    },
    {
      "cell_type": "code",
      "metadata": {
        "id": "bBEp6hwo9MNi",
        "colab_type": "code",
        "colab": {
          "base_uri": "https://localhost:8080/",
          "height": 138
        },
        "outputId": "8cfeb30c-aecd-454f-a5bd-55e6378e753f"
      },
      "source": [
        "df['treatment_wave3'].value_counts()"
      ],
      "execution_count": 41,
      "outputs": [
        {
          "output_type": "execute_result",
          "data": {
            "text/plain": [
              "No Data           5016\n",
              "ctrl               963\n",
              "credit_rep         400\n",
              "religious_plac     200\n",
              "simple_rem         200\n",
              "moral_rel          200\n",
              "Name: treatment_wave3, dtype: int64"
            ]
          },
          "metadata": {
            "tags": []
          },
          "execution_count": 41
        }
      ]
    },
    {
      "cell_type": "code",
      "metadata": {
        "id": "Ub-IgToWudAj",
        "colab_type": "code",
        "colab": {}
      },
      "source": [
        "# DROP IF SO\n",
        "#df = df.drop(columns='wave')"
      ],
      "execution_count": 42,
      "outputs": []
    },
    {
      "cell_type": "markdown",
      "metadata": {
        "id": "UEBr6cEN4UDf",
        "colab_type": "text"
      },
      "source": [
        "###1.2.6 province_name -> province"
      ]
    },
    {
      "cell_type": "code",
      "metadata": {
        "id": "8YTfuvs4udZ7",
        "colab_type": "code",
        "colab": {
          "base_uri": "https://localhost:8080/",
          "height": 34
        },
        "outputId": "1f65d9f6-a1d7-4a40-d803-d4587bc9e504"
      },
      "source": [
        "df['province'].nunique()"
      ],
      "execution_count": 43,
      "outputs": [
        {
          "output_type": "execute_result",
          "data": {
            "text/plain": [
              "34"
            ]
          },
          "metadata": {
            "tags": []
          },
          "execution_count": 43
        }
      ]
    },
    {
      "cell_type": "code",
      "metadata": {
        "id": "HBWLNe2vudzt",
        "colab_type": "code",
        "colab": {
          "base_uri": "https://localhost:8080/",
          "height": 34
        },
        "outputId": "56e9c4a3-1242-48d5-d2b0-d1295e87984e"
      },
      "source": [
        "df['province_name'].nunique()"
      ],
      "execution_count": 44,
      "outputs": [
        {
          "output_type": "execute_result",
          "data": {
            "text/plain": [
              "34"
            ]
          },
          "metadata": {
            "tags": []
          },
          "execution_count": 44
        }
      ]
    },
    {
      "cell_type": "code",
      "metadata": {
        "id": "YEgrPUInudo5",
        "colab_type": "code",
        "colab": {}
      },
      "source": [
        "df = df.drop(columns='province_name')"
      ],
      "execution_count": 45,
      "outputs": []
    },
    {
      "cell_type": "markdown",
      "metadata": {
        "id": "vun6CBJw46Vm",
        "colab_type": "text"
      },
      "source": [
        "### 1.2.7 treatment -> moral or another incentives"
      ]
    },
    {
      "cell_type": "code",
      "metadata": {
        "id": "2imS4R995N46",
        "colab_type": "code",
        "colab": {
          "base_uri": "https://localhost:8080/",
          "height": 121
        },
        "outputId": "d346b01d-ffc7-409e-ba4f-09623f06fbc2"
      },
      "source": [
        "df['treatment'].value_counts()"
      ],
      "execution_count": 46,
      "outputs": [
        {
          "output_type": "execute_result",
          "data": {
            "text/plain": [
              "credit_rep        2000\n",
              "ctrl              1979\n",
              "religious_plac    1000\n",
              "simple_rem        1000\n",
              "moral_rel         1000\n",
              "Name: treatment, dtype: int64"
            ]
          },
          "metadata": {
            "tags": []
          },
          "execution_count": 46
        }
      ]
    },
    {
      "cell_type": "code",
      "metadata": {
        "id": "iRJqOdVHudOx",
        "colab_type": "code",
        "colab": {
          "base_uri": "https://localhost:8080/",
          "height": 69
        },
        "outputId": "bbad6672-3433-495d-f2ea-35b3b36b8e1b"
      },
      "source": [
        "df['moral_rel'].value_counts()"
      ],
      "execution_count": 47,
      "outputs": [
        {
          "output_type": "execute_result",
          "data": {
            "text/plain": [
              "0    5979\n",
              "1    1000\n",
              "Name: moral_rel, dtype: int64"
            ]
          },
          "metadata": {
            "tags": []
          },
          "execution_count": 47
        }
      ]
    },
    {
      "cell_type": "code",
      "metadata": {
        "id": "xZnzvt3GucVS",
        "colab_type": "code",
        "colab": {
          "base_uri": "https://localhost:8080/",
          "height": 52
        },
        "outputId": "76c5c34f-b469-4a12-e666-8ba42095c9e8"
      },
      "source": [
        "df['moral_imp'].value_counts()"
      ],
      "execution_count": 48,
      "outputs": [
        {
          "output_type": "execute_result",
          "data": {
            "text/plain": [
              "0    6979\n",
              "Name: moral_imp, dtype: int64"
            ]
          },
          "metadata": {
            "tags": []
          },
          "execution_count": 48
        }
      ]
    },
    {
      "cell_type": "code",
      "metadata": {
        "id": "FsIe2qvW5eTf",
        "colab_type": "code",
        "colab": {
          "base_uri": "https://localhost:8080/",
          "height": 52
        },
        "outputId": "a0e2a503-0d75-46c9-d9ae-8e25d43b5df0"
      },
      "source": [
        "df['moral_non'].value_counts()"
      ],
      "execution_count": 49,
      "outputs": [
        {
          "output_type": "execute_result",
          "data": {
            "text/plain": [
              "0    6979\n",
              "Name: moral_non, dtype: int64"
            ]
          },
          "metadata": {
            "tags": []
          },
          "execution_count": 49
        }
      ]
    },
    {
      "cell_type": "code",
      "metadata": {
        "id": "sVEKOcgR6J9Z",
        "colab_type": "code",
        "colab": {
          "base_uri": "https://localhost:8080/",
          "height": 52
        },
        "outputId": "41710782-6755-4893-f0c8-b4ddb0ca37fa"
      },
      "source": [
        "df['cash_rebate'].value_counts()"
      ],
      "execution_count": 50,
      "outputs": [
        {
          "output_type": "execute_result",
          "data": {
            "text/plain": [
              "0    6979\n",
              "Name: cash_rebate, dtype: int64"
            ]
          },
          "metadata": {
            "tags": []
          },
          "execution_count": 50
        }
      ]
    },
    {
      "cell_type": "code",
      "metadata": {
        "id": "V4oZX__v5fD3",
        "colab_type": "code",
        "colab": {
          "base_uri": "https://localhost:8080/",
          "height": 69
        },
        "outputId": "87e5c244-09f0-4653-e8c6-b745a8d70e14"
      },
      "source": [
        "df['credit_rep'].value_counts()"
      ],
      "execution_count": 51,
      "outputs": [
        {
          "output_type": "execute_result",
          "data": {
            "text/plain": [
              "0    4979\n",
              "1    2000\n",
              "Name: credit_rep, dtype: int64"
            ]
          },
          "metadata": {
            "tags": []
          },
          "execution_count": 51
        }
      ]
    },
    {
      "cell_type": "code",
      "metadata": {
        "id": "K9dNSnKS51Xq",
        "colab_type": "code",
        "colab": {
          "base_uri": "https://localhost:8080/",
          "height": 69
        },
        "outputId": "4f0b8bbd-3bd7-44b6-9382-2471b230fbd5"
      },
      "source": [
        "df['religious_plac'].value_counts()"
      ],
      "execution_count": 52,
      "outputs": [
        {
          "output_type": "execute_result",
          "data": {
            "text/plain": [
              "0    5979\n",
              "1    1000\n",
              "Name: religious_plac, dtype: int64"
            ]
          },
          "metadata": {
            "tags": []
          },
          "execution_count": 52
        }
      ]
    },
    {
      "cell_type": "code",
      "metadata": {
        "id": "a4tveE2c6Cmq",
        "colab_type": "code",
        "colab": {
          "base_uri": "https://localhost:8080/",
          "height": 69
        },
        "outputId": "70a0b75a-7d66-4cf2-c4e3-236dcb582c97"
      },
      "source": [
        "df['simple_rem'].value_counts()"
      ],
      "execution_count": 53,
      "outputs": [
        {
          "output_type": "execute_result",
          "data": {
            "text/plain": [
              "0    5979\n",
              "1    1000\n",
              "Name: simple_rem, dtype: int64"
            ]
          },
          "metadata": {
            "tags": []
          },
          "execution_count": 53
        }
      ]
    },
    {
      "cell_type": "code",
      "metadata": {
        "id": "-LhgKU0a6C3G",
        "colab_type": "code",
        "colab": {}
      },
      "source": [
        "df = df.drop(columns='treatment')"
      ],
      "execution_count": 54,
      "outputs": []
    },
    {
      "cell_type": "markdown",
      "metadata": {
        "id": "iW_MpkTZ7I9m",
        "colab_type": "text"
      },
      "source": [
        "###1.2.8 type_obs -> ctrl"
      ]
    },
    {
      "cell_type": "code",
      "metadata": {
        "id": "Y52WcH7O7jf2",
        "colab_type": "code",
        "colab": {
          "base_uri": "https://localhost:8080/",
          "height": 69
        },
        "outputId": "aeeb73d8-bece-4d3d-cae9-db58769f8005"
      },
      "source": [
        "df['ctrl'].value_counts()"
      ],
      "execution_count": 55,
      "outputs": [
        {
          "output_type": "execute_result",
          "data": {
            "text/plain": [
              "0    5000\n",
              "1    1979\n",
              "Name: ctrl, dtype: int64"
            ]
          },
          "metadata": {
            "tags": []
          },
          "execution_count": 55
        }
      ]
    },
    {
      "cell_type": "code",
      "metadata": {
        "id": "lzCuRdDy630c",
        "colab_type": "code",
        "colab": {
          "base_uri": "https://localhost:8080/",
          "height": 69
        },
        "outputId": "edb4e475-25de-4ab8-afb0-068fe0c6b70a"
      },
      "source": [
        "df['type_obs'].value_counts()"
      ],
      "execution_count": 56,
      "outputs": [
        {
          "output_type": "execute_result",
          "data": {
            "text/plain": [
              "Treated    5000\n",
              "Control    1979\n",
              "Name: type_obs, dtype: int64"
            ]
          },
          "metadata": {
            "tags": []
          },
          "execution_count": 56
        }
      ]
    },
    {
      "cell_type": "code",
      "metadata": {
        "id": "d-3AfAFJ734q",
        "colab_type": "code",
        "colab": {}
      },
      "source": [
        "df = df.drop(columns='type_obs')"
      ],
      "execution_count": 57,
      "outputs": []
    },
    {
      "cell_type": "markdown",
      "metadata": {
        "id": "s-Gb3jLN999-",
        "colab_type": "text"
      },
      "source": [
        "###1.2.9 prediction -> high credit risk"
      ]
    },
    {
      "cell_type": "code",
      "metadata": {
        "id": "IYBXCUfa74HW",
        "colab_type": "code",
        "colab": {
          "base_uri": "https://localhost:8080/",
          "height": 172
        },
        "outputId": "e1131211-6ad9-42b7-c0c1-4bb825c90895"
      },
      "source": [
        "risk_cols = ['prediction', 'high_credit_risk']\n",
        "risk_group = df[risk_cols].groupby('high_credit_risk').agg(['min', 'max'])\n",
        "risk_group.head()"
      ],
      "execution_count": 58,
      "outputs": [
        {
          "output_type": "execute_result",
          "data": {
            "text/html": [
              "<div>\n",
              "<style scoped>\n",
              "    .dataframe tbody tr th:only-of-type {\n",
              "        vertical-align: middle;\n",
              "    }\n",
              "\n",
              "    .dataframe tbody tr th {\n",
              "        vertical-align: top;\n",
              "    }\n",
              "\n",
              "    .dataframe thead tr th {\n",
              "        text-align: left;\n",
              "    }\n",
              "\n",
              "    .dataframe thead tr:last-of-type th {\n",
              "        text-align: right;\n",
              "    }\n",
              "</style>\n",
              "<table border=\"1\" class=\"dataframe\">\n",
              "  <thead>\n",
              "    <tr>\n",
              "      <th></th>\n",
              "      <th colspan=\"2\" halign=\"left\">prediction</th>\n",
              "    </tr>\n",
              "    <tr>\n",
              "      <th></th>\n",
              "      <th>min</th>\n",
              "      <th>max</th>\n",
              "    </tr>\n",
              "    <tr>\n",
              "      <th>high_credit_risk</th>\n",
              "      <th></th>\n",
              "      <th></th>\n",
              "    </tr>\n",
              "  </thead>\n",
              "  <tbody>\n",
              "    <tr>\n",
              "      <th>0</th>\n",
              "      <td>-0.052320</td>\n",
              "      <td>0.099808</td>\n",
              "    </tr>\n",
              "    <tr>\n",
              "      <th>1</th>\n",
              "      <td>0.099909</td>\n",
              "      <td>0.536855</td>\n",
              "    </tr>\n",
              "  </tbody>\n",
              "</table>\n",
              "</div>"
            ],
            "text/plain": [
              "                 prediction          \n",
              "                        min       max\n",
              "high_credit_risk                     \n",
              "0                 -0.052320  0.099808\n",
              "1                  0.099909  0.536855"
            ]
          },
          "metadata": {
            "tags": []
          },
          "execution_count": 58
        }
      ]
    },
    {
      "cell_type": "code",
      "metadata": {
        "id": "kpr2epas73tV",
        "colab_type": "code",
        "colab": {}
      },
      "source": [
        "df = df.drop(columns='prediction')"
      ],
      "execution_count": 59,
      "outputs": []
    },
    {
      "cell_type": "markdown",
      "metadata": {
        "id": "TtKOmyIZA8pP",
        "colab_type": "text"
      },
      "source": [
        "###1.2.10 province -> religious province"
      ]
    },
    {
      "cell_type": "code",
      "metadata": {
        "id": "aVfLI90E_GdU",
        "colab_type": "code",
        "colab": {
          "base_uri": "https://localhost:8080/",
          "height": 1000
        },
        "outputId": "1cfd9949-4bf1-4335-d701-6910a61906e4"
      },
      "source": [
        "prov_cols = ['religious_province','province']\n",
        "prov_group = df[prov_cols].groupby(prov_cols).agg('count')\n",
        "prov_group"
      ],
      "execution_count": 60,
      "outputs": [
        {
          "output_type": "execute_result",
          "data": {
            "text/html": [
              "<div>\n",
              "<style scoped>\n",
              "    .dataframe tbody tr th:only-of-type {\n",
              "        vertical-align: middle;\n",
              "    }\n",
              "\n",
              "    .dataframe tbody tr th {\n",
              "        vertical-align: top;\n",
              "    }\n",
              "\n",
              "    .dataframe thead th {\n",
              "        text-align: right;\n",
              "    }\n",
              "</style>\n",
              "<table border=\"1\" class=\"dataframe\">\n",
              "  <thead>\n",
              "    <tr style=\"text-align: right;\">\n",
              "      <th></th>\n",
              "      <th></th>\n",
              "    </tr>\n",
              "    <tr>\n",
              "      <th>religious_province</th>\n",
              "      <th>province</th>\n",
              "    </tr>\n",
              "  </thead>\n",
              "  <tbody>\n",
              "    <tr>\n",
              "      <th rowspan=\"17\" valign=\"top\">0</th>\n",
              "      <th>2</th>\n",
              "    </tr>\n",
              "    <tr>\n",
              "      <th>3</th>\n",
              "    </tr>\n",
              "    <tr>\n",
              "      <th>4</th>\n",
              "    </tr>\n",
              "    <tr>\n",
              "      <th>6</th>\n",
              "    </tr>\n",
              "    <tr>\n",
              "      <th>8</th>\n",
              "    </tr>\n",
              "    <tr>\n",
              "      <th>9</th>\n",
              "    </tr>\n",
              "    <tr>\n",
              "      <th>12</th>\n",
              "    </tr>\n",
              "    <tr>\n",
              "      <th>14</th>\n",
              "    </tr>\n",
              "    <tr>\n",
              "      <th>15</th>\n",
              "    </tr>\n",
              "    <tr>\n",
              "      <th>16</th>\n",
              "    </tr>\n",
              "    <tr>\n",
              "      <th>18</th>\n",
              "    </tr>\n",
              "    <tr>\n",
              "      <th>19</th>\n",
              "    </tr>\n",
              "    <tr>\n",
              "      <th>20</th>\n",
              "    </tr>\n",
              "    <tr>\n",
              "      <th>23</th>\n",
              "    </tr>\n",
              "    <tr>\n",
              "      <th>24</th>\n",
              "    </tr>\n",
              "    <tr>\n",
              "      <th>26</th>\n",
              "    </tr>\n",
              "    <tr>\n",
              "      <th>27</th>\n",
              "    </tr>\n",
              "    <tr>\n",
              "      <th rowspan=\"17\" valign=\"top\">1</th>\n",
              "      <th>1</th>\n",
              "    </tr>\n",
              "    <tr>\n",
              "      <th>5</th>\n",
              "    </tr>\n",
              "    <tr>\n",
              "      <th>7</th>\n",
              "    </tr>\n",
              "    <tr>\n",
              "      <th>10</th>\n",
              "    </tr>\n",
              "    <tr>\n",
              "      <th>11</th>\n",
              "    </tr>\n",
              "    <tr>\n",
              "      <th>13</th>\n",
              "    </tr>\n",
              "    <tr>\n",
              "      <th>17</th>\n",
              "    </tr>\n",
              "    <tr>\n",
              "      <th>21</th>\n",
              "    </tr>\n",
              "    <tr>\n",
              "      <th>22</th>\n",
              "    </tr>\n",
              "    <tr>\n",
              "      <th>25</th>\n",
              "    </tr>\n",
              "    <tr>\n",
              "      <th>28</th>\n",
              "    </tr>\n",
              "    <tr>\n",
              "      <th>29</th>\n",
              "    </tr>\n",
              "    <tr>\n",
              "      <th>30</th>\n",
              "    </tr>\n",
              "    <tr>\n",
              "      <th>31</th>\n",
              "    </tr>\n",
              "    <tr>\n",
              "      <th>32</th>\n",
              "    </tr>\n",
              "    <tr>\n",
              "      <th>33</th>\n",
              "    </tr>\n",
              "    <tr>\n",
              "      <th>34</th>\n",
              "    </tr>\n",
              "  </tbody>\n",
              "</table>\n",
              "</div>"
            ],
            "text/plain": [
              "Empty DataFrame\n",
              "Columns: []\n",
              "Index: [(0, 2), (0, 3), (0, 4), (0, 6), (0, 8), (0, 9), (0, 12), (0, 14), (0, 15), (0, 16), (0, 18), (0, 19), (0, 20), (0, 23), (0, 24), (0, 26), (0, 27), (1, 1), (1, 5), (1, 7), (1, 10), (1, 11), (1, 13), (1, 17), (1, 21), (1, 22), (1, 25), (1, 28), (1, 29), (1, 30), (1, 31), (1, 32), (1, 33), (1, 34)]"
            ]
          },
          "metadata": {
            "tags": []
          },
          "execution_count": 60
        }
      ]
    },
    {
      "cell_type": "code",
      "metadata": {
        "id": "r1kw_usG_G3q",
        "colab_type": "code",
        "colab": {}
      },
      "source": [
        "df = df.drop(columns='province')"
      ],
      "execution_count": 61,
      "outputs": []
    },
    {
      "cell_type": "code",
      "metadata": {
        "id": "XZNrJwGFIxN5",
        "colab_type": "code",
        "colab": {
          "base_uri": "https://localhost:8080/",
          "height": 312
        },
        "outputId": "6e6b0f48-e6e7-4b04-9993-5ce111a2b81a"
      },
      "source": [
        "df.columns"
      ],
      "execution_count": 62,
      "outputs": [
        {
          "output_type": "execute_result",
          "data": {
            "text/plain": [
              "Index(['age', 'amount_repaid', 'amount_spent_next1month', 'cash_rebate',\n",
              "       'credit_rep', 'credit_rep_plus_moral_rel', 'credit_rep_version',\n",
              "       'creditlimit', 'crowding_out_exp', 'ctrl', 'debt_to_income',\n",
              "       'debt_to_income_moral', 'default', 'delinquent', 'female',\n",
              "       'followup_exp', 'income', 'late_2016', 'main_exp', 'male', 'male_moral',\n",
              "       'min_payment', 'moral_all', 'moral_first', 'moral_imp', 'moral_non',\n",
              "       'moral_rel', 'moral_repeated', 'muslim', 'muslim_moral', 'old',\n",
              "       'old_moral', 'outstanding', 'p_usage_next1month', 'poor_credit_history',\n",
              "       'poor_credit_history_moral', 'randomcardnumber', 'religious_plac',\n",
              "       'repaid_twice_min', 'sample_before', 'savings_15', 'savings_18',\n",
              "       'savings_account', 'savings_reduced', 'simple_rem',\n",
              "       'simple_rem_plus_due_date_message', 'treatment_repeated', 'wave',\n",
              "       'default_sample', 'weight', 'high_credit_risk', 'religious_province',\n",
              "       'religious_province_moral', 'high_credit_risk_50', 'treatment_wave1',\n",
              "       'treatment_wave2', 'treatment_wave3', 'treatment_wave4',\n",
              "       'treatment_wave5', 'treatment_wave6'],\n",
              "      dtype='object')"
            ]
          },
          "metadata": {
            "tags": []
          },
          "execution_count": 62
        }
      ]
    },
    {
      "cell_type": "markdown",
      "metadata": {
        "id": "6KcTAv5vIqTD",
        "colab_type": "text"
      },
      "source": [
        "##1.3 Encoding Categorical Columns"
      ]
    },
    {
      "cell_type": "code",
      "metadata": {
        "id": "341dhnNbBQMH",
        "colab_type": "code",
        "colab": {
          "base_uri": "https://localhost:8080/",
          "height": 121
        },
        "outputId": "7848a7e3-3c7b-40fc-b24f-eb0bbd374077"
      },
      "source": [
        "num = ['int', 'float']\n",
        "num_features = [i for i in df.columns if df[i].dtype in num]\n",
        "cat_features = [i for i in df.columns if i not in num_features]\n",
        "cat_features"
      ],
      "execution_count": 63,
      "outputs": [
        {
          "output_type": "execute_result",
          "data": {
            "text/plain": [
              "['treatment_wave1',\n",
              " 'treatment_wave2',\n",
              " 'treatment_wave3',\n",
              " 'treatment_wave4',\n",
              " 'treatment_wave5',\n",
              " 'treatment_wave6']"
            ]
          },
          "metadata": {
            "tags": []
          },
          "execution_count": 63
        }
      ]
    },
    {
      "cell_type": "code",
      "metadata": {
        "id": "3a_AMLOaX3TW",
        "colab_type": "code",
        "colab": {
          "base_uri": "https://localhost:8080/",
          "height": 34
        },
        "outputId": "8f79e148-402b-47e9-b819-32a88699c740"
      },
      "source": [
        "from sklearn.preprocessing import OneHotEncoder\n",
        "\n",
        "encoder = OneHotEncoder(categories='auto').fit(df[cat_features])\n",
        "transformed_data = encoder.transform(df[cat_features]).toarray()\n",
        "transformed_data.shape"
      ],
      "execution_count": 64,
      "outputs": [
        {
          "output_type": "execute_result",
          "data": {
            "text/plain": [
              "(6979, 28)"
            ]
          },
          "metadata": {
            "tags": []
          },
          "execution_count": 64
        }
      ]
    },
    {
      "cell_type": "code",
      "metadata": {
        "id": "8OnJlen6YRX7",
        "colab_type": "code",
        "colab": {
          "base_uri": "https://localhost:8080/",
          "height": 240
        },
        "outputId": "85d059d9-700e-42be-9395-cd4b26d38a48"
      },
      "source": [
        "transformed_data = pd.DataFrame(transformed_data,columns=encoder.get_feature_names(cat_features))\n",
        "transformed_data.head()"
      ],
      "execution_count": 65,
      "outputs": [
        {
          "output_type": "execute_result",
          "data": {
            "text/html": [
              "<div>\n",
              "<style scoped>\n",
              "    .dataframe tbody tr th:only-of-type {\n",
              "        vertical-align: middle;\n",
              "    }\n",
              "\n",
              "    .dataframe tbody tr th {\n",
              "        vertical-align: top;\n",
              "    }\n",
              "\n",
              "    .dataframe thead th {\n",
              "        text-align: right;\n",
              "    }\n",
              "</style>\n",
              "<table border=\"1\" class=\"dataframe\">\n",
              "  <thead>\n",
              "    <tr style=\"text-align: right;\">\n",
              "      <th></th>\n",
              "      <th>treatment_wave1_No Data</th>\n",
              "      <th>treatment_wave1_credit_rep</th>\n",
              "      <th>treatment_wave1_ctrl</th>\n",
              "      <th>treatment_wave1_moral_rel</th>\n",
              "      <th>treatment_wave1_religious_plac</th>\n",
              "      <th>treatment_wave1_simple_rem</th>\n",
              "      <th>treatment_wave2_No Data</th>\n",
              "      <th>treatment_wave2_credit_rep</th>\n",
              "      <th>treatment_wave2_ctrl</th>\n",
              "      <th>treatment_wave2_moral_rel</th>\n",
              "      <th>treatment_wave2_religious_plac</th>\n",
              "      <th>treatment_wave2_simple_rem</th>\n",
              "      <th>treatment_wave3_No Data</th>\n",
              "      <th>treatment_wave3_credit_rep</th>\n",
              "      <th>treatment_wave3_ctrl</th>\n",
              "      <th>treatment_wave3_moral_rel</th>\n",
              "      <th>treatment_wave3_religious_plac</th>\n",
              "      <th>treatment_wave3_simple_rem</th>\n",
              "      <th>treatment_wave4_No Data</th>\n",
              "      <th>treatment_wave4_ctrl</th>\n",
              "      <th>treatment_wave5_No Data</th>\n",
              "      <th>treatment_wave5_ctrl</th>\n",
              "      <th>treatment_wave5_moral_imp</th>\n",
              "      <th>treatment_wave5_moral_non</th>\n",
              "      <th>treatment_wave5_moral_rel</th>\n",
              "      <th>treatment_wave6_No Data</th>\n",
              "      <th>treatment_wave6_ctrl</th>\n",
              "      <th>treatment_wave6_moral_rel</th>\n",
              "    </tr>\n",
              "  </thead>\n",
              "  <tbody>\n",
              "    <tr>\n",
              "      <th>0</th>\n",
              "      <td>0.0</td>\n",
              "      <td>1.0</td>\n",
              "      <td>0.0</td>\n",
              "      <td>0.0</td>\n",
              "      <td>0.0</td>\n",
              "      <td>0.0</td>\n",
              "      <td>1.0</td>\n",
              "      <td>0.0</td>\n",
              "      <td>0.0</td>\n",
              "      <td>0.0</td>\n",
              "      <td>0.0</td>\n",
              "      <td>0.0</td>\n",
              "      <td>1.0</td>\n",
              "      <td>0.0</td>\n",
              "      <td>0.0</td>\n",
              "      <td>0.0</td>\n",
              "      <td>0.0</td>\n",
              "      <td>0.0</td>\n",
              "      <td>1.0</td>\n",
              "      <td>0.0</td>\n",
              "      <td>1.0</td>\n",
              "      <td>0.0</td>\n",
              "      <td>0.0</td>\n",
              "      <td>0.0</td>\n",
              "      <td>0.0</td>\n",
              "      <td>1.0</td>\n",
              "      <td>0.0</td>\n",
              "      <td>0.0</td>\n",
              "    </tr>\n",
              "    <tr>\n",
              "      <th>1</th>\n",
              "      <td>0.0</td>\n",
              "      <td>0.0</td>\n",
              "      <td>1.0</td>\n",
              "      <td>0.0</td>\n",
              "      <td>0.0</td>\n",
              "      <td>0.0</td>\n",
              "      <td>1.0</td>\n",
              "      <td>0.0</td>\n",
              "      <td>0.0</td>\n",
              "      <td>0.0</td>\n",
              "      <td>0.0</td>\n",
              "      <td>0.0</td>\n",
              "      <td>1.0</td>\n",
              "      <td>0.0</td>\n",
              "      <td>0.0</td>\n",
              "      <td>0.0</td>\n",
              "      <td>0.0</td>\n",
              "      <td>0.0</td>\n",
              "      <td>1.0</td>\n",
              "      <td>0.0</td>\n",
              "      <td>1.0</td>\n",
              "      <td>0.0</td>\n",
              "      <td>0.0</td>\n",
              "      <td>0.0</td>\n",
              "      <td>0.0</td>\n",
              "      <td>1.0</td>\n",
              "      <td>0.0</td>\n",
              "      <td>0.0</td>\n",
              "    </tr>\n",
              "    <tr>\n",
              "      <th>2</th>\n",
              "      <td>1.0</td>\n",
              "      <td>0.0</td>\n",
              "      <td>0.0</td>\n",
              "      <td>0.0</td>\n",
              "      <td>0.0</td>\n",
              "      <td>0.0</td>\n",
              "      <td>0.0</td>\n",
              "      <td>0.0</td>\n",
              "      <td>0.0</td>\n",
              "      <td>1.0</td>\n",
              "      <td>0.0</td>\n",
              "      <td>0.0</td>\n",
              "      <td>1.0</td>\n",
              "      <td>0.0</td>\n",
              "      <td>0.0</td>\n",
              "      <td>0.0</td>\n",
              "      <td>0.0</td>\n",
              "      <td>0.0</td>\n",
              "      <td>1.0</td>\n",
              "      <td>0.0</td>\n",
              "      <td>1.0</td>\n",
              "      <td>0.0</td>\n",
              "      <td>0.0</td>\n",
              "      <td>0.0</td>\n",
              "      <td>0.0</td>\n",
              "      <td>1.0</td>\n",
              "      <td>0.0</td>\n",
              "      <td>0.0</td>\n",
              "    </tr>\n",
              "    <tr>\n",
              "      <th>3</th>\n",
              "      <td>1.0</td>\n",
              "      <td>0.0</td>\n",
              "      <td>0.0</td>\n",
              "      <td>0.0</td>\n",
              "      <td>0.0</td>\n",
              "      <td>0.0</td>\n",
              "      <td>0.0</td>\n",
              "      <td>0.0</td>\n",
              "      <td>0.0</td>\n",
              "      <td>1.0</td>\n",
              "      <td>0.0</td>\n",
              "      <td>0.0</td>\n",
              "      <td>1.0</td>\n",
              "      <td>0.0</td>\n",
              "      <td>0.0</td>\n",
              "      <td>0.0</td>\n",
              "      <td>0.0</td>\n",
              "      <td>0.0</td>\n",
              "      <td>1.0</td>\n",
              "      <td>0.0</td>\n",
              "      <td>1.0</td>\n",
              "      <td>0.0</td>\n",
              "      <td>0.0</td>\n",
              "      <td>0.0</td>\n",
              "      <td>0.0</td>\n",
              "      <td>1.0</td>\n",
              "      <td>0.0</td>\n",
              "      <td>0.0</td>\n",
              "    </tr>\n",
              "    <tr>\n",
              "      <th>4</th>\n",
              "      <td>1.0</td>\n",
              "      <td>0.0</td>\n",
              "      <td>0.0</td>\n",
              "      <td>0.0</td>\n",
              "      <td>0.0</td>\n",
              "      <td>0.0</td>\n",
              "      <td>0.0</td>\n",
              "      <td>1.0</td>\n",
              "      <td>0.0</td>\n",
              "      <td>0.0</td>\n",
              "      <td>0.0</td>\n",
              "      <td>0.0</td>\n",
              "      <td>1.0</td>\n",
              "      <td>0.0</td>\n",
              "      <td>0.0</td>\n",
              "      <td>0.0</td>\n",
              "      <td>0.0</td>\n",
              "      <td>0.0</td>\n",
              "      <td>1.0</td>\n",
              "      <td>0.0</td>\n",
              "      <td>1.0</td>\n",
              "      <td>0.0</td>\n",
              "      <td>0.0</td>\n",
              "      <td>0.0</td>\n",
              "      <td>0.0</td>\n",
              "      <td>1.0</td>\n",
              "      <td>0.0</td>\n",
              "      <td>0.0</td>\n",
              "    </tr>\n",
              "  </tbody>\n",
              "</table>\n",
              "</div>"
            ],
            "text/plain": [
              "   treatment_wave1_No Data  ...  treatment_wave6_moral_rel\n",
              "0                      0.0  ...                        0.0\n",
              "1                      0.0  ...                        0.0\n",
              "2                      1.0  ...                        0.0\n",
              "3                      1.0  ...                        0.0\n",
              "4                      1.0  ...                        0.0\n",
              "\n",
              "[5 rows x 28 columns]"
            ]
          },
          "metadata": {
            "tags": []
          },
          "execution_count": 65
        }
      ]
    },
    {
      "cell_type": "code",
      "metadata": {
        "id": "S3p4H_6CF7xe",
        "colab_type": "code",
        "colab": {
          "base_uri": "https://localhost:8080/",
          "height": 240
        },
        "outputId": "3bb56aa9-9634-40a4-ffbe-f4f96484d76b"
      },
      "source": [
        "df = df.join(transformed_data)\n",
        "df.iloc[:,-36:].head()"
      ],
      "execution_count": 66,
      "outputs": [
        {
          "output_type": "execute_result",
          "data": {
            "text/html": [
              "<div>\n",
              "<style scoped>\n",
              "    .dataframe tbody tr th:only-of-type {\n",
              "        vertical-align: middle;\n",
              "    }\n",
              "\n",
              "    .dataframe tbody tr th {\n",
              "        vertical-align: top;\n",
              "    }\n",
              "\n",
              "    .dataframe thead th {\n",
              "        text-align: right;\n",
              "    }\n",
              "</style>\n",
              "<table border=\"1\" class=\"dataframe\">\n",
              "  <thead>\n",
              "    <tr style=\"text-align: right;\">\n",
              "      <th></th>\n",
              "      <th>religious_province_moral</th>\n",
              "      <th>high_credit_risk_50</th>\n",
              "      <th>treatment_wave1</th>\n",
              "      <th>treatment_wave2</th>\n",
              "      <th>treatment_wave3</th>\n",
              "      <th>treatment_wave4</th>\n",
              "      <th>treatment_wave5</th>\n",
              "      <th>treatment_wave6</th>\n",
              "      <th>treatment_wave1_No Data</th>\n",
              "      <th>treatment_wave1_credit_rep</th>\n",
              "      <th>treatment_wave1_ctrl</th>\n",
              "      <th>treatment_wave1_moral_rel</th>\n",
              "      <th>treatment_wave1_religious_plac</th>\n",
              "      <th>treatment_wave1_simple_rem</th>\n",
              "      <th>treatment_wave2_No Data</th>\n",
              "      <th>treatment_wave2_credit_rep</th>\n",
              "      <th>treatment_wave2_ctrl</th>\n",
              "      <th>treatment_wave2_moral_rel</th>\n",
              "      <th>treatment_wave2_religious_plac</th>\n",
              "      <th>treatment_wave2_simple_rem</th>\n",
              "      <th>treatment_wave3_No Data</th>\n",
              "      <th>treatment_wave3_credit_rep</th>\n",
              "      <th>treatment_wave3_ctrl</th>\n",
              "      <th>treatment_wave3_moral_rel</th>\n",
              "      <th>treatment_wave3_religious_plac</th>\n",
              "      <th>treatment_wave3_simple_rem</th>\n",
              "      <th>treatment_wave4_No Data</th>\n",
              "      <th>treatment_wave4_ctrl</th>\n",
              "      <th>treatment_wave5_No Data</th>\n",
              "      <th>treatment_wave5_ctrl</th>\n",
              "      <th>treatment_wave5_moral_imp</th>\n",
              "      <th>treatment_wave5_moral_non</th>\n",
              "      <th>treatment_wave5_moral_rel</th>\n",
              "      <th>treatment_wave6_No Data</th>\n",
              "      <th>treatment_wave6_ctrl</th>\n",
              "      <th>treatment_wave6_moral_rel</th>\n",
              "    </tr>\n",
              "  </thead>\n",
              "  <tbody>\n",
              "    <tr>\n",
              "      <th>0</th>\n",
              "      <td>0.0</td>\n",
              "      <td>1</td>\n",
              "      <td>credit_rep</td>\n",
              "      <td>No Data</td>\n",
              "      <td>No Data</td>\n",
              "      <td>No Data</td>\n",
              "      <td>No Data</td>\n",
              "      <td>No Data</td>\n",
              "      <td>0.0</td>\n",
              "      <td>1.0</td>\n",
              "      <td>0.0</td>\n",
              "      <td>0.0</td>\n",
              "      <td>0.0</td>\n",
              "      <td>0.0</td>\n",
              "      <td>1.0</td>\n",
              "      <td>0.0</td>\n",
              "      <td>0.0</td>\n",
              "      <td>0.0</td>\n",
              "      <td>0.0</td>\n",
              "      <td>0.0</td>\n",
              "      <td>1.0</td>\n",
              "      <td>0.0</td>\n",
              "      <td>0.0</td>\n",
              "      <td>0.0</td>\n",
              "      <td>0.0</td>\n",
              "      <td>0.0</td>\n",
              "      <td>1.0</td>\n",
              "      <td>0.0</td>\n",
              "      <td>1.0</td>\n",
              "      <td>0.0</td>\n",
              "      <td>0.0</td>\n",
              "      <td>0.0</td>\n",
              "      <td>0.0</td>\n",
              "      <td>1.0</td>\n",
              "      <td>0.0</td>\n",
              "      <td>0.0</td>\n",
              "    </tr>\n",
              "    <tr>\n",
              "      <th>1</th>\n",
              "      <td>0.0</td>\n",
              "      <td>1</td>\n",
              "      <td>ctrl</td>\n",
              "      <td>No Data</td>\n",
              "      <td>No Data</td>\n",
              "      <td>No Data</td>\n",
              "      <td>No Data</td>\n",
              "      <td>No Data</td>\n",
              "      <td>0.0</td>\n",
              "      <td>0.0</td>\n",
              "      <td>1.0</td>\n",
              "      <td>0.0</td>\n",
              "      <td>0.0</td>\n",
              "      <td>0.0</td>\n",
              "      <td>1.0</td>\n",
              "      <td>0.0</td>\n",
              "      <td>0.0</td>\n",
              "      <td>0.0</td>\n",
              "      <td>0.0</td>\n",
              "      <td>0.0</td>\n",
              "      <td>1.0</td>\n",
              "      <td>0.0</td>\n",
              "      <td>0.0</td>\n",
              "      <td>0.0</td>\n",
              "      <td>0.0</td>\n",
              "      <td>0.0</td>\n",
              "      <td>1.0</td>\n",
              "      <td>0.0</td>\n",
              "      <td>1.0</td>\n",
              "      <td>0.0</td>\n",
              "      <td>0.0</td>\n",
              "      <td>0.0</td>\n",
              "      <td>0.0</td>\n",
              "      <td>1.0</td>\n",
              "      <td>0.0</td>\n",
              "      <td>0.0</td>\n",
              "    </tr>\n",
              "    <tr>\n",
              "      <th>2</th>\n",
              "      <td>1.0</td>\n",
              "      <td>1</td>\n",
              "      <td>No Data</td>\n",
              "      <td>moral_rel</td>\n",
              "      <td>No Data</td>\n",
              "      <td>No Data</td>\n",
              "      <td>No Data</td>\n",
              "      <td>No Data</td>\n",
              "      <td>1.0</td>\n",
              "      <td>0.0</td>\n",
              "      <td>0.0</td>\n",
              "      <td>0.0</td>\n",
              "      <td>0.0</td>\n",
              "      <td>0.0</td>\n",
              "      <td>0.0</td>\n",
              "      <td>0.0</td>\n",
              "      <td>0.0</td>\n",
              "      <td>1.0</td>\n",
              "      <td>0.0</td>\n",
              "      <td>0.0</td>\n",
              "      <td>1.0</td>\n",
              "      <td>0.0</td>\n",
              "      <td>0.0</td>\n",
              "      <td>0.0</td>\n",
              "      <td>0.0</td>\n",
              "      <td>0.0</td>\n",
              "      <td>1.0</td>\n",
              "      <td>0.0</td>\n",
              "      <td>1.0</td>\n",
              "      <td>0.0</td>\n",
              "      <td>0.0</td>\n",
              "      <td>0.0</td>\n",
              "      <td>0.0</td>\n",
              "      <td>1.0</td>\n",
              "      <td>0.0</td>\n",
              "      <td>0.0</td>\n",
              "    </tr>\n",
              "    <tr>\n",
              "      <th>3</th>\n",
              "      <td>1.0</td>\n",
              "      <td>1</td>\n",
              "      <td>No Data</td>\n",
              "      <td>moral_rel</td>\n",
              "      <td>No Data</td>\n",
              "      <td>No Data</td>\n",
              "      <td>No Data</td>\n",
              "      <td>No Data</td>\n",
              "      <td>1.0</td>\n",
              "      <td>0.0</td>\n",
              "      <td>0.0</td>\n",
              "      <td>0.0</td>\n",
              "      <td>0.0</td>\n",
              "      <td>0.0</td>\n",
              "      <td>0.0</td>\n",
              "      <td>0.0</td>\n",
              "      <td>0.0</td>\n",
              "      <td>1.0</td>\n",
              "      <td>0.0</td>\n",
              "      <td>0.0</td>\n",
              "      <td>1.0</td>\n",
              "      <td>0.0</td>\n",
              "      <td>0.0</td>\n",
              "      <td>0.0</td>\n",
              "      <td>0.0</td>\n",
              "      <td>0.0</td>\n",
              "      <td>1.0</td>\n",
              "      <td>0.0</td>\n",
              "      <td>1.0</td>\n",
              "      <td>0.0</td>\n",
              "      <td>0.0</td>\n",
              "      <td>0.0</td>\n",
              "      <td>0.0</td>\n",
              "      <td>1.0</td>\n",
              "      <td>0.0</td>\n",
              "      <td>0.0</td>\n",
              "    </tr>\n",
              "    <tr>\n",
              "      <th>4</th>\n",
              "      <td>0.0</td>\n",
              "      <td>1</td>\n",
              "      <td>No Data</td>\n",
              "      <td>credit_rep</td>\n",
              "      <td>No Data</td>\n",
              "      <td>No Data</td>\n",
              "      <td>No Data</td>\n",
              "      <td>No Data</td>\n",
              "      <td>1.0</td>\n",
              "      <td>0.0</td>\n",
              "      <td>0.0</td>\n",
              "      <td>0.0</td>\n",
              "      <td>0.0</td>\n",
              "      <td>0.0</td>\n",
              "      <td>0.0</td>\n",
              "      <td>1.0</td>\n",
              "      <td>0.0</td>\n",
              "      <td>0.0</td>\n",
              "      <td>0.0</td>\n",
              "      <td>0.0</td>\n",
              "      <td>1.0</td>\n",
              "      <td>0.0</td>\n",
              "      <td>0.0</td>\n",
              "      <td>0.0</td>\n",
              "      <td>0.0</td>\n",
              "      <td>0.0</td>\n",
              "      <td>1.0</td>\n",
              "      <td>0.0</td>\n",
              "      <td>1.0</td>\n",
              "      <td>0.0</td>\n",
              "      <td>0.0</td>\n",
              "      <td>0.0</td>\n",
              "      <td>0.0</td>\n",
              "      <td>1.0</td>\n",
              "      <td>0.0</td>\n",
              "      <td>0.0</td>\n",
              "    </tr>\n",
              "  </tbody>\n",
              "</table>\n",
              "</div>"
            ],
            "text/plain": [
              "   religious_province_moral  ...  treatment_wave6_moral_rel\n",
              "0                       0.0  ...                        0.0\n",
              "1                       0.0  ...                        0.0\n",
              "2                       1.0  ...                        0.0\n",
              "3                       1.0  ...                        0.0\n",
              "4                       0.0  ...                        0.0\n",
              "\n",
              "[5 rows x 36 columns]"
            ]
          },
          "metadata": {
            "tags": []
          },
          "execution_count": 66
        }
      ]
    },
    {
      "cell_type": "code",
      "metadata": {
        "id": "AisRPNd3H-Nf",
        "colab_type": "code",
        "colab": {
          "base_uri": "https://localhost:8080/",
          "height": 554
        },
        "outputId": "f9030ae5-7bfb-4e72-c595-4a43fb1e3c81"
      },
      "source": [
        "df.columns"
      ],
      "execution_count": 67,
      "outputs": [
        {
          "output_type": "execute_result",
          "data": {
            "text/plain": [
              "Index(['age', 'amount_repaid', 'amount_spent_next1month', 'cash_rebate',\n",
              "       'credit_rep', 'credit_rep_plus_moral_rel', 'credit_rep_version',\n",
              "       'creditlimit', 'crowding_out_exp', 'ctrl', 'debt_to_income',\n",
              "       'debt_to_income_moral', 'default', 'delinquent', 'female',\n",
              "       'followup_exp', 'income', 'late_2016', 'main_exp', 'male', 'male_moral',\n",
              "       'min_payment', 'moral_all', 'moral_first', 'moral_imp', 'moral_non',\n",
              "       'moral_rel', 'moral_repeated', 'muslim', 'muslim_moral', 'old',\n",
              "       'old_moral', 'outstanding', 'p_usage_next1month', 'poor_credit_history',\n",
              "       'poor_credit_history_moral', 'randomcardnumber', 'religious_plac',\n",
              "       'repaid_twice_min', 'sample_before', 'savings_15', 'savings_18',\n",
              "       'savings_account', 'savings_reduced', 'simple_rem',\n",
              "       'simple_rem_plus_due_date_message', 'treatment_repeated', 'wave',\n",
              "       'default_sample', 'weight', 'high_credit_risk', 'religious_province',\n",
              "       'religious_province_moral', 'high_credit_risk_50', 'treatment_wave1',\n",
              "       'treatment_wave2', 'treatment_wave3', 'treatment_wave4',\n",
              "       'treatment_wave5', 'treatment_wave6', 'treatment_wave1_No Data',\n",
              "       'treatment_wave1_credit_rep', 'treatment_wave1_ctrl',\n",
              "       'treatment_wave1_moral_rel', 'treatment_wave1_religious_plac',\n",
              "       'treatment_wave1_simple_rem', 'treatment_wave2_No Data',\n",
              "       'treatment_wave2_credit_rep', 'treatment_wave2_ctrl',\n",
              "       'treatment_wave2_moral_rel', 'treatment_wave2_religious_plac',\n",
              "       'treatment_wave2_simple_rem', 'treatment_wave3_No Data',\n",
              "       'treatment_wave3_credit_rep', 'treatment_wave3_ctrl',\n",
              "       'treatment_wave3_moral_rel', 'treatment_wave3_religious_plac',\n",
              "       'treatment_wave3_simple_rem', 'treatment_wave4_No Data',\n",
              "       'treatment_wave4_ctrl', 'treatment_wave5_No Data',\n",
              "       'treatment_wave5_ctrl', 'treatment_wave5_moral_imp',\n",
              "       'treatment_wave5_moral_non', 'treatment_wave5_moral_rel',\n",
              "       'treatment_wave6_No Data', 'treatment_wave6_ctrl',\n",
              "       'treatment_wave6_moral_rel'],\n",
              "      dtype='object')"
            ]
          },
          "metadata": {
            "tags": []
          },
          "execution_count": 67
        }
      ]
    },
    {
      "cell_type": "code",
      "metadata": {
        "id": "oMNFkSs-IJPu",
        "colab_type": "code",
        "colab": {}
      },
      "source": [
        "df = df.drop(columns=cat_features)"
      ],
      "execution_count": 68,
      "outputs": []
    },
    {
      "cell_type": "code",
      "metadata": {
        "id": "SwDe5WV5Qle1",
        "colab_type": "code",
        "colab": {
          "base_uri": "https://localhost:8080/",
          "height": 121
        },
        "outputId": "04e1cbd3-b0f8-4be3-ff2a-7404f9b01e3f"
      },
      "source": [
        "no_data_treat_feat = [i for i in df.columns if i.split('_')[-1] == 'No Data']\n",
        "no_data_treat_feat"
      ],
      "execution_count": 69,
      "outputs": [
        {
          "output_type": "execute_result",
          "data": {
            "text/plain": [
              "['treatment_wave1_No Data',\n",
              " 'treatment_wave2_No Data',\n",
              " 'treatment_wave3_No Data',\n",
              " 'treatment_wave4_No Data',\n",
              " 'treatment_wave5_No Data',\n",
              " 'treatment_wave6_No Data']"
            ]
          },
          "metadata": {
            "tags": []
          },
          "execution_count": 69
        }
      ]
    },
    {
      "cell_type": "code",
      "metadata": {
        "id": "E3XmCyWkQ-ok",
        "colab_type": "code",
        "colab": {}
      },
      "source": [
        "df = df.drop(columns=no_data_treat_feat)"
      ],
      "execution_count": 70,
      "outputs": []
    },
    {
      "cell_type": "code",
      "metadata": {
        "id": "3PKU_iHaUER_",
        "colab_type": "code",
        "colab": {
          "base_uri": "https://localhost:8080/",
          "height": 520
        },
        "outputId": "2fbaeab0-8aca-400f-be65-13f4717e1ce5"
      },
      "source": [
        "cat_features_2 = [i for i in df.columns if i not in num_features]\n",
        "df[cat_features_2].info()"
      ],
      "execution_count": 71,
      "outputs": [
        {
          "output_type": "stream",
          "text": [
            "<class 'pandas.core.frame.DataFrame'>\n",
            "RangeIndex: 6979 entries, 0 to 6978\n",
            "Data columns (total 22 columns):\n",
            " #   Column                          Non-Null Count  Dtype  \n",
            "---  ------                          --------------  -----  \n",
            " 0   treatment_wave1_credit_rep      6979 non-null   float64\n",
            " 1   treatment_wave1_ctrl            6979 non-null   float64\n",
            " 2   treatment_wave1_moral_rel       6979 non-null   float64\n",
            " 3   treatment_wave1_religious_plac  6979 non-null   float64\n",
            " 4   treatment_wave1_simple_rem      6979 non-null   float64\n",
            " 5   treatment_wave2_credit_rep      6979 non-null   float64\n",
            " 6   treatment_wave2_ctrl            6979 non-null   float64\n",
            " 7   treatment_wave2_moral_rel       6979 non-null   float64\n",
            " 8   treatment_wave2_religious_plac  6979 non-null   float64\n",
            " 9   treatment_wave2_simple_rem      6979 non-null   float64\n",
            " 10  treatment_wave3_credit_rep      6979 non-null   float64\n",
            " 11  treatment_wave3_ctrl            6979 non-null   float64\n",
            " 12  treatment_wave3_moral_rel       6979 non-null   float64\n",
            " 13  treatment_wave3_religious_plac  6979 non-null   float64\n",
            " 14  treatment_wave3_simple_rem      6979 non-null   float64\n",
            " 15  treatment_wave4_ctrl            6979 non-null   float64\n",
            " 16  treatment_wave5_ctrl            6979 non-null   float64\n",
            " 17  treatment_wave5_moral_imp       6979 non-null   float64\n",
            " 18  treatment_wave5_moral_non       6979 non-null   float64\n",
            " 19  treatment_wave5_moral_rel       6979 non-null   float64\n",
            " 20  treatment_wave6_ctrl            6979 non-null   float64\n",
            " 21  treatment_wave6_moral_rel       6979 non-null   float64\n",
            "dtypes: float64(22)\n",
            "memory usage: 1.2 MB\n"
          ],
          "name": "stdout"
        }
      ]
    },
    {
      "cell_type": "code",
      "metadata": {
        "id": "-JpFmn3BZ2fK",
        "colab_type": "code",
        "colab": {
          "base_uri": "https://localhost:8080/",
          "height": 121
        },
        "outputId": "fa9e8250-dfd1-4550-d3aa-570c3ea5ec6d"
      },
      "source": [
        "df['treatment_total'] = 0    \n",
        "for i in cat_features_2:\n",
        "    df['treatment_total'] += df[i]\n",
        "df['treatment_total'].value_counts()"
      ],
      "execution_count": 72,
      "outputs": [
        {
          "output_type": "execute_result",
          "data": {
            "text/plain": [
              "1.0    5854\n",
              "2.0     958\n",
              "3.0     157\n",
              "4.0       7\n",
              "5.0       3\n",
              "Name: treatment_total, dtype: int64"
            ]
          },
          "metadata": {
            "tags": []
          },
          "execution_count": 72
        }
      ]
    },
    {
      "cell_type": "code",
      "metadata": {
        "id": "lQvWvIbpUHjb",
        "colab_type": "code",
        "colab": {
          "base_uri": "https://localhost:8080/",
          "height": 225
        },
        "outputId": "92c2ba41-a025-42c0-9792-c22f710e3185"
      },
      "source": [
        "df.iloc[:,-1]"
      ],
      "execution_count": 73,
      "outputs": [
        {
          "output_type": "execute_result",
          "data": {
            "text/plain": [
              "0       1.0\n",
              "1       1.0\n",
              "2       1.0\n",
              "3       1.0\n",
              "4       1.0\n",
              "       ... \n",
              "6974    1.0\n",
              "6975    1.0\n",
              "6976    2.0\n",
              "6977    1.0\n",
              "6978    2.0\n",
              "Name: treatment_total, Length: 6979, dtype: float64"
            ]
          },
          "metadata": {
            "tags": []
          },
          "execution_count": 73
        }
      ]
    },
    {
      "cell_type": "code",
      "metadata": {
        "id": "3KBFk_CYaoM6",
        "colab_type": "code",
        "colab": {
          "base_uri": "https://localhost:8080/",
          "height": 1000
        },
        "outputId": "198357dc-4f95-42d4-842d-72cbcfc9a5e6"
      },
      "source": [
        "df = df.drop(columns=cat_features_2)\n",
        "df.info()"
      ],
      "execution_count": 74,
      "outputs": [
        {
          "output_type": "stream",
          "text": [
            "<class 'pandas.core.frame.DataFrame'>\n",
            "RangeIndex: 6979 entries, 0 to 6978\n",
            "Data columns (total 55 columns):\n",
            " #   Column                            Non-Null Count  Dtype  \n",
            "---  ------                            --------------  -----  \n",
            " 0   age                               6979 non-null   float64\n",
            " 1   amount_repaid                     6979 non-null   int64  \n",
            " 2   amount_spent_next1month           6979 non-null   int64  \n",
            " 3   cash_rebate                       6979 non-null   int64  \n",
            " 4   credit_rep                        6979 non-null   int64  \n",
            " 5   credit_rep_plus_moral_rel         6979 non-null   int64  \n",
            " 6   credit_rep_version                6979 non-null   float64\n",
            " 7   creditlimit                       6979 non-null   float64\n",
            " 8   crowding_out_exp                  6979 non-null   int64  \n",
            " 9   ctrl                              6979 non-null   int64  \n",
            " 10  debt_to_income                    6979 non-null   float64\n",
            " 11  debt_to_income_moral              6979 non-null   float64\n",
            " 12  default                           6979 non-null   int64  \n",
            " 13  delinquent                        6979 non-null   int64  \n",
            " 14  female                            6979 non-null   int64  \n",
            " 15  followup_exp                      6979 non-null   int64  \n",
            " 16  income                            6979 non-null   float64\n",
            " 17  late_2016                         6979 non-null   int64  \n",
            " 18  main_exp                          6979 non-null   int64  \n",
            " 19  male                              6979 non-null   float64\n",
            " 20  male_moral                        6979 non-null   float64\n",
            " 21  min_payment                       6979 non-null   int64  \n",
            " 22  moral_all                         6979 non-null   int64  \n",
            " 23  moral_first                       6979 non-null   int64  \n",
            " 24  moral_imp                         6979 non-null   int64  \n",
            " 25  moral_non                         6979 non-null   int64  \n",
            " 26  moral_rel                         6979 non-null   int64  \n",
            " 27  moral_repeated                    6979 non-null   int64  \n",
            " 28  muslim                            6979 non-null   int64  \n",
            " 29  muslim_moral                      6979 non-null   float64\n",
            " 30  old                               6979 non-null   float64\n",
            " 31  old_moral                         6979 non-null   float64\n",
            " 32  outstanding                       6979 non-null   float64\n",
            " 33  p_usage_next1month                6979 non-null   int64  \n",
            " 34  poor_credit_history               6979 non-null   int64  \n",
            " 35  poor_credit_history_moral         6979 non-null   float64\n",
            " 36  randomcardnumber                  6979 non-null   int64  \n",
            " 37  religious_plac                    6979 non-null   int64  \n",
            " 38  repaid_twice_min                  6979 non-null   int64  \n",
            " 39  sample_before                     6979 non-null   int64  \n",
            " 40  savings_15                        6979 non-null   float64\n",
            " 41  savings_18                        6979 non-null   float64\n",
            " 42  savings_account                   6979 non-null   int64  \n",
            " 43  savings_reduced                   6979 non-null   float64\n",
            " 44  simple_rem                        6979 non-null   int64  \n",
            " 45  simple_rem_plus_due_date_message  6979 non-null   int64  \n",
            " 46  treatment_repeated                6979 non-null   float64\n",
            " 47  wave                              6979 non-null   int64  \n",
            " 48  default_sample                    6979 non-null   int64  \n",
            " 49  weight                            6979 non-null   float64\n",
            " 50  high_credit_risk                  6979 non-null   int64  \n",
            " 51  religious_province                6979 non-null   int64  \n",
            " 52  religious_province_moral          6979 non-null   float64\n",
            " 53  high_credit_risk_50               6979 non-null   int64  \n",
            " 54  treatment_total                   6979 non-null   float64\n",
            "dtypes: float64(20), int64(35)\n",
            "memory usage: 2.9 MB\n"
          ],
          "name": "stdout"
        }
      ]
    },
    {
      "cell_type": "markdown",
      "metadata": {
        "id": "FD9fAiS7LxvK",
        "colab_type": "text"
      },
      "source": [
        "##1.6 Outliers"
      ]
    },
    {
      "cell_type": "code",
      "metadata": {
        "id": "SnsD0S6WLxDe",
        "colab_type": "code",
        "colab": {
          "base_uri": "https://localhost:8080/",
          "height": 1000
        },
        "outputId": "7df23699-9f42-4173-ddd4-69410e43665d"
      },
      "source": [
        "def outlier(kolom):\n",
        "    q1 = df[kolom].quantile(0.25)\n",
        "    q3 = df[kolom].quantile(0.75)\n",
        "    iqr = q3-q1\n",
        "    batas_atas = 2*iqr + q3\n",
        "    batas_bawah = q1 - 2*iqr\n",
        "    outliers = df[(df[kolom] > batas_atas) | (df[kolom] < batas_bawah)]\n",
        "    if len(outliers)>0:\n",
        "        print(kolom+' punya '+str(len(outliers))+' outliers'+' dari '+str(df[kolom].notna().sum())+ ' baris tidak null atau '+\n",
        "           str(len(outliers)/df[kolom].notna().sum()*100)+'% dari data'  )\n",
        "        print(outliers[kolom].sort_values(ascending=False).head())\n",
        "\n",
        "nunique_more_2 = [i for i in df.columns if df[i].nunique()>5]\n",
        "for n in nunique_more_2:\n",
        "    outlier(n)"
      ],
      "execution_count": 75,
      "outputs": [
        {
          "output_type": "stream",
          "text": [
            "age punya 1 outliers dari 6979 baris tidak null atau 0.01432870038687491% dari data\n",
            "6483    91.666664\n",
            "Name: age, dtype: float64\n",
            "amount_repaid punya 467 outliers dari 6979 baris tidak null atau 6.691503080670583% dari data\n",
            "2267    40013500\n",
            "6949    39506000\n",
            "2427    39260000\n",
            "807     39025000\n",
            "3824    32830000\n",
            "Name: amount_repaid, dtype: int64\n",
            "amount_spent_next1month punya 664 outliers dari 6979 baris tidak null atau 9.51425705688494% dari data\n",
            "3784    78747592\n",
            "1490    49900000\n",
            "2406    43836424\n",
            "3725    41012000\n",
            "2213    40632000\n",
            "Name: amount_spent_next1month, dtype: int64\n",
            "creditlimit punya 738 outliers dari 6979 baris tidak null atau 10.574580885513683% dari data\n",
            "1089    75.0\n",
            "3012    75.0\n",
            "1175    75.0\n",
            "1074    50.0\n",
            "2009    50.0\n",
            "Name: creditlimit, dtype: float64\n",
            "income punya 934 outliers dari 6979 baris tidak null atau 13.383006161341166% dari data\n",
            "4940    60000.0\n",
            "2517    30000.0\n",
            "4022    25000.0\n",
            "2484     7800.0\n",
            "1945     4800.0\n",
            "Name: income, dtype: float64\n",
            "min_payment punya 381 outliers dari 6979 baris tidak null atau 5.45923484739934% dari data\n",
            "2056    20703200\n",
            "668     10452768\n",
            "90      10208186\n",
            "3550     9609176\n",
            "2919     8081999\n",
            "Name: min_payment, dtype: int64\n",
            "outstanding punya 381 outliers dari 6979 baris tidak null atau 5.45923484739934% dari data\n",
            "2056    207.032000\n",
            "668     104.527680\n",
            "90      102.081860\n",
            "3550     96.091759\n",
            "2919     80.819992\n",
            "Name: outstanding, dtype: float64\n",
            "savings_15 punya 873 outliers dari 6979 baris tidak null atau 12.508955437741797% dari data\n",
            "1431    973262720.0\n",
            "4917    530179552.0\n",
            "5240    382066592.0\n",
            "64      376269024.0\n",
            "4527    330983136.0\n",
            "Name: savings_15, dtype: float64\n",
            "savings_18 punya 891 outliers dari 6979 baris tidak null atau 12.766872044705547% dari data\n",
            "1431    976762752.0\n",
            "4917    530179552.0\n",
            "64      376269024.0\n",
            "5240    373366592.0\n",
            "4527    326940128.0\n",
            "Name: savings_18, dtype: float64\n"
          ],
          "name": "stdout"
        }
      ]
    },
    {
      "cell_type": "code",
      "metadata": {
        "id": "Ty26a91MNUu4",
        "colab_type": "code",
        "colab": {
          "base_uri": "https://localhost:8080/",
          "height": 648
        },
        "outputId": "79300355-a437-48f6-82e4-c0e2ea7bfd8a"
      },
      "source": [
        "from sklearn.preprocessing import StandardScaler\n",
        "from sklearn.preprocessing import MinMaxScaler\n",
        "\n",
        "outlier_cols = ['age', 'amount_repaid', 'amount_spent_next1month', 'creditlimit', 'income', 'min_payment', 'outstanding', 'savings_15', 'savings_18']\n",
        "plt.figure(figsize=(15,7.5))\n",
        "#sns.distplot(df['age'])\n",
        "print(df[outlier_cols].skew())\n",
        "sns.set_style('dark')\n",
        "sns.boxplot(data=df[outlier_cols[:-2]], orient=\"v\", palette=\"inferno\")\n",
        "sns.boxplot(data=df['amount_repaid'], orient=\"h\", palette=\"Oranges\")"
      ],
      "execution_count": 76,
      "outputs": [
        {
          "output_type": "stream",
          "text": [
            "age                         0.294904\n",
            "amount_repaid               9.389664\n",
            "amount_spent_next1month     7.647188\n",
            "creditlimit                 1.884824\n",
            "income                     53.720554\n",
            "min_payment                 3.791320\n",
            "outstanding                 3.791320\n",
            "savings_15                 37.151654\n",
            "savings_18                 35.266628\n",
            "dtype: float64\n"
          ],
          "name": "stdout"
        },
        {
          "output_type": "execute_result",
          "data": {
            "text/plain": [
              "<matplotlib.axes._subplots.AxesSubplot at 0x7ff002b46080>"
            ]
          },
          "metadata": {
            "tags": []
          },
          "execution_count": 76
        },
        {
          "output_type": "display_data",
          "data": {
            "image/png": "[encoded data removed]",
            "text/plain": [
              "<Figure size 1080x540 with 1 Axes>"
            ]
          },
          "metadata": {
            "tags": [],
            "needs_background": "light"
          }
        }
      ]
    },
    {
      "cell_type": "code",
      "metadata": {
        "id": "N4IYy6BUSxBP",
        "colab_type": "code",
        "colab": {
          "base_uri": "https://localhost:8080/",
          "height": 190
        },
        "outputId": "cd1addad-e6ea-422a-8db9-19ffbad29301"
      },
      "source": [
        "def outlier_handling(col):\n",
        "    q1 = df[col].quantile(0.25)\n",
        "    q3 = df[col].quantile(0.75)\n",
        "    iqr = q3-q1\n",
        "    upper_range = 2*iqr + q3\n",
        "    lower_range = q1 - 2*iqr\n",
        "    df.loc[(df[col] > upper_range), col] = upper_range\n",
        "    df.loc[(df[col] < lower_range), col] = lower_range\n",
        "\n",
        "for n in outlier_cols:\n",
        "    outlier_handling(n)\n",
        "\n",
        "for n in outlier_cols:\n",
        "    outlier(n)\n",
        "\n",
        "print(df[outlier_cols].skew())"
      ],
      "execution_count": 77,
      "outputs": [
        {
          "output_type": "stream",
          "text": [
            "age                        0.279993\n",
            "amount_repaid              1.555431\n",
            "amount_spent_next1month    1.426914\n",
            "creditlimit                0.892855\n",
            "income                     1.296738\n",
            "min_payment                1.280649\n",
            "outstanding                1.280649\n",
            "savings_15                 0.000000\n",
            "savings_18                 0.000000\n",
            "dtype: float64\n"
          ],
          "name": "stdout"
        }
      ]
    },
    {
      "cell_type": "code",
      "metadata": {
        "id": "uGgHDvJOTAPW",
        "colab_type": "code",
        "colab": {
          "base_uri": "https://localhost:8080/",
          "height": 52
        },
        "outputId": "a618e962-3037-4ad0-bb09-60ef04c24017"
      },
      "source": [
        "df['savings_15'].value_counts()"
      ],
      "execution_count": 78,
      "outputs": [
        {
          "output_type": "execute_result",
          "data": {
            "text/plain": [
              "0.0    6979\n",
              "Name: savings_15, dtype: int64"
            ]
          },
          "metadata": {
            "tags": []
          },
          "execution_count": 78
        }
      ]
    },
    {
      "cell_type": "code",
      "metadata": {
        "id": "OsEdVTQCXtcr",
        "colab_type": "code",
        "colab": {
          "base_uri": "https://localhost:8080/",
          "height": 1000
        },
        "outputId": "6a1abc3e-dd31-4c71-ebc1-61538f7745a7"
      },
      "source": [
        "df.info()"
      ],
      "execution_count": 79,
      "outputs": [
        {
          "output_type": "stream",
          "text": [
            "<class 'pandas.core.frame.DataFrame'>\n",
            "RangeIndex: 6979 entries, 0 to 6978\n",
            "Data columns (total 55 columns):\n",
            " #   Column                            Non-Null Count  Dtype  \n",
            "---  ------                            --------------  -----  \n",
            " 0   age                               6979 non-null   float64\n",
            " 1   amount_repaid                     6979 non-null   float64\n",
            " 2   amount_spent_next1month           6979 non-null   float64\n",
            " 3   cash_rebate                       6979 non-null   int64  \n",
            " 4   credit_rep                        6979 non-null   int64  \n",
            " 5   credit_rep_plus_moral_rel         6979 non-null   int64  \n",
            " 6   credit_rep_version                6979 non-null   float64\n",
            " 7   creditlimit                       6979 non-null   float64\n",
            " 8   crowding_out_exp                  6979 non-null   int64  \n",
            " 9   ctrl                              6979 non-null   int64  \n",
            " 10  debt_to_income                    6979 non-null   float64\n",
            " 11  debt_to_income_moral              6979 non-null   float64\n",
            " 12  default                           6979 non-null   int64  \n",
            " 13  delinquent                        6979 non-null   int64  \n",
            " 14  female                            6979 non-null   int64  \n",
            " 15  followup_exp                      6979 non-null   int64  \n",
            " 16  income                            6979 non-null   float64\n",
            " 17  late_2016                         6979 non-null   int64  \n",
            " 18  main_exp                          6979 non-null   int64  \n",
            " 19  male                              6979 non-null   float64\n",
            " 20  male_moral                        6979 non-null   float64\n",
            " 21  min_payment                       6979 non-null   float64\n",
            " 22  moral_all                         6979 non-null   int64  \n",
            " 23  moral_first                       6979 non-null   int64  \n",
            " 24  moral_imp                         6979 non-null   int64  \n",
            " 25  moral_non                         6979 non-null   int64  \n",
            " 26  moral_rel                         6979 non-null   int64  \n",
            " 27  moral_repeated                    6979 non-null   int64  \n",
            " 28  muslim                            6979 non-null   int64  \n",
            " 29  muslim_moral                      6979 non-null   float64\n",
            " 30  old                               6979 non-null   float64\n",
            " 31  old_moral                         6979 non-null   float64\n",
            " 32  outstanding                       6979 non-null   float64\n",
            " 33  p_usage_next1month                6979 non-null   int64  \n",
            " 34  poor_credit_history               6979 non-null   int64  \n",
            " 35  poor_credit_history_moral         6979 non-null   float64\n",
            " 36  randomcardnumber                  6979 non-null   int64  \n",
            " 37  religious_plac                    6979 non-null   int64  \n",
            " 38  repaid_twice_min                  6979 non-null   int64  \n",
            " 39  sample_before                     6979 non-null   int64  \n",
            " 40  savings_15                        6979 non-null   float64\n",
            " 41  savings_18                        6979 non-null   float64\n",
            " 42  savings_account                   6979 non-null   int64  \n",
            " 43  savings_reduced                   6979 non-null   float64\n",
            " 44  simple_rem                        6979 non-null   int64  \n",
            " 45  simple_rem_plus_due_date_message  6979 non-null   int64  \n",
            " 46  treatment_repeated                6979 non-null   float64\n",
            " 47  wave                              6979 non-null   int64  \n",
            " 48  default_sample                    6979 non-null   int64  \n",
            " 49  weight                            6979 non-null   float64\n",
            " 50  high_credit_risk                  6979 non-null   int64  \n",
            " 51  religious_province                6979 non-null   int64  \n",
            " 52  religious_province_moral          6979 non-null   float64\n",
            " 53  high_credit_risk_50               6979 non-null   int64  \n",
            " 54  treatment_total                   6979 non-null   float64\n",
            "dtypes: float64(23), int64(32)\n",
            "memory usage: 2.9 MB\n"
          ],
          "name": "stdout"
        }
      ]
    },
    {
      "cell_type": "markdown",
      "metadata": {
        "id": "kvPYTJhOHk4T",
        "colab_type": "text"
      },
      "source": [
        "##1.4 Dropping The Very Low Variance Columns"
      ]
    },
    {
      "cell_type": "code",
      "metadata": {
        "id": "ey3PS5t7J9Eq",
        "colab_type": "code",
        "colab": {
          "base_uri": "https://localhost:8080/",
          "height": 242
        },
        "outputId": "62369675-7aa5-4a30-8ec7-ffd3346900ed"
      },
      "source": [
        "low_var_features = [i for i in df.columns if df[i].var() == 0.0] \n",
        "low_var_features"
      ],
      "execution_count": 80,
      "outputs": [
        {
          "output_type": "execute_result",
          "data": {
            "text/plain": [
              "['cash_rebate',\n",
              " 'credit_rep_plus_moral_rel',\n",
              " 'crowding_out_exp',\n",
              " 'followup_exp',\n",
              " 'main_exp',\n",
              " 'moral_imp',\n",
              " 'moral_non',\n",
              " 'moral_repeated',\n",
              " 'savings_15',\n",
              " 'savings_18',\n",
              " 'simple_rem_plus_due_date_message',\n",
              " 'treatment_repeated',\n",
              " 'default_sample']"
            ]
          },
          "metadata": {
            "tags": []
          },
          "execution_count": 80
        }
      ]
    },
    {
      "cell_type": "code",
      "metadata": {
        "id": "Vw5SkgMYF7fx",
        "colab_type": "code",
        "colab": {}
      },
      "source": [
        "df = df.drop(columns=low_var_features)"
      ],
      "execution_count": 81,
      "outputs": []
    },
    {
      "cell_type": "code",
      "metadata": {
        "id": "jTo6rOqPcgmy",
        "colab_type": "code",
        "colab": {
          "base_uri": "https://localhost:8080/",
          "height": 866
        },
        "outputId": "224210f8-be68-4c73-b5f0-1ce30db6e36f"
      },
      "source": [
        "df.info()"
      ],
      "execution_count": 82,
      "outputs": [
        {
          "output_type": "stream",
          "text": [
            "<class 'pandas.core.frame.DataFrame'>\n",
            "RangeIndex: 6979 entries, 0 to 6978\n",
            "Data columns (total 42 columns):\n",
            " #   Column                     Non-Null Count  Dtype  \n",
            "---  ------                     --------------  -----  \n",
            " 0   age                        6979 non-null   float64\n",
            " 1   amount_repaid              6979 non-null   float64\n",
            " 2   amount_spent_next1month    6979 non-null   float64\n",
            " 3   credit_rep                 6979 non-null   int64  \n",
            " 4   credit_rep_version         6979 non-null   float64\n",
            " 5   creditlimit                6979 non-null   float64\n",
            " 6   ctrl                       6979 non-null   int64  \n",
            " 7   debt_to_income             6979 non-null   float64\n",
            " 8   debt_to_income_moral       6979 non-null   float64\n",
            " 9   default                    6979 non-null   int64  \n",
            " 10  delinquent                 6979 non-null   int64  \n",
            " 11  female                     6979 non-null   int64  \n",
            " 12  income                     6979 non-null   float64\n",
            " 13  late_2016                  6979 non-null   int64  \n",
            " 14  male                       6979 non-null   float64\n",
            " 15  male_moral                 6979 non-null   float64\n",
            " 16  min_payment                6979 non-null   float64\n",
            " 17  moral_all                  6979 non-null   int64  \n",
            " 18  moral_first                6979 non-null   int64  \n",
            " 19  moral_rel                  6979 non-null   int64  \n",
            " 20  muslim                     6979 non-null   int64  \n",
            " 21  muslim_moral               6979 non-null   float64\n",
            " 22  old                        6979 non-null   float64\n",
            " 23  old_moral                  6979 non-null   float64\n",
            " 24  outstanding                6979 non-null   float64\n",
            " 25  p_usage_next1month         6979 non-null   int64  \n",
            " 26  poor_credit_history        6979 non-null   int64  \n",
            " 27  poor_credit_history_moral  6979 non-null   float64\n",
            " 28  randomcardnumber           6979 non-null   int64  \n",
            " 29  religious_plac             6979 non-null   int64  \n",
            " 30  repaid_twice_min           6979 non-null   int64  \n",
            " 31  sample_before              6979 non-null   int64  \n",
            " 32  savings_account            6979 non-null   int64  \n",
            " 33  savings_reduced            6979 non-null   float64\n",
            " 34  simple_rem                 6979 non-null   int64  \n",
            " 35  wave                       6979 non-null   int64  \n",
            " 36  weight                     6979 non-null   float64\n",
            " 37  high_credit_risk           6979 non-null   int64  \n",
            " 38  religious_province         6979 non-null   int64  \n",
            " 39  religious_province_moral   6979 non-null   float64\n",
            " 40  high_credit_risk_50        6979 non-null   int64  \n",
            " 41  treatment_total            6979 non-null   float64\n",
            "dtypes: float64(20), int64(22)\n",
            "memory usage: 2.2 MB\n"
          ],
          "name": "stdout"
        }
      ]
    },
    {
      "cell_type": "markdown",
      "metadata": {
        "id": "CakmgcwbYNYm",
        "colab_type": "text"
      },
      "source": [
        "##1.7 Imbalanced Data"
      ]
    },
    {
      "cell_type": "code",
      "metadata": {
        "id": "zgXHl1_RPIcz",
        "colab_type": "code",
        "colab": {
          "base_uri": "https://localhost:8080/",
          "height": 352
        },
        "outputId": "b121e263-5ef3-4564-f7c5-807cc16cb031"
      },
      "source": [
        "sns.set_style(\"dark\")\n",
        "plt.figure(figsize=(10,5))\n",
        "sns.countplot(x=df['default'], palette='Oranges')"
      ],
      "execution_count": 83,
      "outputs": [
        {
          "output_type": "execute_result",
          "data": {
            "text/plain": [
              "<matplotlib.axes._subplots.AxesSubplot at 0x7ff0052c1ac8>"
            ]
          },
          "metadata": {
            "tags": []
          },
          "execution_count": 83
        },
        {
          "output_type": "display_data",
          "data": {
            "image/png": "[encoded data removed]",
            "text/plain": [
              "<Figure size 720x360 with 1 Axes>"
            ]
          },
          "metadata": {
            "tags": []
          }
        }
      ]
    },
    {
      "cell_type": "code",
      "metadata": {
        "id": "PAaj5-5bPIc4",
        "colab_type": "code",
        "colab": {}
      },
      "source": [
        "from sklearn.model_selection import train_test_split\n",
        "\n",
        "# 2 PARTISI\n",
        "# partitioning data into data training and data testing\n",
        "train, test = train_test_split(df,test_size = .20 ,random_state = 666)\n",
        "\n",
        "Id_col = ['randomcardnumber']\n",
        "target_col = ['default']\n",
        "    \n",
        "##seperating dependent and independent variables on training and testing data\n",
        "cols    = [i for i in df.columns if i not in Id_col + target_col]\n",
        "train_X = train[cols]\n",
        "train_Y = train[target_col]\n",
        "test_X  = test[cols]\n",
        "test_Y  = test[target_col]"
      ],
      "execution_count": 84,
      "outputs": []
    },
    {
      "cell_type": "markdown",
      "metadata": {
        "id": "t_4XinAmZWUH",
        "colab_type": "text"
      },
      "source": [
        "###1.6.1 Using SMOTE"
      ]
    },
    {
      "cell_type": "code",
      "metadata": {
        "id": "Tf2QcCM9PIdE",
        "colab_type": "code",
        "colab": {
          "base_uri": "https://localhost:8080/",
          "height": 176
        },
        "outputId": "71b1d80c-8b85-4673-aaa5-d21e2d5c0e80"
      },
      "source": [
        "from imblearn.over_sampling import SMOTE\n",
        "\n",
        "# handle imbalance class using oversampling minority class with smote method\n",
        "os = SMOTE(sampling_strategy='minority',random_state = 69,k_neighbors=5)\n",
        "train_smote_X, train_smote_Y = os.fit_sample(train_X, train_Y)\n",
        "train_smote_X = pd.DataFrame(data = train_smote_X, columns=cols)\n",
        "train_smote_Y = pd.DataFrame(data = train_smote_Y, columns=target_col)\n"
      ],
      "execution_count": 85,
      "outputs": [
        {
          "output_type": "stream",
          "text": [
            "/usr/local/lib/python3.6/dist-packages/sklearn/externals/six.py:31: FutureWarning: The module is deprecated in version 0.21 and will be removed in version 0.23 since we've dropped support for Python 2.7. Please rely on the official version of six (https://pypi.org/project/six/).\n",
            "  \"(https://pypi.org/project/six/).\", FutureWarning)\n",
            "/usr/local/lib/python3.6/dist-packages/sklearn/utils/deprecation.py:144: FutureWarning: The sklearn.neighbors.base module is  deprecated in version 0.22 and will be removed in version 0.24. The corresponding classes / functions should instead be imported from sklearn.neighbors. Anything that cannot be imported from sklearn.neighbors is now part of the private API.\n",
            "  warnings.warn(message, FutureWarning)\n",
            "/usr/local/lib/python3.6/dist-packages/sklearn/utils/validation.py:760: DataConversionWarning: A column-vector y was passed when a 1d array was expected. Please change the shape of y to (n_samples, ), for example using ravel().\n",
            "  y = column_or_1d(y, warn=True)\n",
            "/usr/local/lib/python3.6/dist-packages/sklearn/utils/deprecation.py:87: FutureWarning: Function safe_indexing is deprecated; safe_indexing is deprecated in version 0.22 and will be removed in version 0.24.\n",
            "  warnings.warn(msg, category=FutureWarning)\n"
          ],
          "name": "stderr"
        }
      ]
    },
    {
      "cell_type": "code",
      "metadata": {
        "id": "p6kaBcfHPIdJ",
        "colab_type": "code",
        "colab": {
          "base_uri": "https://localhost:8080/",
          "height": 69
        },
        "outputId": "720c460f-864f-45a5-ac98-8f97c51dcfe0"
      },
      "source": [
        "train_Y[\"default\"].value_counts()"
      ],
      "execution_count": 86,
      "outputs": [
        {
          "output_type": "execute_result",
          "data": {
            "text/plain": [
              "0    5237\n",
              "1     346\n",
              "Name: default, dtype: int64"
            ]
          },
          "metadata": {
            "tags": []
          },
          "execution_count": 86
        }
      ]
    },
    {
      "cell_type": "code",
      "metadata": {
        "id": "PM_WI0HYPIdO",
        "colab_type": "code",
        "colab": {
          "base_uri": "https://localhost:8080/",
          "height": 69
        },
        "outputId": "6e9e7067-e32a-468d-cdaa-94f838f50d50"
      },
      "source": [
        "train_smote_Y[\"default\"].value_counts()"
      ],
      "execution_count": 87,
      "outputs": [
        {
          "output_type": "execute_result",
          "data": {
            "text/plain": [
              "1    5237\n",
              "0    5237\n",
              "Name: default, dtype: int64"
            ]
          },
          "metadata": {
            "tags": []
          },
          "execution_count": 87
        }
      ]
    },
    {
      "cell_type": "markdown",
      "metadata": {
        "id": "jhhI3h0-ZwpD",
        "colab_type": "text"
      },
      "source": [
        "#2. Modelling and Evaluation"
      ]
    },
    {
      "cell_type": "markdown",
      "metadata": {
        "id": "bznWHY4tPIdT",
        "colab_type": "text"
      },
      "source": [
        "Target kolom default, imbalance data pakainya   **AUC score** bukan lagi precision score untuk matrix perfomance. Model yang biasa digunakan logres karena sederhana dan powerful. Bisa juga metode boosting . Tuning parameter untuk logres cari. Metode imbalance data:\n",
        "    - (ref1) [https://www.kaggle.com/ajay1735/my-credit-scoring-model]\n",
        "    - (ref2) [https://www.kaggle.com/gpreda/home-credit-default-risk-extensive-eda]\n",
        "    - Cari lainnya lagi\n",
        "Fitur gk perlu berkorelasi tinggi dengan target tapi bisa juga cari korelasi2 yang tinggi. Kolom korelasi tinggi buang outlier2nya baru sampling. Parameter2nya dituning lagi coba."
      ]
    },
    {
      "cell_type": "code",
      "metadata": {
        "id": "JIerlcVmPIdV",
        "colab_type": "code",
        "colab": {}
      },
      "source": [
        "from sklearn.linear_model import LogisticRegression\n",
        "from sklearn.svm import SVC\n",
        "from sklearn.neighbors import KNeighborsClassifier\n",
        "from sklearn.tree import DecisionTreeClassifier\n",
        "from sklearn.ensemble import RandomForestClassifier\n",
        "from sklearn.ensemble import GradientBoostingClassifier"
      ],
      "execution_count": 88,
      "outputs": []
    },
    {
      "cell_type": "markdown",
      "metadata": {
        "id": "5QSyclKFPIdU",
        "colab_type": "text"
      },
      "source": [
        "##2.1 Logistic Regresion"
      ]
    },
    {
      "cell_type": "code",
      "metadata": {
        "id": "fvSXcEIKPIdZ",
        "colab_type": "code",
        "colab": {
          "base_uri": "https://localhost:8080/",
          "height": 158
        },
        "outputId": "95e3fa67-0231-44c9-efff-2fbed7244852"
      },
      "source": [
        "LR = LogisticRegression(C=1000)\n",
        "LR.fit(train_smote_X, train_smote_Y)\n",
        "\n",
        "# Nilai AUC untuk C = [0.001,0.01,0.1,1,100,1000] sama, yaitu 0.81"
      ],
      "execution_count": 134,
      "outputs": [
        {
          "output_type": "stream",
          "text": [
            "/usr/local/lib/python3.6/dist-packages/sklearn/utils/validation.py:760: DataConversionWarning: A column-vector y was passed when a 1d array was expected. Please change the shape of y to (n_samples, ), for example using ravel().\n",
            "  y = column_or_1d(y, warn=True)\n"
          ],
          "name": "stderr"
        },
        {
          "output_type": "execute_result",
          "data": {
            "text/plain": [
              "LogisticRegression(C=1000, class_weight=None, dual=False, fit_intercept=True,\n",
              "                   intercept_scaling=1, l1_ratio=None, max_iter=100,\n",
              "                   multi_class='auto', n_jobs=None, penalty='l2',\n",
              "                   random_state=None, solver='lbfgs', tol=0.0001, verbose=0,\n",
              "                   warm_start=False)"
            ]
          },
          "metadata": {
            "tags": []
          },
          "execution_count": 134
        }
      ]
    },
    {
      "cell_type": "code",
      "metadata": {
        "id": "NSHSn7RwPIdd",
        "colab_type": "code",
        "colab": {}
      },
      "source": [
        "y_pred_LR = LR.predict(test_X)\n",
        "from sklearn.metrics import roc_curve, auc\n",
        "\n",
        "fpr, tpr, _ = roc_curve(test_Y, y_pred_LR)\n",
        "roc_auc = auc(fpr, tpr)"
      ],
      "execution_count": 135,
      "outputs": []
    },
    {
      "cell_type": "code",
      "metadata": {
        "id": "QtIjkd7ePIdh",
        "colab_type": "code",
        "colab": {
          "base_uri": "https://localhost:8080/",
          "height": 294
        },
        "outputId": "fcf3a8e0-f0e8-4d55-814a-3de9dbfef584"
      },
      "source": [
        "import matplotlib.pyplot as plt\n",
        "\n",
        "plt.figure()\n",
        "lw = 2\n",
        "plt.plot(fpr, tpr, color='darkorange',\n",
        "         lw=lw, label='ROC curve (AUC = %0.2f)' % roc_auc)\n",
        "plt.plot([0, 1], [0, 1], color='navy', lw=lw, linestyle='--')\n",
        "plt.xlim([0.0, 1.0])\n",
        "plt.ylim([0.0, 1.05])\n",
        "plt.xlabel('False Positive Rate')\n",
        "plt.ylabel('True Positive Rate')\n",
        "plt.title('Receiver operating characteristic example')\n",
        "plt.legend(loc=\"lower right\")\n",
        "plt.show()"
      ],
      "execution_count": 136,
      "outputs": [
        {
          "output_type": "display_data",
          "data": {
            "image/png": "[encoded data removed]",
            "text/plain": [
              "<Figure size 432x288 with 1 Axes>"
            ]
          },
          "metadata": {
            "tags": []
          }
        }
      ]
    },
    {
      "cell_type": "code",
      "metadata": {
        "id": "6dq-tlbePIdl",
        "colab_type": "code",
        "colab": {
          "base_uri": "https://localhost:8080/",
          "height": 190
        },
        "outputId": "d1815f7a-5941-450a-fb66-e39261ed5435"
      },
      "source": [
        "from sklearn.metrics import confusion_matrix\n",
        "from sklearn.metrics import classification_report\n",
        "matrix = classification_report(test_Y, y_pred_LR, labels=[1,0])\n",
        "print('Classification report : \\n',matrix)"
      ],
      "execution_count": 137,
      "outputs": [
        {
          "output_type": "stream",
          "text": [
            "Classification report : \n",
            "               precision    recall  f1-score   support\n",
            "\n",
            "           1       0.15      0.99      0.27        89\n",
            "           0       1.00      0.63      0.77      1307\n",
            "\n",
            "    accuracy                           0.66      1396\n",
            "   macro avg       0.58      0.81      0.52      1396\n",
            "weighted avg       0.94      0.66      0.74      1396\n",
            "\n"
          ],
          "name": "stdout"
        }
      ]
    },
    {
      "cell_type": "code",
      "metadata": {
        "id": "GqDsPoE0PIdx",
        "colab_type": "code",
        "colab": {
          "base_uri": "https://localhost:8080/",
          "height": 278
        },
        "outputId": "17eafce9-14f0-4a59-c497-f5a1cc3bcb56"
      },
      "source": [
        "from sklearn.metrics import plot_confusion_matrix\n",
        "plot_confusion_matrix(LR, test_X, test_Y,  cmap=plt.cm.Oranges)  # doctest: +SKIP\n",
        "plt.show()  # doctest: +SKIP"
      ],
      "execution_count": 138,
      "outputs": [
        {
          "output_type": "display_data",
          "data": {
            "image/png": "[encoded data removed]",
            "text/plain": [
              "<Figure size 432x288 with 2 Axes>"
            ]
          },
          "metadata": {
            "tags": []
          }
        }
      ]
    },
    {
      "cell_type": "markdown",
      "metadata": {
        "id": "b3EyToh-PId2",
        "colab_type": "text"
      },
      "source": [
        "##2.2 Random Forest"
      ]
    },
    {
      "cell_type": "code",
      "metadata": {
        "id": "qdC4IOw-PId3",
        "colab_type": "code",
        "colab": {
          "base_uri": "https://localhost:8080/",
          "height": 210
        },
        "outputId": "2da4bb0a-5f9c-4cf6-c08f-2e1bf216d836"
      },
      "source": [
        "RF = RandomForestClassifier()\n",
        "RF.fit(train_smote_X,train_smote_Y)"
      ],
      "execution_count": 139,
      "outputs": [
        {
          "output_type": "stream",
          "text": [
            "/usr/local/lib/python3.6/dist-packages/ipykernel_launcher.py:2: DataConversionWarning: A column-vector y was passed when a 1d array was expected. Please change the shape of y to (n_samples,), for example using ravel().\n",
            "  \n"
          ],
          "name": "stderr"
        },
        {
          "output_type": "execute_result",
          "data": {
            "text/plain": [
              "RandomForestClassifier(bootstrap=True, ccp_alpha=0.0, class_weight=None,\n",
              "                       criterion='gini', max_depth=None, max_features='auto',\n",
              "                       max_leaf_nodes=None, max_samples=None,\n",
              "                       min_impurity_decrease=0.0, min_impurity_split=None,\n",
              "                       min_samples_leaf=1, min_samples_split=2,\n",
              "                       min_weight_fraction_leaf=0.0, n_estimators=100,\n",
              "                       n_jobs=None, oob_score=False, random_state=None,\n",
              "                       verbose=0, warm_start=False)"
            ]
          },
          "metadata": {
            "tags": []
          },
          "execution_count": 139
        }
      ]
    },
    {
      "cell_type": "code",
      "metadata": {
        "id": "tMu5q2RqPIeD",
        "colab_type": "code",
        "colab": {
          "base_uri": "https://localhost:8080/",
          "height": 294
        },
        "outputId": "b0c4d1f9-9eb7-49d8-911c-69a25503f670"
      },
      "source": [
        "y_pred_RF = RF.predict(test_X)\n",
        "from sklearn.metrics import roc_curve, auc\n",
        "\n",
        "fpr, tpr, _ = roc_curve(test_Y, y_pred_RF)\n",
        "roc_auc = auc(fpr, tpr)\n",
        "plt.figure()\n",
        "lw = 2\n",
        "plt.plot(fpr, tpr, color='darkorange',\n",
        "         lw=lw, label='ROC curve (AUC = %0.2f)' % roc_auc)\n",
        "plt.plot([0, 1], [0, 1], color='navy', lw=lw, linestyle='--')\n",
        "plt.xlim([0.0, 1.0])\n",
        "plt.ylim([0.0, 1.05])\n",
        "plt.xlabel('False Positive Rate')\n",
        "plt.ylabel('True Positive Rate')\n",
        "plt.title('Receiver operating characteristic example')\n",
        "plt.legend(loc=\"lower right\")\n",
        "plt.show()"
      ],
      "execution_count": 140,
      "outputs": [
        {
          "output_type": "display_data",
          "data": {
            "image/png": "[encoded data removed]",
            "text/plain": [
              "<Figure size 432x288 with 1 Axes>"
            ]
          },
          "metadata": {
            "tags": []
          }
        }
      ]
    },
    {
      "cell_type": "code",
      "metadata": {
        "id": "1S6agNm6PIeG",
        "colab_type": "code",
        "colab": {
          "base_uri": "https://localhost:8080/",
          "height": 190
        },
        "outputId": "9a26fde4-9869-441f-b6af-43bdf98ebca0"
      },
      "source": [
        "from sklearn.metrics import confusion_matrix\n",
        "from sklearn.metrics import classification_report\n",
        "matrix = classification_report(test_Y, y_pred_RF, labels=[1,0])\n",
        "print('Classification report : \\n',matrix)"
      ],
      "execution_count": 141,
      "outputs": [
        {
          "output_type": "stream",
          "text": [
            "Classification report : \n",
            "               precision    recall  f1-score   support\n",
            "\n",
            "           1       0.48      0.11      0.18        89\n",
            "           0       0.94      0.99      0.97      1307\n",
            "\n",
            "    accuracy                           0.94      1396\n",
            "   macro avg       0.71      0.55      0.57      1396\n",
            "weighted avg       0.91      0.94      0.92      1396\n",
            "\n"
          ],
          "name": "stdout"
        }
      ]
    },
    {
      "cell_type": "code",
      "metadata": {
        "id": "gtD8q97qPIeN",
        "colab_type": "code",
        "colab": {
          "base_uri": "https://localhost:8080/",
          "height": 278
        },
        "outputId": "90c39092-b323-4e39-f286-0d0900bc11ed"
      },
      "source": [
        "from sklearn.metrics import plot_confusion_matrix\n",
        "plot_confusion_matrix(RF, test_X, test_Y, cmap=plt.cm.Oranges)  # doctest: +SKIP\n",
        "plt.show()  # doctest: +SKIP"
      ],
      "execution_count": 142,
      "outputs": [
        {
          "output_type": "display_data",
          "data": {
            "image/png": "[encoded data removed]",
            "text/plain": [
              "<Figure size 432x288 with 2 Axes>"
            ]
          },
          "metadata": {
            "tags": []
          }
        }
      ]
    },
    {
      "cell_type": "markdown",
      "metadata": {
        "id": "udeaOHWMpJn1",
        "colab_type": "text"
      },
      "source": [
        "##2.3 Gradien Boosting"
      ]
    },
    {
      "cell_type": "code",
      "metadata": {
        "id": "CshY9FzmPIeX",
        "colab_type": "code",
        "colab": {
          "base_uri": "https://localhost:8080/",
          "height": 245
        },
        "outputId": "cbc5d93c-abfe-4306-a4c4-dbef598d0187"
      },
      "source": [
        "GBC = GradientBoostingClassifier()\n",
        "GBC.fit(train_smote_X, train_smote_Y)"
      ],
      "execution_count": 143,
      "outputs": [
        {
          "output_type": "stream",
          "text": [
            "/usr/local/lib/python3.6/dist-packages/sklearn/ensemble/_gb.py:1454: DataConversionWarning: A column-vector y was passed when a 1d array was expected. Please change the shape of y to (n_samples, ), for example using ravel().\n",
            "  y = column_or_1d(y, warn=True)\n"
          ],
          "name": "stderr"
        },
        {
          "output_type": "execute_result",
          "data": {
            "text/plain": [
              "GradientBoostingClassifier(ccp_alpha=0.0, criterion='friedman_mse', init=None,\n",
              "                           learning_rate=0.1, loss='deviance', max_depth=3,\n",
              "                           max_features=None, max_leaf_nodes=None,\n",
              "                           min_impurity_decrease=0.0, min_impurity_split=None,\n",
              "                           min_samples_leaf=1, min_samples_split=2,\n",
              "                           min_weight_fraction_leaf=0.0, n_estimators=100,\n",
              "                           n_iter_no_change=None, presort='deprecated',\n",
              "                           random_state=None, subsample=1.0, tol=0.0001,\n",
              "                           validation_fraction=0.1, verbose=0,\n",
              "                           warm_start=False)"
            ]
          },
          "metadata": {
            "tags": []
          },
          "execution_count": 143
        }
      ]
    },
    {
      "cell_type": "code",
      "metadata": {
        "id": "Cee2TjoLPIec",
        "colab_type": "code",
        "colab": {
          "base_uri": "https://localhost:8080/",
          "height": 294
        },
        "outputId": "04b91d22-5159-440d-f0e7-eca5fb05d589"
      },
      "source": [
        "y_pred_GBC = GBC.predict(test_X)\n",
        "from sklearn.metrics import roc_curve, auc\n",
        "\n",
        "fpr, tpr, _ = roc_curve(test_Y, y_pred_GBC)\n",
        "roc_auc = auc(fpr, tpr)\n",
        "plt.figure()\n",
        "lw = 2\n",
        "plt.plot(fpr, tpr, color='darkorange',\n",
        "         lw=lw, label='ROC curve (AUC = %0.2f)' % roc_auc)\n",
        "plt.plot([0, 1], [0, 1], color='navy', lw=lw, linestyle='--')\n",
        "plt.xlim([0.0, 1.0])\n",
        "plt.ylim([0.0, 1.05])\n",
        "plt.xlabel('False Positive Rate')\n",
        "plt.ylabel('True Positive Rate')\n",
        "plt.title('Receiver operating characteristic example')\n",
        "plt.legend(loc=\"lower right\")\n",
        "plt.show()"
      ],
      "execution_count": 144,
      "outputs": [
        {
          "output_type": "display_data",
          "data": {
            "image/png": "[encoded data removed]",
            "text/plain": [
              "<Figure size 432x288 with 1 Axes>"
            ]
          },
          "metadata": {
            "tags": []
          }
        }
      ]
    },
    {
      "cell_type": "code",
      "metadata": {
        "id": "UnWnOrupnVH4",
        "colab_type": "code",
        "colab": {
          "base_uri": "https://localhost:8080/",
          "height": 190
        },
        "outputId": "0551784a-eb0d-4500-b124-afaaeace625f"
      },
      "source": [
        "from sklearn.metrics import confusion_matrix\n",
        "from sklearn.metrics import classification_report\n",
        "matrix = classification_report(test_Y,y_pred_GBC,labels=[1,0])\n",
        "print('Classification report : \\n',matrix)"
      ],
      "execution_count": 145,
      "outputs": [
        {
          "output_type": "stream",
          "text": [
            "Classification report : \n",
            "               precision    recall  f1-score   support\n",
            "\n",
            "           1       0.40      0.11      0.18        89\n",
            "           0       0.94      0.99      0.96      1307\n",
            "\n",
            "    accuracy                           0.93      1396\n",
            "   macro avg       0.67      0.55      0.57      1396\n",
            "weighted avg       0.91      0.93      0.91      1396\n",
            "\n"
          ],
          "name": "stdout"
        }
      ]
    },
    {
      "cell_type": "code",
      "metadata": {
        "id": "WY6wEEgXncT_",
        "colab_type": "code",
        "colab": {
          "base_uri": "https://localhost:8080/",
          "height": 278
        },
        "outputId": "ba05cb36-2259-4cae-cc29-8da8f145ecb1"
      },
      "source": [
        "from sklearn.metrics import plot_confusion_matrix\n",
        "plot_confusion_matrix(GBC, test_X, test_Y, cmap=plt.cm.Oranges)  # doctest: +SKIP\n",
        "plt.show()  # doctest: +SKIP"
      ],
      "execution_count": 146,
      "outputs": [
        {
          "output_type": "display_data",
          "data": {
            "image/png": "[encoded data removed]",
            "text/plain": [
              "<Figure size 432x288 with 2 Axes>"
            ]
          },
          "metadata": {
            "tags": []
          }
        }
      ]
    },
    {
      "cell_type": "markdown",
      "metadata": {
        "id": "g0s1Co9ZMr7b",
        "colab_type": "text"
      },
      "source": [
        "##2.4 Extreme Gradient Boosting"
      ]
    },
    {
      "cell_type": "code",
      "metadata": {
        "id": "RfGr1O06JnKM",
        "colab_type": "code",
        "colab": {
          "base_uri": "https://localhost:8080/",
          "height": 228
        },
        "outputId": "4671c74b-cf8a-4b00-ec99-abb401f17c0c"
      },
      "source": [
        "from xgboost import XGBClassifier\n",
        "\n",
        "XGB = XGBClassifier()\n",
        "XGB.fit(train_smote_X, train_smote_Y)"
      ],
      "execution_count": 147,
      "outputs": [
        {
          "output_type": "stream",
          "text": [
            "/usr/local/lib/python3.6/dist-packages/sklearn/preprocessing/_label.py:235: DataConversionWarning: A column-vector y was passed when a 1d array was expected. Please change the shape of y to (n_samples, ), for example using ravel().\n",
            "  y = column_or_1d(y, warn=True)\n",
            "/usr/local/lib/python3.6/dist-packages/sklearn/preprocessing/_label.py:268: DataConversionWarning: A column-vector y was passed when a 1d array was expected. Please change the shape of y to (n_samples, ), for example using ravel().\n",
            "  y = column_or_1d(y, warn=True)\n"
          ],
          "name": "stderr"
        },
        {
          "output_type": "execute_result",
          "data": {
            "text/plain": [
              "XGBClassifier(base_score=0.5, booster='gbtree', colsample_bylevel=1,\n",
              "              colsample_bynode=1, colsample_bytree=1, gamma=0,\n",
              "              learning_rate=0.1, max_delta_step=0, max_depth=3,\n",
              "              min_child_weight=1, missing=None, n_estimators=100, n_jobs=1,\n",
              "              nthread=None, objective='binary:logistic', random_state=0,\n",
              "              reg_alpha=0, reg_lambda=1, scale_pos_weight=1, seed=None,\n",
              "              silent=None, subsample=1, verbosity=1)"
            ]
          },
          "metadata": {
            "tags": []
          },
          "execution_count": 147
        }
      ]
    },
    {
      "cell_type": "code",
      "metadata": {
        "id": "US7SOthhJncT",
        "colab_type": "code",
        "colab": {
          "base_uri": "https://localhost:8080/",
          "height": 294
        },
        "outputId": "6a3023c6-29a8-4a52-f698-cf3b81f3cef3"
      },
      "source": [
        "y_pred_XGB = XGB.predict(test_X)\n",
        "from sklearn.metrics import roc_curve, auc\n",
        "\n",
        "fpr, tpr, _ = roc_curve(test_Y, y_pred_XGB)\n",
        "roc_auc = auc(fpr, tpr)\n",
        "plt.figure()\n",
        "lw = 2\n",
        "plt.plot(fpr, tpr, color='darkorange',\n",
        "         lw=lw, label='ROC curve (AUC = %0.2f)' % roc_auc)\n",
        "plt.plot([0, 1], [0, 1], color='navy', lw=lw, linestyle='--')\n",
        "plt.xlim([0.0, 1.0])\n",
        "plt.ylim([0.0, 1.05])\n",
        "plt.xlabel('False Positive Rate')\n",
        "plt.ylabel('True Positive Rate')\n",
        "plt.title('Receiver operating characteristic example')\n",
        "plt.legend(loc=\"lower right\")\n",
        "plt.show()"
      ],
      "execution_count": 148,
      "outputs": [
        {
          "output_type": "display_data",
          "data": {
            "image/png": "[encoded data removed]",
            "text/plain": [
              "<Figure size 432x288 with 1 Axes>"
            ]
          },
          "metadata": {
            "tags": []
          }
        }
      ]
    },
    {
      "cell_type": "code",
      "metadata": {
        "id": "93deR7N-JmqD",
        "colab_type": "code",
        "colab": {
          "base_uri": "https://localhost:8080/",
          "height": 190
        },
        "outputId": "54132961-c1b9-485c-b779-ffdd3c90583f"
      },
      "source": [
        "from sklearn.metrics import confusion_matrix\n",
        "from sklearn.metrics import classification_report\n",
        "matrix = classification_report(test_Y,y_pred_XGB,labels=[1,0])\n",
        "print('Classification report : \\n',matrix)"
      ],
      "execution_count": 149,
      "outputs": [
        {
          "output_type": "stream",
          "text": [
            "Classification report : \n",
            "               precision    recall  f1-score   support\n",
            "\n",
            "           1       0.45      0.24      0.31        89\n",
            "           0       0.95      0.98      0.96      1307\n",
            "\n",
            "    accuracy                           0.93      1396\n",
            "   macro avg       0.70      0.61      0.64      1396\n",
            "weighted avg       0.92      0.93      0.92      1396\n",
            "\n"
          ],
          "name": "stdout"
        }
      ]
    },
    {
      "cell_type": "code",
      "metadata": {
        "id": "IZV8JiFwMitQ",
        "colab_type": "code",
        "colab": {
          "base_uri": "https://localhost:8080/",
          "height": 278
        },
        "outputId": "7ec87f43-ca90-49e9-c209-c11784d43241"
      },
      "source": [
        "from sklearn.metrics import plot_confusion_matrix\n",
        "plot_confusion_matrix(XGB, test_X, test_Y,  cmap=plt.cm.Oranges)  # doctest: +SKIP\n",
        "plt.show() "
      ],
      "execution_count": 150,
      "outputs": [
        {
          "output_type": "display_data",
          "data": {
            "image/png": "[encoded data removed]",
            "text/plain": [
              "<Figure size 432x288 with 2 Axes>"
            ]
          },
          "metadata": {
            "tags": []
          }
        }
      ]
    },
    {
      "cell_type": "markdown",
      "metadata": {
        "id": "334K7s1ZM4Py",
        "colab_type": "text"
      },
      "source": [
        "##2.5 Decision Tree"
      ]
    },
    {
      "cell_type": "code",
      "metadata": {
        "id": "br6FzCJnHQ-C",
        "colab_type": "code",
        "colab": {
          "base_uri": "https://localhost:8080/",
          "height": 121
        },
        "outputId": "fe556be0-b788-481f-a9c1-5d5d036fe36c"
      },
      "source": [
        "DT = DecisionTreeClassifier(random_state=1)\n",
        "DT.fit(train_smote_X,train_smote_Y)"
      ],
      "execution_count": 151,
      "outputs": [
        {
          "output_type": "execute_result",
          "data": {
            "text/plain": [
              "DecisionTreeClassifier(ccp_alpha=0.0, class_weight=None, criterion='gini',\n",
              "                       max_depth=None, max_features=None, max_leaf_nodes=None,\n",
              "                       min_impurity_decrease=0.0, min_impurity_split=None,\n",
              "                       min_samples_leaf=1, min_samples_split=2,\n",
              "                       min_weight_fraction_leaf=0.0, presort='deprecated',\n",
              "                       random_state=1, splitter='best')"
            ]
          },
          "metadata": {
            "tags": []
          },
          "execution_count": 151
        }
      ]
    },
    {
      "cell_type": "code",
      "metadata": {
        "id": "9J78eL7BHkiz",
        "colab_type": "code",
        "colab": {
          "base_uri": "https://localhost:8080/",
          "height": 294
        },
        "outputId": "6bd9e533-7da1-48e1-bbaa-40bf49ed333a"
      },
      "source": [
        "y_pred_DT = DT.predict(test_X)\n",
        "from sklearn.metrics import roc_curve, auc\n",
        "\n",
        "fpr, tpr, _ = roc_curve(test_Y, y_pred_DT)\n",
        "roc_auc = auc(fpr, tpr)\n",
        "plt.figure()\n",
        "lw = 2\n",
        "plt.plot(fpr, tpr, color='darkorange',\n",
        "         lw=lw, label='ROC curve (AUC = %0.2f)' % roc_auc)\n",
        "plt.plot([0, 1], [0, 1], color='navy', lw=lw, linestyle='--')\n",
        "plt.xlim([0.0, 1.0])\n",
        "plt.ylim([0.0, 1.05])\n",
        "plt.xlabel('False Positive Rate')\n",
        "plt.ylabel('True Positive Rate')\n",
        "plt.title('Receiver operating characteristic example')\n",
        "plt.legend(loc=\"lower right\")\n",
        "plt.show()"
      ],
      "execution_count": 152,
      "outputs": [
        {
          "output_type": "display_data",
          "data": {
            "image/png": "[encoded data removed]",
            "text/plain": [
              "<Figure size 432x288 with 1 Axes>"
            ]
          },
          "metadata": {
            "tags": []
          }
        }
      ]
    },
    {
      "cell_type": "code",
      "metadata": {
        "id": "l0aBNAozIBV1",
        "colab_type": "code",
        "colab": {
          "base_uri": "https://localhost:8080/",
          "height": 190
        },
        "outputId": "12cb8e25-205e-48bb-e8de-231b7c1ff89d"
      },
      "source": [
        "from sklearn.metrics import confusion_matrix\n",
        "from sklearn.metrics import classification_report\n",
        "matrix = classification_report(test_Y,y_pred_DT,labels=[1,0])\n",
        "print('Classification report : \\n',matrix)"
      ],
      "execution_count": 153,
      "outputs": [
        {
          "output_type": "stream",
          "text": [
            "Classification report : \n",
            "               precision    recall  f1-score   support\n",
            "\n",
            "           1       0.26      0.33      0.29        89\n",
            "           0       0.95      0.94      0.95      1307\n",
            "\n",
            "    accuracy                           0.90      1396\n",
            "   macro avg       0.61      0.63      0.62      1396\n",
            "weighted avg       0.91      0.90      0.90      1396\n",
            "\n"
          ],
          "name": "stdout"
        }
      ]
    },
    {
      "cell_type": "code",
      "metadata": {
        "id": "rm1mELtrJHBO",
        "colab_type": "code",
        "colab": {
          "base_uri": "https://localhost:8080/",
          "height": 296
        },
        "outputId": "8cc44184-eb5c-4671-a612-568b8c17876f"
      },
      "source": [
        "from sklearn.metrics import plot_confusion_matrix\n",
        "heatmap = plot_confusion_matrix(DT, test_X, test_Y, cmap=plt.cm.Oranges)  # doctest: +SKIP\n",
        "#sns.heatmap(heatmap, palette='Oranges')\n",
        "#plt.show() \n",
        "heatmap"
      ],
      "execution_count": 154,
      "outputs": [
        {
          "output_type": "execute_result",
          "data": {
            "text/plain": [
              "<sklearn.metrics._plot.confusion_matrix.ConfusionMatrixDisplay at 0x7feff31920f0>"
            ]
          },
          "metadata": {
            "tags": []
          },
          "execution_count": 154
        },
        {
          "output_type": "display_data",
          "data": {
            "image/png": "[encoded data removed]",
            "text/plain": [
              "<Figure size 432x288 with 2 Axes>"
            ]
          },
          "metadata": {
            "tags": []
          }
        }
      ]
    },
    {
      "cell_type": "markdown",
      "metadata": {
        "id": "UzCmrWK4PIeQ",
        "colab_type": "text"
      },
      "source": [
        "#3. Model Intepretability"
      ]
    },
    {
      "cell_type": "code",
      "metadata": {
        "id": "MBsm8LukPIeR",
        "colab_type": "code",
        "colab": {
          "base_uri": "https://localhost:8080/",
          "height": 0
        },
        "outputId": "a6b93513-29b5-4b7e-a15d-a1c103f643a2"
      },
      "source": [
        "#feat_importances = pd.Series(RF1.feature_importances_, index=tmp_df.columns)\n",
        "#feat_importances.nlargest(20).plot(kind='barh')\n",
        "features = cols\n",
        "plt.figure(figsize=(25,10))\n",
        "importances = RF.feature_importances_\n",
        "indices = np.argsort(importances)[:10]\n",
        "plt.title('Feature Importances')\n",
        "plt.barh(range(len(indices)), importances[indices], color='b', align='center')\n",
        "plt.yticks(range(len(indices)), [features[i] for i in indices])\n",
        "plt.xlabel('Relative Importance')\n",
        "plt.show()"
      ],
      "execution_count": 155,
      "outputs": [
        {
          "output_type": "display_data",
          "data": {
            "image/png": "[encoded data removed]",
            "text/plain": [
              "<Figure size 1800x720 with 1 Axes>"
            ]
          },
          "metadata": {
            "tags": []
          }
        }
      ]
    },
    {
      "cell_type": "code",
      "metadata": {
        "id": "t-mBR0wLnhQ8",
        "colab_type": "code",
        "colab": {
          "base_uri": "https://localhost:8080/",
          "height": 0
        },
        "outputId": "136a1e67-9c51-4648-9888-17612c83d487"
      },
      "source": [
        "features = cols\n",
        "plt.figure(figsize=(25,10))\n",
        "importances = DT.feature_importances_\n",
        "indices = np.argsort(importances)[:10]\n",
        "plt.title('Feature Importances')\n",
        "plt.barh(range(len(indices)), importances[indices], color='b', align='center')\n",
        "plt.yticks(range(len(indices)), [features[i] for i in indices])\n",
        "plt.xlabel('Relative Importance')\n",
        "plt.show()"
      ],
      "execution_count": 156,
      "outputs": [
        {
          "output_type": "display_data",
          "data": {
            "image/png": "[encoded data removed]",
            "text/plain": [
              "<Figure size 1800x720 with 1 Axes>"
            ]
          },
          "metadata": {
            "tags": []
          }
        }
      ]
    },
    {
      "cell_type": "markdown",
      "metadata": {
        "id": "jxU7xC9bGgge",
        "colab_type": "text"
      },
      "source": [
        "# 4. Conclusion"
      ]
    },
    {
      "cell_type": "markdown",
      "metadata": {
        "id": "Je5kIGf3GoNl",
        "colab_type": "text"
      },
      "source": [
        "Relatively compared by another model, Logistic Regression performed better in classification for this case of determining default customer, although we have not maximized the AUC score to get the better one.\n"
      ]
    }
  ]
}