{
 "cells": [
  {
   "cell_type": "code",
   "execution_count": 38,
   "metadata": {},
   "outputs": [],
   "source": [
    "import pandas as pd\n",
    "import numpy as np\n",
    "import matplotlib.pyplot as plt\n",
    "import seaborn as sns\n",
    "import random\n",
    "random.seed(10)\n",
    "\n",
    "N = 100000\n",
    "lamda = 0.8\n",
    "mu = 1\n",
    "rho = lamda/mu\n",
    "E_N_MM1 = lamda*(1/(mu-lamda))\n",
    "E_N_MD1 = lamda*((1/mu)+(rho/(2*mu*(1-rho))))"
   ]
  },
  {
   "cell_type": "markdown",
   "metadata": {},
   "source": [
    "# 1. M/M/1"
   ]
  },
  {
   "cell_type": "code",
   "execution_count": 39,
   "metadata": {},
   "outputs": [],
   "source": [
    "def generate_random_exponential(x):\n",
    "    return -(1/x)*np.log(np.random.rand())"
   ]
  },
  {
   "cell_type": "code",
   "execution_count": 50,
   "metadata": {},
   "outputs": [
    {
     "data": {
      "text/html": [
       "<div>\n",
       "<style scoped>\n",
       "    .dataframe tbody tr th:only-of-type {\n",
       "        vertical-align: middle;\n",
       "    }\n",
       "\n",
       "    .dataframe tbody tr th {\n",
       "        vertical-align: top;\n",
       "    }\n",
       "\n",
       "    .dataframe thead th {\n",
       "        text-align: right;\n",
       "    }\n",
       "</style>\n",
       "<table border=\"1\" class=\"dataframe\">\n",
       "  <thead>\n",
       "    <tr style=\"text-align: right;\">\n",
       "      <th></th>\n",
       "      <th>IAT</th>\n",
       "      <th>JQAT</th>\n",
       "      <th>ST</th>\n",
       "      <th>GSAT</th>\n",
       "      <th>LSAT</th>\n",
       "      <th>TSIS</th>\n",
       "      <th>TQIS</th>\n",
       "      <th>IAT-ave</th>\n",
       "      <th>TSIS-ave</th>\n",
       "      <th>E[N]</th>\n",
       "    </tr>\n",
       "  </thead>\n",
       "  <tbody>\n",
       "    <tr>\n",
       "      <th>0</th>\n",
       "      <td>0.0000</td>\n",
       "      <td>0.0000</td>\n",
       "      <td>0.0000</td>\n",
       "      <td>0.0000</td>\n",
       "      <td>0.0000</td>\n",
       "      <td>0.0000</td>\n",
       "      <td>0.0000</td>\n",
       "      <td>0.0000</td>\n",
       "      <td>0.0000</td>\n",
       "      <td>0.0000</td>\n",
       "    </tr>\n",
       "    <tr>\n",
       "      <th>1</th>\n",
       "      <td>1.7700</td>\n",
       "      <td>1.7700</td>\n",
       "      <td>4.3630</td>\n",
       "      <td>1.7700</td>\n",
       "      <td>6.1330</td>\n",
       "      <td>4.3630</td>\n",
       "      <td>0.0000</td>\n",
       "      <td>1.7700</td>\n",
       "      <td>4.3630</td>\n",
       "      <td>3.4904</td>\n",
       "    </tr>\n",
       "    <tr>\n",
       "      <th>2</th>\n",
       "      <td>0.6473</td>\n",
       "      <td>2.4173</td>\n",
       "      <td>2.2577</td>\n",
       "      <td>6.1330</td>\n",
       "      <td>8.3907</td>\n",
       "      <td>5.9733</td>\n",
       "      <td>3.7157</td>\n",
       "      <td>1.2087</td>\n",
       "      <td>5.1682</td>\n",
       "      <td>4.1345</td>\n",
       "    </tr>\n",
       "    <tr>\n",
       "      <th>3</th>\n",
       "      <td>0.7324</td>\n",
       "      <td>3.1497</td>\n",
       "      <td>0.0010</td>\n",
       "      <td>8.3907</td>\n",
       "      <td>8.3917</td>\n",
       "      <td>5.2419</td>\n",
       "      <td>5.2409</td>\n",
       "      <td>1.0499</td>\n",
       "      <td>5.1928</td>\n",
       "      <td>4.1542</td>\n",
       "    </tr>\n",
       "    <tr>\n",
       "      <th>4</th>\n",
       "      <td>2.5976</td>\n",
       "      <td>5.7474</td>\n",
       "      <td>1.2744</td>\n",
       "      <td>8.3917</td>\n",
       "      <td>9.6661</td>\n",
       "      <td>3.9187</td>\n",
       "      <td>2.6443</td>\n",
       "      <td>1.4368</td>\n",
       "      <td>4.8742</td>\n",
       "      <td>3.8994</td>\n",
       "    </tr>\n",
       "  </tbody>\n",
       "</table>\n",
       "</div>"
      ],
      "text/plain": [
       "      IAT    JQAT      ST    GSAT    LSAT    TSIS    TQIS  IAT-ave  TSIS-ave  \\\n",
       "0  0.0000  0.0000  0.0000  0.0000  0.0000  0.0000  0.0000   0.0000    0.0000   \n",
       "1  1.7700  1.7700  4.3630  1.7700  6.1330  4.3630  0.0000   1.7700    4.3630   \n",
       "2  0.6473  2.4173  2.2577  6.1330  8.3907  5.9733  3.7157   1.2087    5.1682   \n",
       "3  0.7324  3.1497  0.0010  8.3907  8.3917  5.2419  5.2409   1.0499    5.1928   \n",
       "4  2.5976  5.7474  1.2744  8.3917  9.6661  3.9187  2.6443   1.4368    4.8742   \n",
       "\n",
       "     E[N]  \n",
       "0  0.0000  \n",
       "1  3.4904  \n",
       "2  4.1345  \n",
       "3  4.1542  \n",
       "4  3.8994  "
      ]
     },
     "execution_count": 50,
     "metadata": {},
     "output_type": "execute_result"
    }
   ],
   "source": [
    "IAT = [0] + [generate_random_exponential(lamda) for i in range(N)]\n",
    "ST = [0] + [generate_random_exponential(mu) for i in range(N)]\n",
    "GSAT = [0]\n",
    "LSAT = [0]\n",
    "\n",
    "data = pd.DataFrame(IAT, columns=['IAT'])\n",
    "data['JQAT'] = data['IAT'].cumsum()\n",
    "data['ST'] = pd.DataFrame(ST)\n",
    "\n",
    "JQAT = list(data.JQAT)\n",
    "for i in range(1, data.shape[0]):\n",
    "    if LSAT[i-1] < JQAT[i]:\n",
    "        GSAT.append(JQAT[i])\n",
    "    else:\n",
    "        GSAT.append(LSAT[i-1])\n",
    "    LSAT.append(ST[i] + GSAT[i])\n",
    "    \n",
    "data['GSAT'] = pd.DataFrame(GSAT)\n",
    "data['LSAT'] = pd.DataFrame(LSAT)\n",
    "data['TSIS'] = data['LSAT'] - data['JQAT']\n",
    "data['TQIS'] = data['TSIS'] - data['ST']\n",
    "data['IAT-ave'] = 0\n",
    "data['TSIS-ave'] = 0\n",
    "data['IAT-ave'].iloc[1:] = data['IAT'].iloc[1:].expanding().mean()\n",
    "data['TSIS-ave'].iloc[1:] = data['TSIS'].iloc[1:].expanding().mean()\n",
    "data['E[N]'] = data['TSIS-ave']*lamda\n",
    "\n",
    "data.round(4).head()"
   ]
  },
  {
   "cell_type": "code",
   "execution_count": 51,
   "metadata": {},
   "outputs": [
    {
     "data": {
      "text/plain": [
       "Text(0.5, 0, 'Number of Events')"
      ]
     },
     "execution_count": 51,
     "metadata": {},
     "output_type": "execute_result"
    },
    {
     "data": {
      "image/png": "[encoded data removed]",
      "text/plain": [
       "<Figure size 648x432 with 1 Axes>"
      ]
     },
     "metadata": {
      "needs_background": "light"
     },
     "output_type": "display_data"
    }
   ],
   "source": [
    "plt.figure(figsize=[9,6])\n",
    "sns.lineplot(data.index, \n",
    "             data[\"E[N]\"])\n",
    "line = plt.axhline(E_N_MM1, \n",
    "                   color=\"r\", \n",
    "                   linestyle=\"--\", \n",
    "                   label = \"E[N] by Theory\")\n",
    "first_legend = plt.legend(handles=[line], \n",
    "                          loc='best')\n",
    "\n",
    "plt.title(\"E[N] by Events of M/M/1\", \n",
    "          fontsize=12, \n",
    "          fontfamily='sans serif')\n",
    "plt.ylabel(\"E[N]\", \n",
    "           fontsize=10, \n",
    "           fontfamily='sans serif')\n",
    "plt.xlabel(\"Number of Events\", \n",
    "           fontsize=10, \n",
    "           fontfamily='sans serif')"
   ]
  },
  {
   "cell_type": "markdown",
   "metadata": {},
   "source": [
    "# 2. M/D/1"
   ]
  },
  {
   "cell_type": "code",
   "execution_count": 42,
   "metadata": {},
   "outputs": [
    {
     "data": {
      "text/html": [
       "<div>\n",
       "<style scoped>\n",
       "    .dataframe tbody tr th:only-of-type {\n",
       "        vertical-align: middle;\n",
       "    }\n",
       "\n",
       "    .dataframe tbody tr th {\n",
       "        vertical-align: top;\n",
       "    }\n",
       "\n",
       "    .dataframe thead th {\n",
       "        text-align: right;\n",
       "    }\n",
       "</style>\n",
       "<table border=\"1\" class=\"dataframe\">\n",
       "  <thead>\n",
       "    <tr style=\"text-align: right;\">\n",
       "      <th></th>\n",
       "      <th>IAT</th>\n",
       "      <th>JQAT</th>\n",
       "      <th>ST</th>\n",
       "      <th>GSAT</th>\n",
       "      <th>LSAT</th>\n",
       "      <th>TSIS</th>\n",
       "      <th>TQIS</th>\n",
       "      <th>IAT-ave</th>\n",
       "      <th>TSIS-ave</th>\n",
       "      <th>E[N]</th>\n",
       "    </tr>\n",
       "  </thead>\n",
       "  <tbody>\n",
       "    <tr>\n",
       "      <th>0</th>\n",
       "      <td>0.0000</td>\n",
       "      <td>0.0000</td>\n",
       "      <td>0.0</td>\n",
       "      <td>0.0000</td>\n",
       "      <td>0.0000</td>\n",
       "      <td>0.0</td>\n",
       "      <td>0.0</td>\n",
       "      <td>0.0000</td>\n",
       "      <td>0.0</td>\n",
       "      <td>0.0</td>\n",
       "    </tr>\n",
       "    <tr>\n",
       "      <th>1</th>\n",
       "      <td>1.1756</td>\n",
       "      <td>1.1756</td>\n",
       "      <td>1.0</td>\n",
       "      <td>1.1756</td>\n",
       "      <td>2.1756</td>\n",
       "      <td>1.0</td>\n",
       "      <td>0.0</td>\n",
       "      <td>1.1756</td>\n",
       "      <td>1.0</td>\n",
       "      <td>0.8</td>\n",
       "    </tr>\n",
       "    <tr>\n",
       "      <th>2</th>\n",
       "      <td>2.4783</td>\n",
       "      <td>3.6538</td>\n",
       "      <td>1.0</td>\n",
       "      <td>3.6538</td>\n",
       "      <td>4.6538</td>\n",
       "      <td>1.0</td>\n",
       "      <td>-0.0</td>\n",
       "      <td>1.8269</td>\n",
       "      <td>1.0</td>\n",
       "      <td>0.8</td>\n",
       "    </tr>\n",
       "    <tr>\n",
       "      <th>3</th>\n",
       "      <td>3.7561</td>\n",
       "      <td>7.4099</td>\n",
       "      <td>1.0</td>\n",
       "      <td>7.4099</td>\n",
       "      <td>8.4099</td>\n",
       "      <td>1.0</td>\n",
       "      <td>0.0</td>\n",
       "      <td>2.4700</td>\n",
       "      <td>1.0</td>\n",
       "      <td>0.8</td>\n",
       "    </tr>\n",
       "    <tr>\n",
       "      <th>4</th>\n",
       "      <td>1.7648</td>\n",
       "      <td>9.1747</td>\n",
       "      <td>1.0</td>\n",
       "      <td>9.1747</td>\n",
       "      <td>10.1747</td>\n",
       "      <td>1.0</td>\n",
       "      <td>0.0</td>\n",
       "      <td>2.2937</td>\n",
       "      <td>1.0</td>\n",
       "      <td>0.8</td>\n",
       "    </tr>\n",
       "  </tbody>\n",
       "</table>\n",
       "</div>"
      ],
      "text/plain": [
       "      IAT    JQAT   ST    GSAT     LSAT  TSIS  TQIS  IAT-ave  TSIS-ave  E[N]\n",
       "0  0.0000  0.0000  0.0  0.0000   0.0000   0.0   0.0   0.0000       0.0   0.0\n",
       "1  1.1756  1.1756  1.0  1.1756   2.1756   1.0   0.0   1.1756       1.0   0.8\n",
       "2  2.4783  3.6538  1.0  3.6538   4.6538   1.0  -0.0   1.8269       1.0   0.8\n",
       "3  3.7561  7.4099  1.0  7.4099   8.4099   1.0   0.0   2.4700       1.0   0.8\n",
       "4  1.7648  9.1747  1.0  9.1747  10.1747   1.0   0.0   2.2937       1.0   0.8"
      ]
     },
     "execution_count": 42,
     "metadata": {},
     "output_type": "execute_result"
    }
   ],
   "source": [
    "IAT = [0] + [generate_random_exponential(lamda) for i in range(N)]\n",
    "ST = [0] + [1/mu for i in range(N)]\n",
    "GSAT = [0]\n",
    "LSAT = [0]\n",
    "\n",
    "data = pd.DataFrame(IAT, columns=['IAT'])\n",
    "data['JQAT'] = data['IAT'].cumsum()\n",
    "data['ST'] = pd.DataFrame(ST)\n",
    "\n",
    "JQAT = list(data.JQAT)\n",
    "for i in range(1, data.shape[0]):\n",
    "    if LSAT[i-1] < JQAT[i]:\n",
    "        GSAT.append(JQAT[i])\n",
    "    else:\n",
    "        GSAT.append(LSAT[i-1])\n",
    "    LSAT.append(ST[i] + GSAT[i])\n",
    "    \n",
    "data['GSAT'] = pd.DataFrame(GSAT)\n",
    "data['LSAT'] = pd.DataFrame(LSAT)\n",
    "data['TSIS'] = data['LSAT'] - data['JQAT']\n",
    "data['TQIS'] = data['TSIS'] - data['ST']\n",
    "data['IAT-ave'] = 0\n",
    "data['TSIS-ave'] = 0\n",
    "data['IAT-ave'].iloc[1:] = data['IAT'].iloc[1:].expanding().mean()\n",
    "data['TSIS-ave'].iloc[1:] = data['TSIS'].iloc[1:].expanding().mean()\n",
    "data['E[N]'] = data['TSIS-ave']*lamda\n",
    "\n",
    "data.round(4).head()"
   ]
  },
  {
   "cell_type": "code",
   "execution_count": 43,
   "metadata": {},
   "outputs": [
    {
     "data": {
      "text/plain": [
       "Text(0.5, 0, 'Number of Events')"
      ]
     },
     "execution_count": 43,
     "metadata": {},
     "output_type": "execute_result"
    },
    {
     "data": {
      "image/png": "[encoded data removed]",
      "text/plain": [
       "<Figure size 648x432 with 1 Axes>"
      ]
     },
     "metadata": {
      "needs_background": "light"
     },
     "output_type": "display_data"
    }
   ],
   "source": [
    "plt.figure(figsize=[9,6])\n",
    "sns.lineplot(data.index, \n",
    "             data[\"E[N]\"])\n",
    "line = plt.axhline(E_N_MD1, \n",
    "                   color=\"r\", \n",
    "                   linestyle=\"--\", \n",
    "                   label = \"E[N] by Theory\")\n",
    "first_legend = plt.legend(handles=[line], \n",
    "                          loc='best')\n",
    "\n",
    "plt.title(\"E[N] by Events of M/D/1\", \n",
    "          fontsize=12, \n",
    "          fontfamily='sans serif')\n",
    "plt.ylabel(\"E[N]\", \n",
    "           fontsize=10, \n",
    "           fontfamily='sans serif')\n",
    "plt.xlabel(\"Number of Events\", \n",
    "           fontsize=10, \n",
    "           fontfamily='sans serif')"
   ]
  },
  {
   "cell_type": "code",
   "execution_count": null,
   "metadata": {},
   "outputs": [],
   "source": []
  },
  {
   "cell_type": "code",
   "execution_count": null,
   "metadata": {},
   "outputs": [],
   "source": []
  }
 ],
 "metadata": {
  "kernelspec": {
   "display_name": "Python 3",
   "language": "python",
   "name": "python3"
  },
  "language_info": {
   "codemirror_mode": {
    "name": "ipython",
    "version": 3
   },
   "file_extension": ".py",
   "mimetype": "text/x-python",
   "name": "python",
   "nbconvert_exporter": "python",
   "pygments_lexer": "ipython3",
   "version": "3.7.3"
  }
 },
 "nbformat": 4,
 "nbformat_minor": 4
}
